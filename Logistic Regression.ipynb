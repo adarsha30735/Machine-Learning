{
 "cells": [
  {
   "cell_type": "markdown",
   "metadata": {},
   "source": [
    "# Logistic Regression\n",
    "\n",
    "Task/Problem Statement: \n",
    "\n",
    "-The goal of this assignment is to solve multi-class classification problems using the\n",
    "Logistic Regression model and use a visualization technique for analyzing errors.\n",
    "- Part A: Multi-class Classification – Structured Data\n",
    "- Part B: Multi-class Classification – Unstructured Data & Analysis of Model \n",
    "\n",
    "\n",
    "### Dataset\n",
    "\n",
    "Dataset:\n",
    "The dataset, given in the winequality-white.csv file.\n",
    "\n",
    "\n",
    "##### Description: \n",
    "It is related to the white variants of the\n",
    "Portuguese “Vinho Verde” wine. It provides the physicochemical (inputs) and sensory\n",
    "(output) variables. The dataset consists of characteristics of white wine (e.g., alcohol\n",
    "content, density, amount of citric acid, pH, etc.) with the target variable “quality”\n",
    "representing the rating of wine. The target variable “quality” ranges from 3 to 9. A higher\n",
    "rating indicates better quality of the wine. The classes are ordered and not balanced (e.g.,\n",
    "there are much more normal wines than excellent or poor ones).\n",
    "\n",
    "###### Source:\n",
    "https://uofnelincoln-my.sharepoint.com/personal/mhasan2_unl_edu/_layouts/15/onedrive.aspx?ga=1&id=%2Fpersonal%2Fmhasan2_unl_edu%2FDocuments%2FPractical%20Machine%20Learning\n",
    "\n",
    "\n",
    "##### Input variables:\n",
    "Input features (based on physicochemical tests):\n",
    "- fixed acidity\n",
    "- volatile acidity\n",
    "- citric acid\n",
    "- residual sugar\n",
    "- chlorides\n",
    "- free sulfur dioxide\n",
    "- total sulfur dioxide\n",
    "- density\n",
    "- pH\n",
    "- sulphates\n",
    "- alcohol\n",
    "\n",
    "##### Output variable: \n",
    "“quality” representing the rating of wine. The target variable “quality” ranges from 3 to 9\n"
   ]
  },
  {
   "cell_type": "code",
   "execution_count": 11,
   "metadata": {},
   "outputs": [],
   "source": [
    "# Import python modules\n",
    "# Import python modules\n",
    "\n",
    "import warnings\n",
    "import numpy as np\n",
    "import pandas as pd\n",
    "import random\n",
    "\n",
    "from sklearn import datasets\n",
    "from sklearn.preprocessing import PolynomialFeatures, StandardScaler\n",
    "from sklearn.model_selection import train_test_split, GridSearchCV\n",
    "from sklearn.pipeline import Pipeline\n",
    "\n",
    "import matplotlib.pyplot as plt\n",
    "%matplotlib inline\n",
    "from sklearn import datasets\n",
    "from sklearn.preprocessing import StandardScaler\n",
    "from sklearn.neighbors import KNeighborsClassifier\n",
    "from sklearn.model_selection import train_test_split, GridSearchCV, cross_val_score, cross_val_predict\n",
    "from sklearn.metrics import confusion_matrix, precision_score, recall_score, f1_score, roc_curve, roc_auc_score\n",
    "from sklearn.metrics import precision_recall_curve, classification_report\n",
    "from sklearn.metrics import classification_report\n",
    "\n",
    "from sklearn.linear_model import LogisticRegression\n",
    "\n",
    "\n"
   ]
  },
  {
   "cell_type": "markdown",
   "metadata": {},
   "source": [
    "## Load Data & Display Dataset Information"
   ]
  },
  {
   "cell_type": "code",
   "execution_count": 12,
   "metadata": {},
   "outputs": [
    {
     "data": {
      "text/html": [
       "<div>\n",
       "<style scoped>\n",
       "    .dataframe tbody tr th:only-of-type {\n",
       "        vertical-align: middle;\n",
       "    }\n",
       "\n",
       "    .dataframe tbody tr th {\n",
       "        vertical-align: top;\n",
       "    }\n",
       "\n",
       "    .dataframe thead th {\n",
       "        text-align: right;\n",
       "    }\n",
       "</style>\n",
       "<table border=\"1\" class=\"dataframe\">\n",
       "  <thead>\n",
       "    <tr style=\"text-align: right;\">\n",
       "      <th></th>\n",
       "      <th>fixed acidity</th>\n",
       "      <th>volatile acidity</th>\n",
       "      <th>citric acid</th>\n",
       "      <th>residual sugar</th>\n",
       "      <th>chlorides</th>\n",
       "      <th>free sulfur dioxide</th>\n",
       "      <th>total sulfur dioxide</th>\n",
       "      <th>density</th>\n",
       "      <th>pH</th>\n",
       "      <th>sulphates</th>\n",
       "      <th>alcohol</th>\n",
       "      <th>quality</th>\n",
       "    </tr>\n",
       "  </thead>\n",
       "  <tbody>\n",
       "    <tr>\n",
       "      <th>0</th>\n",
       "      <td>7.0</td>\n",
       "      <td>0.27</td>\n",
       "      <td>0.36</td>\n",
       "      <td>20.7</td>\n",
       "      <td>0.045</td>\n",
       "      <td>45.0</td>\n",
       "      <td>170.0</td>\n",
       "      <td>1.0010</td>\n",
       "      <td>3.00</td>\n",
       "      <td>0.45</td>\n",
       "      <td>8.8</td>\n",
       "      <td>6</td>\n",
       "    </tr>\n",
       "    <tr>\n",
       "      <th>1</th>\n",
       "      <td>6.3</td>\n",
       "      <td>0.30</td>\n",
       "      <td>0.34</td>\n",
       "      <td>1.6</td>\n",
       "      <td>0.049</td>\n",
       "      <td>14.0</td>\n",
       "      <td>132.0</td>\n",
       "      <td>0.9940</td>\n",
       "      <td>3.30</td>\n",
       "      <td>0.49</td>\n",
       "      <td>9.5</td>\n",
       "      <td>6</td>\n",
       "    </tr>\n",
       "    <tr>\n",
       "      <th>2</th>\n",
       "      <td>8.1</td>\n",
       "      <td>0.28</td>\n",
       "      <td>0.40</td>\n",
       "      <td>6.9</td>\n",
       "      <td>0.050</td>\n",
       "      <td>30.0</td>\n",
       "      <td>97.0</td>\n",
       "      <td>0.9951</td>\n",
       "      <td>3.26</td>\n",
       "      <td>0.44</td>\n",
       "      <td>10.1</td>\n",
       "      <td>6</td>\n",
       "    </tr>\n",
       "    <tr>\n",
       "      <th>3</th>\n",
       "      <td>7.2</td>\n",
       "      <td>0.23</td>\n",
       "      <td>0.32</td>\n",
       "      <td>8.5</td>\n",
       "      <td>0.058</td>\n",
       "      <td>47.0</td>\n",
       "      <td>186.0</td>\n",
       "      <td>0.9956</td>\n",
       "      <td>3.19</td>\n",
       "      <td>0.40</td>\n",
       "      <td>9.9</td>\n",
       "      <td>6</td>\n",
       "    </tr>\n",
       "  </tbody>\n",
       "</table>\n",
       "</div>"
      ],
      "text/plain": [
       "   fixed acidity  volatile acidity  citric acid  residual sugar  chlorides  \\\n",
       "0            7.0              0.27         0.36            20.7      0.045   \n",
       "1            6.3              0.30         0.34             1.6      0.049   \n",
       "2            8.1              0.28         0.40             6.9      0.050   \n",
       "3            7.2              0.23         0.32             8.5      0.058   \n",
       "\n",
       "   free sulfur dioxide  total sulfur dioxide  density    pH  sulphates  \\\n",
       "0                 45.0                 170.0   1.0010  3.00       0.45   \n",
       "1                 14.0                 132.0   0.9940  3.30       0.49   \n",
       "2                 30.0                  97.0   0.9951  3.26       0.44   \n",
       "3                 47.0                 186.0   0.9956  3.19       0.40   \n",
       "\n",
       "   alcohol  quality  \n",
       "0      8.8        6  \n",
       "1      9.5        6  \n",
       "2     10.1        6  \n",
       "3      9.9        6  "
      ]
     },
     "execution_count": 12,
     "metadata": {},
     "output_type": "execute_result"
    }
   ],
   "source": [
    "df = pd.read_excel('/Users/adars/Documents/ML/Assignment 3\\winequality-white.xlsx')\n",
    "\n",
    "#First five rows\n",
    "df[0:4]\n"
   ]
  },
  {
   "cell_type": "markdown",
   "metadata": {},
   "source": [
    "## Data Pre-processing\n"
   ]
  },
  {
   "cell_type": "code",
   "execution_count": 13,
   "metadata": {},
   "outputs": [
    {
     "data": {
      "text/html": [
       "<div>\n",
       "<style scoped>\n",
       "    .dataframe tbody tr th:only-of-type {\n",
       "        vertical-align: middle;\n",
       "    }\n",
       "\n",
       "    .dataframe tbody tr th {\n",
       "        vertical-align: top;\n",
       "    }\n",
       "\n",
       "    .dataframe thead th {\n",
       "        text-align: right;\n",
       "    }\n",
       "</style>\n",
       "<table border=\"1\" class=\"dataframe\">\n",
       "  <thead>\n",
       "    <tr style=\"text-align: right;\">\n",
       "      <th></th>\n",
       "      <th>fixed acidity</th>\n",
       "      <th>volatile acidity</th>\n",
       "      <th>citric acid</th>\n",
       "      <th>residual sugar</th>\n",
       "      <th>chlorides</th>\n",
       "      <th>free sulfur dioxide</th>\n",
       "      <th>total sulfur dioxide</th>\n",
       "      <th>density</th>\n",
       "      <th>pH</th>\n",
       "      <th>sulphates</th>\n",
       "      <th>alcohol</th>\n",
       "      <th>quality</th>\n",
       "    </tr>\n",
       "  </thead>\n",
       "  <tbody>\n",
       "    <tr>\n",
       "      <th>0</th>\n",
       "      <td>7.0</td>\n",
       "      <td>0.27</td>\n",
       "      <td>0.36</td>\n",
       "      <td>20.7</td>\n",
       "      <td>0.045</td>\n",
       "      <td>45.0</td>\n",
       "      <td>170.0</td>\n",
       "      <td>1.00100</td>\n",
       "      <td>3.00</td>\n",
       "      <td>0.45</td>\n",
       "      <td>8.8</td>\n",
       "      <td>6</td>\n",
       "    </tr>\n",
       "    <tr>\n",
       "      <th>1</th>\n",
       "      <td>6.3</td>\n",
       "      <td>0.30</td>\n",
       "      <td>0.34</td>\n",
       "      <td>1.6</td>\n",
       "      <td>0.049</td>\n",
       "      <td>14.0</td>\n",
       "      <td>132.0</td>\n",
       "      <td>0.99400</td>\n",
       "      <td>3.30</td>\n",
       "      <td>0.49</td>\n",
       "      <td>9.5</td>\n",
       "      <td>6</td>\n",
       "    </tr>\n",
       "    <tr>\n",
       "      <th>2</th>\n",
       "      <td>8.1</td>\n",
       "      <td>0.28</td>\n",
       "      <td>0.40</td>\n",
       "      <td>6.9</td>\n",
       "      <td>0.050</td>\n",
       "      <td>30.0</td>\n",
       "      <td>97.0</td>\n",
       "      <td>0.99510</td>\n",
       "      <td>3.26</td>\n",
       "      <td>0.44</td>\n",
       "      <td>10.1</td>\n",
       "      <td>6</td>\n",
       "    </tr>\n",
       "    <tr>\n",
       "      <th>3</th>\n",
       "      <td>7.2</td>\n",
       "      <td>0.23</td>\n",
       "      <td>0.32</td>\n",
       "      <td>8.5</td>\n",
       "      <td>0.058</td>\n",
       "      <td>47.0</td>\n",
       "      <td>186.0</td>\n",
       "      <td>0.99560</td>\n",
       "      <td>3.19</td>\n",
       "      <td>0.40</td>\n",
       "      <td>9.9</td>\n",
       "      <td>6</td>\n",
       "    </tr>\n",
       "    <tr>\n",
       "      <th>4</th>\n",
       "      <td>7.2</td>\n",
       "      <td>0.23</td>\n",
       "      <td>0.32</td>\n",
       "      <td>8.5</td>\n",
       "      <td>0.058</td>\n",
       "      <td>47.0</td>\n",
       "      <td>186.0</td>\n",
       "      <td>0.99560</td>\n",
       "      <td>3.19</td>\n",
       "      <td>0.40</td>\n",
       "      <td>9.9</td>\n",
       "      <td>6</td>\n",
       "    </tr>\n",
       "    <tr>\n",
       "      <th>...</th>\n",
       "      <td>...</td>\n",
       "      <td>...</td>\n",
       "      <td>...</td>\n",
       "      <td>...</td>\n",
       "      <td>...</td>\n",
       "      <td>...</td>\n",
       "      <td>...</td>\n",
       "      <td>...</td>\n",
       "      <td>...</td>\n",
       "      <td>...</td>\n",
       "      <td>...</td>\n",
       "      <td>...</td>\n",
       "    </tr>\n",
       "    <tr>\n",
       "      <th>4893</th>\n",
       "      <td>6.2</td>\n",
       "      <td>0.21</td>\n",
       "      <td>0.29</td>\n",
       "      <td>1.6</td>\n",
       "      <td>0.039</td>\n",
       "      <td>24.0</td>\n",
       "      <td>92.0</td>\n",
       "      <td>0.99114</td>\n",
       "      <td>3.27</td>\n",
       "      <td>0.50</td>\n",
       "      <td>11.2</td>\n",
       "      <td>6</td>\n",
       "    </tr>\n",
       "    <tr>\n",
       "      <th>4894</th>\n",
       "      <td>6.6</td>\n",
       "      <td>0.32</td>\n",
       "      <td>0.36</td>\n",
       "      <td>8.0</td>\n",
       "      <td>0.047</td>\n",
       "      <td>57.0</td>\n",
       "      <td>168.0</td>\n",
       "      <td>0.99490</td>\n",
       "      <td>3.15</td>\n",
       "      <td>0.46</td>\n",
       "      <td>9.6</td>\n",
       "      <td>5</td>\n",
       "    </tr>\n",
       "    <tr>\n",
       "      <th>4895</th>\n",
       "      <td>6.5</td>\n",
       "      <td>0.24</td>\n",
       "      <td>0.19</td>\n",
       "      <td>1.2</td>\n",
       "      <td>0.041</td>\n",
       "      <td>30.0</td>\n",
       "      <td>111.0</td>\n",
       "      <td>0.99254</td>\n",
       "      <td>2.99</td>\n",
       "      <td>0.46</td>\n",
       "      <td>9.4</td>\n",
       "      <td>6</td>\n",
       "    </tr>\n",
       "    <tr>\n",
       "      <th>4896</th>\n",
       "      <td>5.5</td>\n",
       "      <td>0.29</td>\n",
       "      <td>0.30</td>\n",
       "      <td>1.1</td>\n",
       "      <td>0.022</td>\n",
       "      <td>20.0</td>\n",
       "      <td>110.0</td>\n",
       "      <td>0.98869</td>\n",
       "      <td>3.34</td>\n",
       "      <td>0.38</td>\n",
       "      <td>12.8</td>\n",
       "      <td>7</td>\n",
       "    </tr>\n",
       "    <tr>\n",
       "      <th>4897</th>\n",
       "      <td>6.0</td>\n",
       "      <td>0.21</td>\n",
       "      <td>0.38</td>\n",
       "      <td>0.8</td>\n",
       "      <td>0.020</td>\n",
       "      <td>22.0</td>\n",
       "      <td>98.0</td>\n",
       "      <td>0.98941</td>\n",
       "      <td>3.26</td>\n",
       "      <td>0.32</td>\n",
       "      <td>11.8</td>\n",
       "      <td>6</td>\n",
       "    </tr>\n",
       "  </tbody>\n",
       "</table>\n",
       "<p>4898 rows × 12 columns</p>\n",
       "</div>"
      ],
      "text/plain": [
       "      fixed acidity  volatile acidity  citric acid  residual sugar  chlorides  \\\n",
       "0               7.0              0.27         0.36            20.7      0.045   \n",
       "1               6.3              0.30         0.34             1.6      0.049   \n",
       "2               8.1              0.28         0.40             6.9      0.050   \n",
       "3               7.2              0.23         0.32             8.5      0.058   \n",
       "4               7.2              0.23         0.32             8.5      0.058   \n",
       "...             ...               ...          ...             ...        ...   \n",
       "4893            6.2              0.21         0.29             1.6      0.039   \n",
       "4894            6.6              0.32         0.36             8.0      0.047   \n",
       "4895            6.5              0.24         0.19             1.2      0.041   \n",
       "4896            5.5              0.29         0.30             1.1      0.022   \n",
       "4897            6.0              0.21         0.38             0.8      0.020   \n",
       "\n",
       "      free sulfur dioxide  total sulfur dioxide  density    pH  sulphates  \\\n",
       "0                    45.0                 170.0  1.00100  3.00       0.45   \n",
       "1                    14.0                 132.0  0.99400  3.30       0.49   \n",
       "2                    30.0                  97.0  0.99510  3.26       0.44   \n",
       "3                    47.0                 186.0  0.99560  3.19       0.40   \n",
       "4                    47.0                 186.0  0.99560  3.19       0.40   \n",
       "...                   ...                   ...      ...   ...        ...   \n",
       "4893                 24.0                  92.0  0.99114  3.27       0.50   \n",
       "4894                 57.0                 168.0  0.99490  3.15       0.46   \n",
       "4895                 30.0                 111.0  0.99254  2.99       0.46   \n",
       "4896                 20.0                 110.0  0.98869  3.34       0.38   \n",
       "4897                 22.0                  98.0  0.98941  3.26       0.32   \n",
       "\n",
       "      alcohol  quality  \n",
       "0         8.8        6  \n",
       "1         9.5        6  \n",
       "2        10.1        6  \n",
       "3         9.9        6  \n",
       "4         9.9        6  \n",
       "...       ...      ...  \n",
       "4893     11.2        6  \n",
       "4894      9.6        5  \n",
       "4895      9.4        6  \n",
       "4896     12.8        7  \n",
       "4897     11.8        6  \n",
       "\n",
       "[4898 rows x 12 columns]"
      ]
     },
     "execution_count": 13,
     "metadata": {},
     "output_type": "execute_result"
    }
   ],
   "source": [
    "#Create a deep copy of the DataFrame object \n",
    "df_main = df.copy()\n",
    "df_main"
   ]
  },
  {
   "cell_type": "markdown",
   "metadata": {},
   "source": [
    "## Data Analysis"
   ]
  },
  {
   "cell_type": "code",
   "execution_count": 14,
   "metadata": {},
   "outputs": [
    {
     "data": {
      "text/plain": [
       "array([[<AxesSubplot:title={'center':'quality'}>]], dtype=object)"
      ]
     },
     "execution_count": 14,
     "metadata": {},
     "output_type": "execute_result"
    },
    {
     "data": {
      "image/png": "[encoded data removed]",
      "text/plain": [
       "<Figure size 432x288 with 1 Axes>"
      ]
     },
     "metadata": {
      "needs_background": "light"
     },
     "output_type": "display_data"
    }
   ],
   "source": [
    "#  a bar plot of “df” to display the class distribution.\n",
    "df.hist(column='quality')"
   ]
  },
  {
   "cell_type": "markdown",
   "metadata": {},
   "source": [
    "## Create Data Matrix X and Target y"
   ]
  },
  {
   "cell_type": "code",
   "execution_count": 15,
   "metadata": {},
   "outputs": [
    {
     "name": "stdout",
     "output_type": "stream",
     "text": [
      "      fixed acidity  volatile acidity  citric acid  residual sugar  chlorides  \\\n",
      "0               7.0              0.27         0.36            20.7      0.045   \n",
      "1               6.3              0.30         0.34             1.6      0.049   \n",
      "2               8.1              0.28         0.40             6.9      0.050   \n",
      "3               7.2              0.23         0.32             8.5      0.058   \n",
      "4               7.2              0.23         0.32             8.5      0.058   \n",
      "...             ...               ...          ...             ...        ...   \n",
      "4893            6.2              0.21         0.29             1.6      0.039   \n",
      "4894            6.6              0.32         0.36             8.0      0.047   \n",
      "4895            6.5              0.24         0.19             1.2      0.041   \n",
      "4896            5.5              0.29         0.30             1.1      0.022   \n",
      "4897            6.0              0.21         0.38             0.8      0.020   \n",
      "\n",
      "      free sulfur dioxide  total sulfur dioxide  density    pH  sulphates  \\\n",
      "0                    45.0                 170.0  1.00100  3.00       0.45   \n",
      "1                    14.0                 132.0  0.99400  3.30       0.49   \n",
      "2                    30.0                  97.0  0.99510  3.26       0.44   \n",
      "3                    47.0                 186.0  0.99560  3.19       0.40   \n",
      "4                    47.0                 186.0  0.99560  3.19       0.40   \n",
      "...                   ...                   ...      ...   ...        ...   \n",
      "4893                 24.0                  92.0  0.99114  3.27       0.50   \n",
      "4894                 57.0                 168.0  0.99490  3.15       0.46   \n",
      "4895                 30.0                 111.0  0.99254  2.99       0.46   \n",
      "4896                 20.0                 110.0  0.98869  3.34       0.38   \n",
      "4897                 22.0                  98.0  0.98941  3.26       0.32   \n",
      "\n",
      "      alcohol  \n",
      "0         8.8  \n",
      "1         9.5  \n",
      "2        10.1  \n",
      "3         9.9  \n",
      "4         9.9  \n",
      "...       ...  \n",
      "4893     11.2  \n",
      "4894      9.6  \n",
      "4895      9.4  \n",
      "4896     12.8  \n",
      "4897     11.8  \n",
      "\n",
      "[4898 rows x 11 columns]\n",
      "0       6\n",
      "1       6\n",
      "2       6\n",
      "3       6\n",
      "4       6\n",
      "       ..\n",
      "4893    6\n",
      "4894    5\n",
      "4895    6\n",
      "4896    7\n",
      "4897    6\n",
      "Name: quality, Length: 4898, dtype: int64\n",
      "Data Matrix (X) Shape:  (4898, 11)\n",
      "Label Array (y) Shape:  (4898,)\n",
      "\n",
      "Data Matrix (X) Type:  float64\n",
      "Label Array (y) Type:  int32\n"
     ]
    }
   ],
   "source": [
    "#Convert the feature and target DataFrame objects into NumPy arrays\n",
    "\n",
    "# Create separate data frame objects for X (features) and y (target)\n",
    "\n",
    "X = df.drop(columns='quality')  \n",
    "y = df['quality'] \n",
    "\n",
    "print(X)\n",
    "print(y)\n",
    "\n",
    "X = np.asarray(X) # Data Matrix containing all features excluding the target\n",
    "y = np.asarray(y) # 1D target array\n",
    "\n",
    "#converting to integer type\n",
    "y = y.astype(int)\n",
    "\n",
    "\n",
    "print(\"Data Matrix (X) Shape: \", X.shape)\n",
    "print(\"Label Array (y) Shape: \", y.shape)\n",
    "\n",
    "print(\"\\nData Matrix (X) Type: \", X.dtype)\n",
    "print(\"Label Array (y) Type: \", y.dtype)\n"
   ]
  },
  {
   "cell_type": "markdown",
   "metadata": {},
   "source": [
    "## Partition the Dataset into Train & Test Subsets"
   ]
  },
  {
   "cell_type": "code",
   "execution_count": 16,
   "metadata": {},
   "outputs": [],
   "source": [
    "X_train, X_test, y_train, y_test = train_test_split(X, y, test_size=0.2, random_state=2)\n",
    "\n",
    "X_train_lr = X_train.copy()\n",
    "X_test_lr = X_test.copy()\n",
    "\n",
    "X_train_plr = X_train.copy()\n",
    "X_test_plr = X_test.copy()"
   ]
  },
  {
   "cell_type": "markdown",
   "metadata": {},
   "source": [
    "## Experiment 1  Model: KNN Model"
   ]
  },
  {
   "cell_type": "markdown",
   "metadata": {},
   "source": [
    "## Standardize the Data"
   ]
  },
  {
   "cell_type": "code",
   "execution_count": 17,
   "metadata": {},
   "outputs": [],
   "source": [
    "scaler = StandardScaler()\n",
    "\n",
    "# Fit on training set only.\n",
    "scaler.fit(X_train)\n",
    "\n",
    "# Apply transform to both the training set and the test set.\n",
    "X_train = scaler.transform(X_train)\n",
    "X_test = scaler.transform(X_test)\n"
   ]
  },
  {
   "cell_type": "markdown",
   "metadata": {},
   "source": [
    "## Model Selection"
   ]
  },
  {
   "cell_type": "code",
   "execution_count": 18,
   "metadata": {},
   "outputs": [
    {
     "name": "stdout",
     "output_type": "stream",
     "text": [
      "Fitting 5 folds for each of 294 candidates, totalling 1470 fits\n",
      "Best Score: 0.676368\n",
      "Optimal Hyperparameter Values:  {'n_neighbors': 49, 'p': 1, 'weights': 'distance'}\n",
      "\n",
      "\n",
      "CPU times: total: 4.28 s\n",
      "Wall time: 55.4 s\n"
     ]
    }
   ],
   "source": [
    "%%time\n",
    "\n",
    "warnings.filterwarnings('ignore')\n",
    "\n",
    "# The param_grid tells Scikit-Learn to evaluate all combinations of the hyperparameter values\n",
    "param_grid = {'n_neighbors': np.arange(1,50), 'p': [1, 2, 10], \n",
    "              'weights': [\"uniform\", \"distance\"]}\n",
    "\n",
    "knn_clf = KNeighborsClassifier()\n",
    "\n",
    "knn_cv = GridSearchCV(knn_clf, param_grid, scoring='f1_micro', cv=5, verbose=3, n_jobs=-1)\n",
    "knn_cv.fit(X_train, y_train)\n",
    "\n",
    "\n",
    "params_optimal_knn = knn_cv.best_params_\n",
    "\n",
    "print(\"Best Score: %f\" % knn_cv.best_score_)\n",
    "print(\"Optimal Hyperparameter Values: \", params_optimal_knn)\n",
    "print(\"\\n\")"
   ]
  },
  {
   "cell_type": "markdown",
   "metadata": {},
   "source": [
    "## Train a Model Using Optimal Hyperparameters"
   ]
  },
  {
   "cell_type": "code",
   "execution_count": 19,
   "metadata": {},
   "outputs": [
    {
     "name": "stdout",
     "output_type": "stream",
     "text": [
      "CPU times: total: 391 ms\n",
      "Wall time: 380 ms\n"
     ]
    }
   ],
   "source": [
    "%%time\n",
    "\n",
    "#Use the optimal hyperparameter values to train a new model, as follows.\n",
    "\n",
    "knn = KNeighborsClassifier(**params_optimal_knn)\n",
    "\n",
    "knn.fit(X_train, y_train)\n",
    "\n",
    "y_train_predicted = knn.predict(X_train)\n"
   ]
  },
  {
   "cell_type": "markdown",
   "metadata": {},
   "source": [
    "## Evaluate the Model "
   ]
  },
  {
   "cell_type": "code",
   "execution_count": 20,
   "metadata": {},
   "outputs": [
    {
     "name": "stdout",
     "output_type": "stream",
     "text": [
      "\n",
      "Training Accuracy:  1.0\n",
      "\n",
      "Test Accuracy:  0.6683673469387755\n",
      "\n",
      "No. of correct predictions (Test): 655/980\n",
      "\n",
      "Confusion Matrix (Test Data):\n",
      " [[  0   0   1   2   0   0   0]\n",
      " [  0   2  18  14   0   0   0]\n",
      " [  0   0 200 104   1   0   0]\n",
      " [  0   0  56 347  29   0   0]\n",
      " [  0   0   7  70  95   0   0]\n",
      " [  0   0   1  16   5  11   0]\n",
      " [  0   0   0   1   0   0   0]]\n",
      "\n",
      "Classification Report:\n",
      "              precision    recall  f1-score   support\n",
      "\n",
      "           3       0.00      0.00      0.00         3\n",
      "           4       1.00      0.06      0.11        34\n",
      "           5       0.71      0.66      0.68       305\n",
      "           6       0.63      0.80      0.70       432\n",
      "           7       0.73      0.55      0.63       172\n",
      "           8       1.00      0.33      0.50        33\n",
      "           9       0.00      0.00      0.00         1\n",
      "\n",
      "    accuracy                           0.67       980\n",
      "   macro avg       0.58      0.34      0.37       980\n",
      "weighted avg       0.69      0.67      0.65       980\n",
      "\n",
      "CPU times: total: 219 ms\n",
      "Wall time: 213 ms\n"
     ]
    }
   ],
   "source": [
    "%%time\n",
    "\n",
    "train_accuracy_knn = np.mean(y_train_predicted == y_train)\n",
    "print(\"\\nTraining Accuracy: \", train_accuracy_knn)\n",
    "\n",
    "# The accuracy of the model\n",
    "test_accuracy_knn = knn.score(X_test, y_test)\n",
    "print(\"\\nTest Accuracy: \", test_accuracy_knn)\n",
    "\n",
    "\n",
    "# No. of Correct Predictions\n",
    "y_test_predicted = knn.predict(X_test)\n",
    "print(\"\\nNo. of correct predictions (Test): %d/%d\" % (np.sum(y_test_predicted == y_test), len(y_test)))\n",
    "\n",
    "\n",
    "# Confusion Matrix\n",
    "print(\"\\nConfusion Matrix (Test Data):\\n\", confusion_matrix(y_test, y_test_predicted))\n",
    "\n",
    "print(\"\\nClassification Report:\")\n",
    "print(classification_report(y_test, y_test_predicted))\n"
   ]
  },
  {
   "cell_type": "markdown",
   "metadata": {},
   "source": [
    "# Experiment 1 Model : Logistic Regression (use batch Gradient Descent)"
   ]
  },
  {
   "cell_type": "markdown",
   "metadata": {},
   "source": [
    "## Model Selection for Softmax Regression: Hyperparameter Tuning"
   ]
  },
  {
   "cell_type": "markdown",
   "metadata": {},
   "source": [
    "## Standardize the Data"
   ]
  },
  {
   "cell_type": "code",
   "execution_count": 21,
   "metadata": {},
   "outputs": [],
   "source": [
    "scaler = StandardScaler()\n",
    "\n",
    "# Fit on training set only.\n",
    "scaler.fit(X_train_lr)\n",
    "\n",
    "# Apply transform to both the training set and the test set.\n",
    "X_train_lr = scaler.transform(X_train_lr)\n",
    "X_test_lr = scaler.transform(X_test_lr)"
   ]
  },
  {
   "cell_type": "code",
   "execution_count": 22,
   "metadata": {},
   "outputs": [
    {
     "name": "stdout",
     "output_type": "stream",
     "text": [
      "Fitting 3 folds for each of 162 candidates, totalling 486 fits\n",
      "Best Score (F1 score): 0.537264\n",
      "Optimal Hyperparameter Values:  {'C': 0.1, 'max_iter': 500, 'multi_class': 'multinomial', 'solver': 'newton-cg', 'tol': 0.001}\n",
      "\n",
      "\n",
      "CPU times: total: 2.77 s\n",
      "Wall time: 18.7 s\n"
     ]
    }
   ],
   "source": [
    "%%time\n",
    "param_grid_sm = {'solver': [ 'liblinear','newton-cg', 'lbfgs'], \n",
    "              'multi_class' : ['multinomial'],\n",
    "              'tol': [1e-3, 1e-4, 1e-5], 'max_iter':[500, 1000],'C': [0.001,0.01,0.1, 0.5, 1, 10, 15, 50, 100]}\n",
    "\n",
    "lg_reg = LogisticRegression()\n",
    "\n",
    "lg_reg_cv = GridSearchCV(lg_reg, param_grid_sm, scoring='f1_micro', cv=3, verbose=1, n_jobs=-1)\n",
    "lg_reg_cv.fit(X_train_lr, y_train)\n",
    "\n",
    "params_optimal_sm = lg_reg_cv.best_params_\n",
    "\n",
    "print(\"Best Score (F1 score): %f\" % lg_reg_cv.best_score_)\n",
    "print(\"Optimal Hyperparameter Values: \", params_optimal_sm)\n",
    "print(\"\\n\")"
   ]
  },
  {
   "cell_type": "markdown",
   "metadata": {},
   "source": [
    "## Train the Optimal Logistic Regression Classifier"
   ]
  },
  {
   "cell_type": "code",
   "execution_count": 24,
   "metadata": {},
   "outputs": [
    {
     "data": {
      "text/plain": [
       "LogisticRegression(C=0.1, max_iter=500, multi_class='multinomial',\n",
       "                   solver='newton-cg', tol=0.001)"
      ]
     },
     "execution_count": 24,
     "metadata": {},
     "output_type": "execute_result"
    }
   ],
   "source": [
    "lg_reg_sm = LogisticRegression(**params_optimal_sm)\n",
    "\n",
    "lg_reg_sm.fit(X_train_lr, y_train)"
   ]
  },
  {
   "cell_type": "markdown",
   "metadata": {},
   "source": [
    "## Evaluate the Optimal Classifier on Test Data"
   ]
  },
  {
   "cell_type": "code",
   "execution_count": 25,
   "metadata": {},
   "outputs": [
    {
     "name": "stdout",
     "output_type": "stream",
     "text": [
      "No. of Iterations: [16]\n",
      "\n",
      "Training Accuracy:  0.5431342521694742\n",
      "\n",
      "Test Accuracy:  0.539795918367347\n",
      "\n",
      "Test Confusion Matrix:\n",
      "[[  0   0   1   1   0   1   0]\n",
      " [  0   3  13  18   0   0   0]\n",
      " [  0   1 157 147   0   0   0]\n",
      " [  0   1  72 326  33   0   0]\n",
      " [  0   0   8 121  43   0   0]\n",
      " [  0   0   1  23   9   0   0]\n",
      " [  0   0   0   0   1   0   0]]\n",
      "\n",
      "Classification Report:\n",
      "              precision    recall  f1-score   support\n",
      "\n",
      "           3       0.00      0.00      0.00         3\n",
      "           4       0.60      0.09      0.15        34\n",
      "           5       0.62      0.51      0.56       305\n",
      "           6       0.51      0.75      0.61       432\n",
      "           7       0.50      0.25      0.33       172\n",
      "           8       0.00      0.00      0.00        33\n",
      "           9       0.00      0.00      0.00         1\n",
      "\n",
      "    accuracy                           0.54       980\n",
      "   macro avg       0.32      0.23      0.24       980\n",
      "weighted avg       0.53      0.54      0.51       980\n",
      "\n"
     ]
    }
   ],
   "source": [
    "print(\"No. of Iterations:\",lg_reg_sm.n_iter_ )\n",
    "\n",
    "y_train_predicted_sm = lg_reg_sm.predict(X_train_lr)\n",
    "\n",
    "train_accuracy_lr = np.mean(y_train_predicted_sm == y_train)\n",
    "print(\"\\nTraining Accuracy: \", train_accuracy_lr)\n",
    "\n",
    "y_test_predicted_sm = lg_reg_sm.predict(X_test_lr)\n",
    "#print(y_test_predict)\n",
    "\n",
    "accuracy_score_test_sm = np.mean(y_test_predicted_sm == y_test)\n",
    "print(\"\\nTest Accuracy: \", accuracy_score_test_sm)\n",
    "\n",
    "\n",
    "print(\"\\nTest Confusion Matrix:\")\n",
    "print(confusion_matrix(y_test, y_test_predicted_sm))\n",
    "\n",
    "\n",
    "print(\"\\nClassification Report:\")\n",
    "print(classification_report(y_test, y_test_predicted_sm))"
   ]
  },
  {
   "cell_type": "markdown",
   "metadata": {},
   "source": [
    "# Experiment 1 Model: Polynomial Logistic Regression (using batch Gradient Descent)"
   ]
  },
  {
   "cell_type": "code",
   "execution_count": 29,
   "metadata": {},
   "outputs": [],
   "source": [
    "scaler = StandardScaler()\n",
    "\n",
    "# Fit on training set only.\n",
    "scaler.fit(X_train_plr)\n",
    "\n",
    "# Apply transform to both the training set and the test set.\n",
    "X_train_plr = scaler.transform(X_train_plr)\n",
    "X_test_plr = scaler.transform(X_test_plr)"
   ]
  },
  {
   "cell_type": "markdown",
   "metadata": {},
   "source": [
    "## Trying with Degree 2"
   ]
  },
  {
   "cell_type": "code",
   "execution_count": 118,
   "metadata": {},
   "outputs": [
    {
     "data": {
      "text/plain": [
       "(3918, 77)"
      ]
     },
     "execution_count": 118,
     "metadata": {},
     "output_type": "execute_result"
    }
   ],
   "source": [
    "poly = PolynomialFeatures(degree = 2,  include_bias=False)\n",
    "X_poly = poly.fit_transform(X_train_plr)\n",
    "X_poly.shape"
   ]
  },
  {
   "cell_type": "markdown",
   "metadata": {},
   "source": [
    "Training the model"
   ]
  },
  {
   "cell_type": "code",
   "execution_count": 119,
   "metadata": {},
   "outputs": [
    {
     "data": {
      "text/plain": [
       "0.5469387755102041"
      ]
     },
     "execution_count": 119,
     "metadata": {},
     "output_type": "execute_result"
    }
   ],
   "source": [
    "lr = LogisticRegression()\n",
    "pipe = Pipeline([('polynomial_features',poly), ('logistic_regression',lr)])\n",
    "pipe.fit(X_train_plr, y_train)\n",
    "pipe.score(X_test_plr ,y_test)"
   ]
  },
  {
   "cell_type": "markdown",
   "metadata": {},
   "source": [
    "Evaluating the model with degree 2"
   ]
  },
  {
   "cell_type": "code",
   "execution_count": 120,
   "metadata": {},
   "outputs": [
    {
     "name": "stdout",
     "output_type": "stream",
     "text": [
      "\n",
      "Test Accuracy:  0.5469387755102041\n",
      "\n",
      "Test Confusion Matrix:\n",
      "[[  0   2   0   0   0   1   0]\n",
      " [  0   6  17  11   0   0   0]\n",
      " [  0   4 166 130   4   1   0]\n",
      " [  1   1  77 300  51   2   0]\n",
      " [  0   0   7  99  63   3   0]\n",
      " [  0   0   2  15  15   1   0]\n",
      " [  0   0   0   0   1   0   0]]\n",
      "\n",
      "Classification Report:\n",
      "              precision    recall  f1-score   support\n",
      "\n",
      "           3       0.00      0.00      0.00         3\n",
      "           4       0.46      0.18      0.26        34\n",
      "           5       0.62      0.54      0.58       305\n",
      "           6       0.54      0.69      0.61       432\n",
      "           7       0.47      0.37      0.41       172\n",
      "           8       0.12      0.03      0.05        33\n",
      "           9       0.00      0.00      0.00         1\n",
      "\n",
      "    accuracy                           0.55       980\n",
      "   macro avg       0.32      0.26      0.27       980\n",
      "weighted avg       0.53      0.55      0.53       980\n",
      "\n"
     ]
    }
   ],
   "source": [
    "y_test_predicted_p = pipe.predict(X_test_lr)\n",
    "#print(y_test_predict)\n",
    "\n",
    "accuracy_score_test_p = np.mean(y_test_predicted_p== y_test)\n",
    "print(\"\\nTest Accuracy: \", accuracy_score_test_p)\n",
    "\n",
    "\n",
    "print(\"\\nTest Confusion Matrix:\")\n",
    "print(confusion_matrix(y_test, y_test_predicted_p))\n",
    "\n",
    "\n",
    "print(\"\\nClassification Report:\")\n",
    "print(classification_report(y_test, y_test_predicted_p))"
   ]
  },
  {
   "cell_type": "markdown",
   "metadata": {},
   "source": [
    "## Trying with Degree 3"
   ]
  },
  {
   "cell_type": "code",
   "execution_count": 20,
   "metadata": {},
   "outputs": [
    {
     "data": {
      "text/plain": [
       "(3918, 363)"
      ]
     },
     "execution_count": 20,
     "metadata": {},
     "output_type": "execute_result"
    }
   ],
   "source": [
    "poly = PolynomialFeatures(degree = 3,  include_bias=False)\n",
    "X_poly = poly.fit_transform(X_train_plr)\n",
    "X_poly.shape"
   ]
  },
  {
   "cell_type": "code",
   "execution_count": 21,
   "metadata": {},
   "outputs": [
    {
     "name": "stderr",
     "output_type": "stream",
     "text": [
      "C:\\Users\\adars\\anaconda3\\lib\\site-packages\\sklearn\\linear_model\\_logistic.py:814: ConvergenceWarning: lbfgs failed to converge (status=1):\n",
      "STOP: TOTAL NO. of ITERATIONS REACHED LIMIT.\n",
      "\n",
      "Increase the number of iterations (max_iter) or scale the data as shown in:\n",
      "    https://scikit-learn.org/stable/modules/preprocessing.html\n",
      "Please also refer to the documentation for alternative solver options:\n",
      "    https://scikit-learn.org/stable/modules/linear_model.html#logistic-regression\n",
      "  n_iter_i = _check_optimize_result(\n"
     ]
    },
    {
     "data": {
      "text/plain": [
       "0.5346938775510204"
      ]
     },
     "execution_count": 21,
     "metadata": {},
     "output_type": "execute_result"
    }
   ],
   "source": [
    "lr = LogisticRegression()\n",
    "pipe = Pipeline([('polynomial_features',poly), ('logistic_regression',lr)])\n",
    "pipe.fit(X_train_plr, y_train)\n",
    "pipe.score(X_test_plr ,y_test)"
   ]
  },
  {
   "cell_type": "code",
   "execution_count": 22,
   "metadata": {},
   "outputs": [
    {
     "name": "stdout",
     "output_type": "stream",
     "text": [
      "\n",
      "Test Accuracy:  0.5346938775510204\n",
      "\n",
      "Test Confusion Matrix:\n",
      "[[  0   0   1   1   0   1   0]\n",
      " [  0   3  20  10   1   0   0]\n",
      " [  0  10 172 115   7   1   0]\n",
      " [  0   0  95 283  52   2   0]\n",
      " [  0   0   6  96  62   8   0]\n",
      " [  0   0   1  14  14   4   0]\n",
      " [  0   0   0   1   0   0   0]]\n",
      "\n",
      "Classification Report:\n",
      "              precision    recall  f1-score   support\n",
      "\n",
      "           3       0.00      0.00      0.00         3\n",
      "           4       0.23      0.09      0.13        34\n",
      "           5       0.58      0.56      0.57       305\n",
      "           6       0.54      0.66      0.59       432\n",
      "           7       0.46      0.36      0.40       172\n",
      "           8       0.25      0.12      0.16        33\n",
      "           9       0.00      0.00      0.00         1\n",
      "\n",
      "    accuracy                           0.53       980\n",
      "   macro avg       0.29      0.26      0.27       980\n",
      "weighted avg       0.52      0.53      0.52       980\n",
      "\n"
     ]
    },
    {
     "name": "stderr",
     "output_type": "stream",
     "text": [
      "C:\\Users\\adars\\anaconda3\\lib\\site-packages\\sklearn\\metrics\\_classification.py:1318: UndefinedMetricWarning: Precision and F-score are ill-defined and being set to 0.0 in labels with no predicted samples. Use `zero_division` parameter to control this behavior.\n",
      "  _warn_prf(average, modifier, msg_start, len(result))\n",
      "C:\\Users\\adars\\anaconda3\\lib\\site-packages\\sklearn\\metrics\\_classification.py:1318: UndefinedMetricWarning: Precision and F-score are ill-defined and being set to 0.0 in labels with no predicted samples. Use `zero_division` parameter to control this behavior.\n",
      "  _warn_prf(average, modifier, msg_start, len(result))\n",
      "C:\\Users\\adars\\anaconda3\\lib\\site-packages\\sklearn\\metrics\\_classification.py:1318: UndefinedMetricWarning: Precision and F-score are ill-defined and being set to 0.0 in labels with no predicted samples. Use `zero_division` parameter to control this behavior.\n",
      "  _warn_prf(average, modifier, msg_start, len(result))\n"
     ]
    }
   ],
   "source": [
    "y_test_predicted_p = pipe.predict(X_test_lr)\n",
    "#print(y_test_predict)\n",
    "\n",
    "accuracy_score_test_p = np.mean(y_test_predicted_p== y_test)\n",
    "print(\"\\nTest Accuracy: \", accuracy_score_test_p)\n",
    "\n",
    "\n",
    "print(\"\\nTest Confusion Matrix:\")\n",
    "print(confusion_matrix(y_test, y_test_predicted_p))\n",
    "\n",
    "\n",
    "print(\"\\nClassification Report:\")\n",
    "print(classification_report(y_test, y_test_predicted_p))"
   ]
  },
  {
   "cell_type": "markdown",
   "metadata": {},
   "source": [
    "## Trying with Degree 4"
   ]
  },
  {
   "cell_type": "code",
   "execution_count": 23,
   "metadata": {},
   "outputs": [
    {
     "data": {
      "text/plain": [
       "(3918, 1364)"
      ]
     },
     "execution_count": 23,
     "metadata": {},
     "output_type": "execute_result"
    }
   ],
   "source": [
    "poly = PolynomialFeatures(degree = 4,  include_bias=False)\n",
    "X_poly = poly.fit_transform(X_train_plr)\n",
    "X_poly.shape"
   ]
  },
  {
   "cell_type": "code",
   "execution_count": 24,
   "metadata": {},
   "outputs": [
    {
     "name": "stderr",
     "output_type": "stream",
     "text": [
      "C:\\Users\\adars\\anaconda3\\lib\\site-packages\\sklearn\\linear_model\\_logistic.py:814: ConvergenceWarning: lbfgs failed to converge (status=1):\n",
      "STOP: TOTAL NO. of ITERATIONS REACHED LIMIT.\n",
      "\n",
      "Increase the number of iterations (max_iter) or scale the data as shown in:\n",
      "    https://scikit-learn.org/stable/modules/preprocessing.html\n",
      "Please also refer to the documentation for alternative solver options:\n",
      "    https://scikit-learn.org/stable/modules/linear_model.html#logistic-regression\n",
      "  n_iter_i = _check_optimize_result(\n"
     ]
    },
    {
     "data": {
      "text/plain": [
       "0.5551020408163265"
      ]
     },
     "execution_count": 24,
     "metadata": {},
     "output_type": "execute_result"
    }
   ],
   "source": [
    "lr = LogisticRegression()\n",
    "pipe = Pipeline([('polynomial_features',poly), ('logistic_regression',lr)])\n",
    "pipe.fit(X_train_plr, y_train)\n",
    "pipe.score(X_test_plr ,y_test)"
   ]
  },
  {
   "cell_type": "code",
   "execution_count": 25,
   "metadata": {},
   "outputs": [
    {
     "name": "stdout",
     "output_type": "stream",
     "text": [
      "\n",
      "Test Accuracy:  0.5551020408163265\n",
      "\n",
      "Test Confusion Matrix:\n",
      "[[  0   1   2   0   0   0   0]\n",
      " [  0   4  19  10   1   0   0]\n",
      " [  0   7 170 125   3   0   0]\n",
      " [  0   6  82 309  32   3   0]\n",
      " [  0   0  10  98  58   6   0]\n",
      " [  0   1   3  16  10   3   0]\n",
      " [  0   0   0   1   0   0   0]]\n",
      "\n",
      "Classification Report:\n",
      "              precision    recall  f1-score   support\n",
      "\n",
      "           3       0.00      0.00      0.00         3\n",
      "           4       0.21      0.12      0.15        34\n",
      "           5       0.59      0.56      0.58       305\n",
      "           6       0.55      0.72      0.62       432\n",
      "           7       0.56      0.34      0.42       172\n",
      "           8       0.25      0.09      0.13        33\n",
      "           9       0.00      0.00      0.00         1\n",
      "\n",
      "    accuracy                           0.56       980\n",
      "   macro avg       0.31      0.26      0.27       980\n",
      "weighted avg       0.54      0.56      0.54       980\n",
      "\n"
     ]
    },
    {
     "name": "stderr",
     "output_type": "stream",
     "text": [
      "C:\\Users\\adars\\anaconda3\\lib\\site-packages\\sklearn\\metrics\\_classification.py:1318: UndefinedMetricWarning: Precision and F-score are ill-defined and being set to 0.0 in labels with no predicted samples. Use `zero_division` parameter to control this behavior.\n",
      "  _warn_prf(average, modifier, msg_start, len(result))\n",
      "C:\\Users\\adars\\anaconda3\\lib\\site-packages\\sklearn\\metrics\\_classification.py:1318: UndefinedMetricWarning: Precision and F-score are ill-defined and being set to 0.0 in labels with no predicted samples. Use `zero_division` parameter to control this behavior.\n",
      "  _warn_prf(average, modifier, msg_start, len(result))\n",
      "C:\\Users\\adars\\anaconda3\\lib\\site-packages\\sklearn\\metrics\\_classification.py:1318: UndefinedMetricWarning: Precision and F-score are ill-defined and being set to 0.0 in labels with no predicted samples. Use `zero_division` parameter to control this behavior.\n",
      "  _warn_prf(average, modifier, msg_start, len(result))\n"
     ]
    }
   ],
   "source": [
    "y_test_predicted_p = pipe.predict(X_test_lr)\n",
    "#print(y_test_predict)\n",
    "\n",
    "accuracy_score_test_p = np.mean(y_test_predicted_p== y_test)\n",
    "print(\"\\nTest Accuracy: \", accuracy_score_test_p)\n",
    "\n",
    "\n",
    "print(\"\\nTest Confusion Matrix:\")\n",
    "print(confusion_matrix(y_test, y_test_predicted_p))\n",
    "\n",
    "\n",
    "print(\"\\nClassification Report:\")\n",
    "print(classification_report(y_test, y_test_predicted_p))"
   ]
  },
  {
   "cell_type": "markdown",
   "metadata": {},
   "source": [
    "## Trying with Degree 5 "
   ]
  },
  {
   "cell_type": "code",
   "execution_count": 26,
   "metadata": {},
   "outputs": [
    {
     "data": {
      "text/plain": [
       "(3918, 4367)"
      ]
     },
     "execution_count": 26,
     "metadata": {},
     "output_type": "execute_result"
    }
   ],
   "source": [
    "poly = PolynomialFeatures(degree = 5,  include_bias=False)\n",
    "X_poly = poly.fit_transform(X_train_plr)\n",
    "X_poly.shape"
   ]
  },
  {
   "cell_type": "code",
   "execution_count": 27,
   "metadata": {},
   "outputs": [
    {
     "name": "stderr",
     "output_type": "stream",
     "text": [
      "C:\\Users\\adars\\anaconda3\\lib\\site-packages\\sklearn\\linear_model\\_logistic.py:814: ConvergenceWarning: lbfgs failed to converge (status=1):\n",
      "STOP: TOTAL NO. of ITERATIONS REACHED LIMIT.\n",
      "\n",
      "Increase the number of iterations (max_iter) or scale the data as shown in:\n",
      "    https://scikit-learn.org/stable/modules/preprocessing.html\n",
      "Please also refer to the documentation for alternative solver options:\n",
      "    https://scikit-learn.org/stable/modules/linear_model.html#logistic-regression\n",
      "  n_iter_i = _check_optimize_result(\n"
     ]
    },
    {
     "data": {
      "text/plain": [
       "0.536734693877551"
      ]
     },
     "execution_count": 27,
     "metadata": {},
     "output_type": "execute_result"
    }
   ],
   "source": [
    "lr = LogisticRegression()\n",
    "pipe = Pipeline([('polynomial_features',poly), ('logistic_regression',lr)])\n",
    "pipe.fit(X_train_plr, y_train)\n",
    "pipe.score(X_test_plr ,y_test)"
   ]
  },
  {
   "cell_type": "code",
   "execution_count": 28,
   "metadata": {},
   "outputs": [
    {
     "name": "stdout",
     "output_type": "stream",
     "text": [
      "\n",
      "Test Accuracy:  0.536734693877551\n",
      "\n",
      "Test Confusion Matrix:\n",
      "[[  1   0   1   1   0   0   0]\n",
      " [  0   2  19  12   1   0   0]\n",
      " [  0   3 159 138   5   0   0]\n",
      " [  0   5  83 312  30   2   0]\n",
      " [  0   0   6 112  51   3   0]\n",
      " [  0   0   2  20  10   1   0]\n",
      " [  0   0   0   0   1   0   0]]\n",
      "\n",
      "Classification Report:\n",
      "              precision    recall  f1-score   support\n",
      "\n",
      "           3       1.00      0.33      0.50         3\n",
      "           4       0.20      0.06      0.09        34\n",
      "           5       0.59      0.52      0.55       305\n",
      "           6       0.52      0.72      0.61       432\n",
      "           7       0.52      0.30      0.38       172\n",
      "           8       0.17      0.03      0.05        33\n",
      "           9       0.00      0.00      0.00         1\n",
      "\n",
      "    accuracy                           0.54       980\n",
      "   macro avg       0.43      0.28      0.31       980\n",
      "weighted avg       0.52      0.54      0.51       980\n",
      "\n"
     ]
    },
    {
     "name": "stderr",
     "output_type": "stream",
     "text": [
      "C:\\Users\\adars\\anaconda3\\lib\\site-packages\\sklearn\\metrics\\_classification.py:1318: UndefinedMetricWarning: Precision and F-score are ill-defined and being set to 0.0 in labels with no predicted samples. Use `zero_division` parameter to control this behavior.\n",
      "  _warn_prf(average, modifier, msg_start, len(result))\n",
      "C:\\Users\\adars\\anaconda3\\lib\\site-packages\\sklearn\\metrics\\_classification.py:1318: UndefinedMetricWarning: Precision and F-score are ill-defined and being set to 0.0 in labels with no predicted samples. Use `zero_division` parameter to control this behavior.\n",
      "  _warn_prf(average, modifier, msg_start, len(result))\n",
      "C:\\Users\\adars\\anaconda3\\lib\\site-packages\\sklearn\\metrics\\_classification.py:1318: UndefinedMetricWarning: Precision and F-score are ill-defined and being set to 0.0 in labels with no predicted samples. Use `zero_division` parameter to control this behavior.\n",
      "  _warn_prf(average, modifier, msg_start, len(result))\n"
     ]
    }
   ],
   "source": [
    "y_test_predicted_p = pipe.predict(X_test_lr)\n",
    "#print(y_test_predict)\n",
    "\n",
    "accuracy_score_test_p = np.mean(y_test_predicted_p== y_test)\n",
    "print(\"\\nTest Accuracy: \", accuracy_score_test_p)\n",
    "\n",
    "\n",
    "print(\"\\nTest Confusion Matrix:\")\n",
    "print(confusion_matrix(y_test, y_test_predicted_p))\n",
    "\n",
    "\n",
    "print(\"\\nClassification Report:\")\n",
    "print(classification_report(y_test, y_test_predicted_p))"
   ]
  },
  {
   "cell_type": "markdown",
   "metadata": {},
   "source": [
    "## Choosing Degree 2 from above trials and  looking for other hyperparameters"
   ]
  },
  {
   "cell_type": "markdown",
   "metadata": {},
   "source": [
    "From degree 2 to degree 5 the performance was not improved significantly. All the aacuracy rate were around 40-55%. When the degree was increased it was too much time consuming to tune the hyperparameter. It took me whole night to tune when I used all the parameters together and got no result. The computer got very hot and got hang.  Degree 2 seemed to very efficient and giving similar result as higher degree. Hence I chosed degree 2."
   ]
  },
  {
   "cell_type": "code",
   "execution_count": 30,
   "metadata": {},
   "outputs": [
    {
     "data": {
      "text/plain": [
       "(3918, 77)"
      ]
     },
     "execution_count": 30,
     "metadata": {},
     "output_type": "execute_result"
    }
   ],
   "source": [
    "poly = PolynomialFeatures(degree = 2,  include_bias=False)\n",
    "X_poly = poly.fit_transform(X_train_plr)\n",
    "X_poly.shape"
   ]
  },
  {
   "cell_type": "markdown",
   "metadata": {},
   "source": [
    "## Hyperparameter Tuning"
   ]
  },
  {
   "cell_type": "code",
   "execution_count": 31,
   "metadata": {},
   "outputs": [
    {
     "name": "stdout",
     "output_type": "stream",
     "text": [
      "Fitting 3 folds for each of 24 candidates, totalling 72 fits\n",
      "Best Score (F1 score): 0.549260\n",
      "Optimal Hyperparameter Values:  {'C': 0.1, 'max_iter': 500, 'multi_class': 'multinomial', 'solver': 'newton-cg', 'tol': 0.001}\n",
      "\n",
      "\n",
      "CPU times: total: 4.11 s\n",
      "Wall time: 15.1 s\n"
     ]
    }
   ],
   "source": [
    "%%time\n",
    "param_grid_p2 = {'solver': [ 'newton-cg', 'lbfgs'], \n",
    "              'multi_class' : ['multinomial'],\n",
    "              'tol': [1e-3, 1e-4], 'max_iter':[500, 1000],'C': [0.001,0.01,0.1]}\n",
    "\n",
    "lg_reg = LogisticRegression()\n",
    "\n",
    "lg_reg_cv = GridSearchCV(lg_reg, param_grid_p2, scoring='f1_micro', cv=3, verbose=1, n_jobs=-1)\n",
    "lg_reg_cv.fit(X_poly, y_train)\n",
    "\n",
    "params_optimal_p2 = lg_reg_cv.best_params_\n",
    "\n",
    "print(\"Best Score (F1 score): %f\" % lg_reg_cv.best_score_)\n",
    "print(\"Optimal Hyperparameter Values: \", params_optimal_p2)\n",
    "print(\"\\n\")"
   ]
  },
  {
   "cell_type": "markdown",
   "metadata": {},
   "source": [
    "## Train the model with optimal hyperparameter"
   ]
  },
  {
   "cell_type": "code",
   "execution_count": 32,
   "metadata": {},
   "outputs": [
    {
     "data": {
      "text/plain": [
       "0.5489795918367347"
      ]
     },
     "execution_count": 32,
     "metadata": {},
     "output_type": "execute_result"
    }
   ],
   "source": [
    "lr = LogisticRegression(**params_optimal_p2)\n",
    "pipe = Pipeline([('polynomial_features',poly), ('logistic_regression',lr)])\n",
    "pipe.fit(X_train_plr, y_train)\n",
    "pipe.score(X_test_plr ,y_test)"
   ]
  },
  {
   "cell_type": "markdown",
   "metadata": {},
   "source": [
    "## Evaluation of the model"
   ]
  },
  {
   "cell_type": "code",
   "execution_count": 34,
   "metadata": {},
   "outputs": [
    {
     "name": "stdout",
     "output_type": "stream",
     "text": [
      "\n",
      "Training Accuracy:  0.5801429300663604\n",
      "\n",
      "Test Accuracy:  0.5489795918367347\n",
      "\n",
      "Test Confusion Matrix:\n",
      "[[  0   2   0   1   0   0   0]\n",
      " [  0   6  16  12   0   0   0]\n",
      " [  0   3 164 134   3   1   0]\n",
      " [  0   0  74 307  48   3   0]\n",
      " [  0   0   6 104  60   2   0]\n",
      " [  0   0   2  16  14   1   0]\n",
      " [  0   0   0   0   1   0   0]]\n",
      "\n",
      "Classification Report:\n",
      "              precision    recall  f1-score   support\n",
      "\n",
      "           3       0.00      0.00      0.00         3\n",
      "           4       0.55      0.18      0.27        34\n",
      "           5       0.63      0.54      0.58       305\n",
      "           6       0.53      0.71      0.61       432\n",
      "           7       0.48      0.35      0.40       172\n",
      "           8       0.14      0.03      0.05        33\n",
      "           9       0.00      0.00      0.00         1\n",
      "\n",
      "    accuracy                           0.55       980\n",
      "   macro avg       0.33      0.26      0.27       980\n",
      "weighted avg       0.54      0.55      0.53       980\n",
      "\n"
     ]
    }
   ],
   "source": [
    "y_test_predicted_p = pipe.predict(X_test_plr)\n",
    "#print(y_test_predict)\n",
    "y_train_predicted_p = pipe.predict(X_train_plr)\n",
    "\n",
    "train_accuracy_p = np.mean(y_train_predicted_p == y_train)\n",
    "print(\"\\nTraining Accuracy: \", train_accuracy_p)\n",
    "\n",
    "\n",
    "accuracy_score_test_p = np.mean(y_test_predicted_p== y_test)\n",
    "print(\"\\nTest Accuracy: \", accuracy_score_test_p)\n",
    "\n",
    "\n",
    "print(\"\\nTest Confusion Matrix:\")\n",
    "print(confusion_matrix(y_test, y_test_predicted_p))\n",
    "\n",
    "\n",
    "print(\"\\nClassification Report:\")\n",
    "print(classification_report(y_test, y_test_predicted_p))\n",
    "\n"
   ]
  },
  {
   "cell_type": "markdown",
   "metadata": {},
   "source": [
    "# Experiment 2 Subset 1"
   ]
  },
  {
   "cell_type": "code",
   "execution_count": 35,
   "metadata": {},
   "outputs": [
    {
     "data": {
      "text/plain": [
       "quality                 1.000000\n",
       "alcohol                 0.435575\n",
       "pH                      0.099427\n",
       "sulphates               0.053678\n",
       "free sulfur dioxide     0.008158\n",
       "citric acid            -0.009209\n",
       "residual sugar         -0.097577\n",
       "fixed acidity          -0.113663\n",
       "total sulfur dioxide   -0.174737\n",
       "volatile acidity       -0.194723\n",
       "chlorides              -0.209934\n",
       "density                -0.307123\n",
       "Name: quality, dtype: float64"
      ]
     },
     "execution_count": 35,
     "metadata": {},
     "output_type": "execute_result"
    }
   ],
   "source": [
    "#Calculate the standard correlation coefficient \n",
    "#(also called Pearson’s r) between the\n",
    "#binary target Y and all features.\n",
    "\n",
    "df_main.corr()['quality'].sort_values(ascending=False)"
   ]
  },
  {
   "cell_type": "markdown",
   "metadata": {},
   "source": [
    "# Subset 1"
   ]
  },
  {
   "cell_type": "markdown",
   "metadata": {},
   "source": [
    "## Create Data Matrix X and Target y"
   ]
  },
  {
   "cell_type": "code",
   "execution_count": 36,
   "metadata": {},
   "outputs": [
    {
     "name": "stdout",
     "output_type": "stream",
     "text": [
      "Data frame X:\n",
      "      alcohol  density  chlorides\n",
      "0         8.8  1.00100      0.045\n",
      "1         9.5  0.99400      0.049\n",
      "2        10.1  0.99510      0.050\n",
      "3         9.9  0.99560      0.058\n",
      "4         9.9  0.99560      0.058\n",
      "...       ...      ...        ...\n",
      "4893     11.2  0.99114      0.039\n",
      "4894      9.6  0.99490      0.047\n",
      "4895      9.4  0.99254      0.041\n",
      "4896     12.8  0.98869      0.022\n",
      "4897     11.8  0.98941      0.020\n",
      "\n",
      "[4898 rows x 3 columns]\n",
      "\n",
      "Data frame y:\n",
      "0       6\n",
      "1       6\n",
      "2       6\n",
      "3       6\n",
      "4       6\n",
      "       ..\n",
      "4893    6\n",
      "4894    5\n",
      "4895    6\n",
      "4896    7\n",
      "4897    6\n",
      "Name: quality, Length: 4898, dtype: int64\n",
      "X Data Shape:  (4898, 3)\n",
      "y Data Shape:  (4898,)\n",
      "X Data Type:  float64\n",
      "y Data Type:  int64\n"
     ]
    }
   ],
   "source": [
    "x_data_subset_1 = df_main[['alcohol', 'density', 'chlorides']]\n",
    "y_data_subset_1 = df_main['quality']\n",
    "\n",
    "print(\"Data frame X:\")\n",
    "print(x_data_subset_1)\n",
    "print(\"\\nData frame y:\")\n",
    "print(y_data_subset_1)\n",
    "\n",
    "\n",
    "Xs1 = np.asarray(x_data_subset_1) # Data Matrix containing all features excluding the target\n",
    "ys1 = np.asarray(y_data_subset_1) # 1D target array\n",
    "\n",
    "print(\"X Data Shape: \", Xs1.shape)\n",
    "print(\"y Data Shape: \", ys1.shape)\n",
    "\n",
    "print(\"X Data Type: \", Xs1.dtype)\n",
    "print(\"y Data Type: \", ys1.dtype)"
   ]
  },
  {
   "cell_type": "markdown",
   "metadata": {},
   "source": [
    "## Partition the Dataset into Train & Test Subsets"
   ]
  },
  {
   "cell_type": "code",
   "execution_count": 37,
   "metadata": {},
   "outputs": [],
   "source": [
    "#Create Train and Test Dataset\n",
    "\n",
    "X_train_subset_1, X_test_subset_1, y_train_subset_1, y_test_subset_1 = train_test_split(Xs1, ys1, test_size=0.2, random_state=2)"
   ]
  },
  {
   "cell_type": "code",
   "execution_count": 38,
   "metadata": {},
   "outputs": [],
   "source": [
    "#Create deep copy for other models\n",
    "\n",
    "X_train_lr_s1 = X_train_subset_1.copy()\n",
    "X_test_lr_s1 = X_test_subset_1.copy()\n",
    "\n",
    "X_train_plr_s1 = X_train_subset_1.copy()\n",
    "X_test_plr_s1 = X_test_subset_1.copy()"
   ]
  },
  {
   "cell_type": "markdown",
   "metadata": {},
   "source": [
    "## Model  : KNN Model subset 1"
   ]
  },
  {
   "cell_type": "markdown",
   "metadata": {},
   "source": [
    "## Standardize the data"
   ]
  },
  {
   "cell_type": "code",
   "execution_count": 39,
   "metadata": {},
   "outputs": [],
   "source": [
    "scaler = StandardScaler()\n",
    "\n",
    "# Fit on training set only.\n",
    "scaler.fit(X_train_subset_1)\n",
    "\n",
    "# Apply transform to both the training set and the test set.\n",
    "X_train_subset_1 = scaler.transform(X_train_subset_1)\n",
    "X_test_subset_1 = scaler.transform(X_test_subset_1)"
   ]
  },
  {
   "cell_type": "markdown",
   "metadata": {},
   "source": [
    "## Model selection"
   ]
  },
  {
   "cell_type": "code",
   "execution_count": 40,
   "metadata": {},
   "outputs": [
    {
     "name": "stdout",
     "output_type": "stream",
     "text": [
      "Fitting 5 folds for each of 174 candidates, totalling 870 fits\n",
      "Best Score: 0.623534\n",
      "Optimal Hyperparameter Values:  {'n_neighbors': 26, 'p': 2, 'weights': 'distance'}\n",
      "\n",
      "\n",
      "CPU times: total: 1.03 s\n",
      "Wall time: 6.97 s\n"
     ]
    }
   ],
   "source": [
    "%%time\n",
    "\n",
    "warnings.filterwarnings('ignore')\n",
    "\n",
    "# The param_grid tells Scikit-Learn to evaluate all combinations of the hyperparameter values\n",
    "param_grid_s1 = {'n_neighbors': np.arange(1,30), 'p': [1, 2, 10], \n",
    "              'weights': [\"uniform\", \"distance\"]}\n",
    "\n",
    "knn_clf_s1 = KNeighborsClassifier()\n",
    "\n",
    "knn_cv_s1 = GridSearchCV(knn_clf_s1, param_grid_s1, scoring='f1_micro', cv=5, verbose=3, n_jobs=-1)\n",
    "knn_cv_s1.fit(X_train_subset_1, y_train_subset_1)\n",
    "\n",
    "\n",
    "params_optimal_knn_s1 = knn_cv_s1.best_params_\n",
    "\n",
    "print(\"Best Score: %f\" % knn_cv_s1.best_score_)\n",
    "print(\"Optimal Hyperparameter Values: \", params_optimal_knn_s1)\n",
    "print(\"\\n\")"
   ]
  },
  {
   "cell_type": "markdown",
   "metadata": {},
   "source": [
    "## Train the model with optimal hyperparameter"
   ]
  },
  {
   "cell_type": "code",
   "execution_count": 41,
   "metadata": {},
   "outputs": [
    {
     "name": "stdout",
     "output_type": "stream",
     "text": [
      "CPU times: total: 62.5 ms\n",
      "Wall time: 40.5 ms\n"
     ]
    }
   ],
   "source": [
    "%%time\n",
    "\n",
    "#Use the optimal hyperparameter values to train a new model, as follows.\n",
    "\n",
    "knn_s1 = KNeighborsClassifier(**params_optimal_knn_s1)\n",
    "\n",
    "knn_s1.fit(X_train_subset_1, y_train_subset_1)\n",
    "\n",
    "y_train_predicted_s1 = knn_s1.predict(X_train_subset_1)"
   ]
  },
  {
   "cell_type": "markdown",
   "metadata": {},
   "source": [
    "## Evaluate the model"
   ]
  },
  {
   "cell_type": "code",
   "execution_count": 42,
   "metadata": {},
   "outputs": [
    {
     "name": "stdout",
     "output_type": "stream",
     "text": [
      "\n",
      "Training Accuracy:  0.9946401225114855\n",
      "\n",
      "Test Accuracy:  0.6316326530612245\n",
      "\n",
      "No. of correct predictions (Test): 619/980\n",
      "\n",
      "Confusion Matrix (Test Data):\n",
      " [[  0   0   0   3   0   0   0]\n",
      " [  0   2   5  25   2   0   0]\n",
      " [  0   1 203  94   7   0   0]\n",
      " [  1   2  73 315  40   1   0]\n",
      " [  0   0  10  73  89   0   0]\n",
      " [  0   1   2  15   5  10   0]\n",
      " [  0   0   0   0   1   0   0]]\n",
      "\n",
      "Classification Report:\n",
      "              precision    recall  f1-score   support\n",
      "\n",
      "           3       0.00      0.00      0.00         3\n",
      "           4       0.33      0.06      0.10        34\n",
      "           5       0.69      0.67      0.68       305\n",
      "           6       0.60      0.73      0.66       432\n",
      "           7       0.62      0.52      0.56       172\n",
      "           8       0.91      0.30      0.45        33\n",
      "           9       0.00      0.00      0.00         1\n",
      "\n",
      "    accuracy                           0.63       980\n",
      "   macro avg       0.45      0.32      0.35       980\n",
      "weighted avg       0.63      0.63      0.62       980\n",
      "\n",
      "CPU times: total: 31.2 ms\n",
      "Wall time: 25.9 ms\n"
     ]
    }
   ],
   "source": [
    "%%time\n",
    "\n",
    "train_accuracy_knn_s1 = np.mean(y_train_predicted_s1 == y_train_subset_1)\n",
    "print(\"\\nTraining Accuracy: \", train_accuracy_knn_s1)\n",
    "\n",
    "# The accuracy of the model\n",
    "test_accuracy_knn_s1 = knn_s1.score(X_test_subset_1, y_test_subset_1)\n",
    "print(\"\\nTest Accuracy: \", test_accuracy_knn_s1)\n",
    "\n",
    "\n",
    "# No. of Correct Predictions\n",
    "y_test_predicted_s1 = knn_s1.predict(X_test_subset_1)\n",
    "print(\"\\nNo. of correct predictions (Test): %d/%d\" % (np.sum(y_test_predicted_s1 == y_test_subset_1), len(y_test_subset_1)))\n",
    "\n",
    "\n",
    "# Confusion Matrix\n",
    "print(\"\\nConfusion Matrix (Test Data):\\n\", confusion_matrix(y_test_subset_1, y_test_predicted_s1))\n",
    "\n",
    "print(\"\\nClassification Report:\")\n",
    "print(classification_report(y_test_subset_1, y_test_predicted_s1))"
   ]
  },
  {
   "cell_type": "markdown",
   "metadata": {},
   "source": [
    "# Experiment 2 Model : Logistic Regression (use batch Gradient Descent)"
   ]
  },
  {
   "cell_type": "markdown",
   "metadata": {},
   "source": [
    "## Standardize the data"
   ]
  },
  {
   "cell_type": "code",
   "execution_count": 104,
   "metadata": {},
   "outputs": [],
   "source": [
    "scaler = StandardScaler()\n",
    "\n",
    "# Fit on training set only.\n",
    "scaler.fit(X_train_lr_s1)\n",
    "\n",
    "# Apply transform to both the training set and the test set.\n",
    "X_train_lr_s1 = scaler.transform(X_train_lr_s1)\n",
    "X_test_lr_s1 = scaler.transform(X_test_lr_s1)"
   ]
  },
  {
   "cell_type": "markdown",
   "metadata": {},
   "source": [
    "## Tune the hyperparameter"
   ]
  },
  {
   "cell_type": "code",
   "execution_count": 45,
   "metadata": {},
   "outputs": [
    {
     "name": "stdout",
     "output_type": "stream",
     "text": [
      "Fitting 3 folds for each of 108 candidates, totalling 324 fits\n",
      "Best Score (F1 score): 0.503318\n",
      "Optimal Hyperparameter Values:  {'C': 15, 'max_iter': 500, 'multi_class': 'multinomial', 'solver': 'lbfgs', 'tol': 0.001}\n",
      "\n",
      "\n",
      "CPU times: total: 6.52 s\n",
      "Wall time: 34.8 s\n"
     ]
    }
   ],
   "source": [
    "%%time\n",
    "param_grid_lr_s1 = {'solver': [ 'newton-cg', 'lbfgs'], \n",
    "              'multi_class' : ['multinomial'],\n",
    "              'tol': [1e-3, 1e-4, 1e-5], 'max_iter':[500, 1000],'C': [0.001,0.01,0.1, 0.5, 1, 10, 15, 50, 100]}\n",
    "\n",
    "lg_reg = LogisticRegression()\n",
    "\n",
    "lg_reg_cv = GridSearchCV(lg_reg, param_grid_lr_s1, scoring='f1_micro', cv=3, verbose=1, n_jobs=-1)\n",
    "lg_reg_cv.fit(X_train_lr_s1, y_train_subset_1)\n",
    "\n",
    "params_optimal_lr_s1 = lg_reg_cv.best_params_\n",
    "\n",
    "print(\"Best Score (F1 score): %f\" % lg_reg_cv.best_score_)\n",
    "print(\"Optimal Hyperparameter Values: \", params_optimal_lr_s1)\n",
    "print(\"\\n\")"
   ]
  },
  {
   "cell_type": "markdown",
   "metadata": {},
   "source": [
    "## Train the logistic Regression model"
   ]
  },
  {
   "cell_type": "code",
   "execution_count": 46,
   "metadata": {},
   "outputs": [
    {
     "data": {
      "text/plain": [
       "LogisticRegression(C=15, max_iter=500, multi_class='multinomial', tol=0.001)"
      ]
     },
     "execution_count": 46,
     "metadata": {},
     "output_type": "execute_result"
    }
   ],
   "source": [
    "lg_reg_lr_s1 = LogisticRegression(**params_optimal_lr_s1)\n",
    "\n",
    "lg_reg_lr_s1.fit(X_train_lr_s1, y_train_subset_1)"
   ]
  },
  {
   "cell_type": "markdown",
   "metadata": {},
   "source": [
    "## Evaluate the model"
   ]
  },
  {
   "cell_type": "code",
   "execution_count": 47,
   "metadata": {},
   "outputs": [
    {
     "name": "stdout",
     "output_type": "stream",
     "text": [
      "No. of Iterations: [500]\n",
      "\n",
      "Training Accuracy:  0.501531393568147\n",
      "\n",
      "Test Accuracy:  0.5081632653061224\n",
      "\n",
      "Test Confusion Matrix:\n",
      "[[  0   0   1   2   0   0   0]\n",
      " [  0   0   9  25   0   0   0]\n",
      " [  0   0 159 146   0   0   0]\n",
      " [  0   0  85 306  41   0   0]\n",
      " [  0   0  18 121  33   0   0]\n",
      " [  0   0   1  20  12   0   0]\n",
      " [  0   0   0   0   1   0   0]]\n",
      "\n",
      "Classification Report:\n",
      "              precision    recall  f1-score   support\n",
      "\n",
      "           3       0.00      0.00      0.00         3\n",
      "           4       0.00      0.00      0.00        34\n",
      "           5       0.58      0.52      0.55       305\n",
      "           6       0.49      0.71      0.58       432\n",
      "           7       0.38      0.19      0.25       172\n",
      "           8       0.00      0.00      0.00        33\n",
      "           9       0.00      0.00      0.00         1\n",
      "\n",
      "    accuracy                           0.51       980\n",
      "   macro avg       0.21      0.20      0.20       980\n",
      "weighted avg       0.47      0.51      0.47       980\n",
      "\n"
     ]
    }
   ],
   "source": [
    "print(\"No. of Iterations:\",lg_reg_lr_s1.n_iter_ )\n",
    "\n",
    "y_train_predicted_lr_s1 = lg_reg_lr_s1.predict(X_train_lr_s1)\n",
    "\n",
    "train_accuracy_lr_s1 = np.mean(y_train_predicted_lr_s1 == y_train_subset_1)\n",
    "print(\"\\nTraining Accuracy: \", train_accuracy_lr_s1)\n",
    "\n",
    "\n",
    "y_test_predicted_lr_s1 = lg_reg_lr_s1.predict(X_test_lr_s1)\n",
    "\n",
    "accuracy_score_test_lr_s1 = np.mean(y_test_predicted_lr_s1 == y_test_subset_1)\n",
    "print(\"\\nTest Accuracy: \", accuracy_score_test_lr_s1)\n",
    "\n",
    "\n",
    "print(\"\\nTest Confusion Matrix:\")\n",
    "print(confusion_matrix(y_test_subset_1, y_test_predicted_lr_s1))\n",
    "\n",
    "\n",
    "print(\"\\nClassification Report:\")\n",
    "print(classification_report(y_test_subset_1, y_test_predicted_lr_s1))"
   ]
  },
  {
   "cell_type": "markdown",
   "metadata": {},
   "source": [
    "# Experiment 2 Model: Polynomial Logistic Regression (using batch Gradient Descent)"
   ]
  },
  {
   "cell_type": "markdown",
   "metadata": {},
   "source": [
    "## Standardize the data"
   ]
  },
  {
   "cell_type": "code",
   "execution_count": 54,
   "metadata": {},
   "outputs": [],
   "source": [
    "scaler = StandardScaler()\n",
    "\n",
    "# Fit on training set only.\n",
    "scaler.fit(X_train_plr_s1)\n",
    "\n",
    "# Apply transform to both the training set and the test set.\n",
    "X_train_plr_s1 = scaler.transform(X_train_plr_s1)\n",
    "X_test_plr_s1 = scaler.transform(X_test_plr_s1)\n"
   ]
  },
  {
   "cell_type": "markdown",
   "metadata": {},
   "source": [
    "## Trying with degree 2"
   ]
  },
  {
   "cell_type": "code",
   "execution_count": 55,
   "metadata": {},
   "outputs": [
    {
     "data": {
      "text/plain": [
       "(3918, 9)"
      ]
     },
     "execution_count": 55,
     "metadata": {},
     "output_type": "execute_result"
    }
   ],
   "source": [
    "#create polynomial features\n",
    "poly_s1 = PolynomialFeatures(degree = 2,  include_bias=False)\n",
    "X_poly_s1 = poly_s1.fit_transform(X_train_plr_s1)\n",
    "X_poly_s1.shape"
   ]
  },
  {
   "cell_type": "code",
   "execution_count": 56,
   "metadata": {},
   "outputs": [
    {
     "data": {
      "text/plain": [
       "0.5010204081632653"
      ]
     },
     "execution_count": 56,
     "metadata": {},
     "output_type": "execute_result"
    }
   ],
   "source": [
    "# train the model creating pipeline\n",
    "lr = LogisticRegression()\n",
    "pipe = Pipeline([('polynomial_features',poly_s1), ('logistic_regression',lr)])\n",
    "pipe.fit(X_train_plr_s1, y_train_subset_1)\n",
    "pipe.score(X_test_plr_s1 ,y_test_subset_1)"
   ]
  },
  {
   "cell_type": "code",
   "execution_count": 123,
   "metadata": {},
   "outputs": [
    {
     "name": "stdout",
     "output_type": "stream",
     "text": [
      "\n",
      "Test Accuracy:  0.5020408163265306\n",
      "\n",
      "Test Confusion Matrix:\n",
      "[[  0   0   1   2   0   0   0]\n",
      " [  0   0  10  24   0   0   0]\n",
      " [  0   0 155 150   0   0   0]\n",
      " [  1   0  83 297  51   0   0]\n",
      " [  0   0  16 116  40   0   0]\n",
      " [  0   0   1  19  13   0   0]\n",
      " [  0   0   0   0   1   0   0]]\n",
      "\n",
      "Classification Report:\n",
      "              precision    recall  f1-score   support\n",
      "\n",
      "           3       0.00      0.00      0.00         3\n",
      "           4       0.00      0.00      0.00        34\n",
      "           5       0.58      0.51      0.54       305\n",
      "           6       0.49      0.69      0.57       432\n",
      "           7       0.38      0.23      0.29       172\n",
      "           8       0.00      0.00      0.00        33\n",
      "           9       0.00      0.00      0.00         1\n",
      "\n",
      "    accuracy                           0.50       980\n",
      "   macro avg       0.21      0.20      0.20       980\n",
      "weighted avg       0.46      0.50      0.47       980\n",
      "\n"
     ]
    }
   ],
   "source": [
    "#Evaluate the model\n",
    "y_test_predicted_plr_s1 = pipe.predict(X_test_plr_s1)\n",
    "#print(y_test_predict)\n",
    "\n",
    "accuracy_score_test_plr_s1 = np.mean(y_test_predicted_plr_s1== y_test_subset_1)\n",
    "print(\"\\nTest Accuracy: \", accuracy_score_test_plr_s1)\n",
    "\n",
    "\n",
    "print(\"\\nTest Confusion Matrix:\")\n",
    "print(confusion_matrix(y_test_subset_1, y_test_predicted_plr_s1))\n",
    "\n",
    "\n",
    "print(\"\\nClassification Report:\")\n",
    "print(classification_report(y_test_subset_1, y_test_predicted_plr_s1))\n"
   ]
  },
  {
   "cell_type": "markdown",
   "metadata": {},
   "source": [
    "## Trying with degree 3"
   ]
  },
  {
   "cell_type": "code",
   "execution_count": 60,
   "metadata": {},
   "outputs": [
    {
     "data": {
      "text/plain": [
       "(3918, 19)"
      ]
     },
     "execution_count": 60,
     "metadata": {},
     "output_type": "execute_result"
    }
   ],
   "source": [
    "#create polynomial features\n",
    "poly_s1 = PolynomialFeatures(degree = 3,  include_bias=False)\n",
    "X_poly_s1 = poly_s1.fit_transform(X_train_plr_s1)\n",
    "X_poly_s1.shape"
   ]
  },
  {
   "cell_type": "code",
   "execution_count": 61,
   "metadata": {},
   "outputs": [
    {
     "data": {
      "text/plain": [
       "0.49795918367346936"
      ]
     },
     "execution_count": 61,
     "metadata": {},
     "output_type": "execute_result"
    }
   ],
   "source": [
    "# train the model creating pipeline\n",
    "lr = LogisticRegression()\n",
    "pipe = Pipeline([('polynomial_features',poly_s1), ('logistic_regression',lr)])\n",
    "pipe.fit(X_train_plr_s1, y_train_subset_1)\n",
    "pipe.score(X_test_plr_s1 ,y_test_subset_1)"
   ]
  },
  {
   "cell_type": "markdown",
   "metadata": {},
   "source": [
    "## Trying with degree 4"
   ]
  },
  {
   "cell_type": "code",
   "execution_count": 62,
   "metadata": {},
   "outputs": [
    {
     "data": {
      "text/plain": [
       "(3918, 34)"
      ]
     },
     "execution_count": 62,
     "metadata": {},
     "output_type": "execute_result"
    }
   ],
   "source": [
    "#create polynomial features\n",
    "poly_s1 = PolynomialFeatures(degree = 4,  include_bias=False)\n",
    "X_poly_s1 = poly_s1.fit_transform(X_train_plr_s1)\n",
    "X_poly_s1.shape"
   ]
  },
  {
   "cell_type": "code",
   "execution_count": 63,
   "metadata": {},
   "outputs": [
    {
     "data": {
      "text/plain": [
       "0.5010204081632653"
      ]
     },
     "execution_count": 63,
     "metadata": {},
     "output_type": "execute_result"
    }
   ],
   "source": [
    "# train the model creating pipeline\n",
    "lr = LogisticRegression()\n",
    "pipe = Pipeline([('polynomial_features',poly_s1), ('logistic_regression',lr)])\n",
    "pipe.fit(X_train_plr_s1, y_train_subset_1)\n",
    "pipe.score(X_test_plr_s1 ,y_test_subset_1)"
   ]
  },
  {
   "cell_type": "markdown",
   "metadata": {},
   "source": [
    "## Trying with degree 5"
   ]
  },
  {
   "cell_type": "code",
   "execution_count": 64,
   "metadata": {},
   "outputs": [
    {
     "data": {
      "text/plain": [
       "(3918, 55)"
      ]
     },
     "execution_count": 64,
     "metadata": {},
     "output_type": "execute_result"
    }
   ],
   "source": [
    "#create polynomial features\n",
    "poly_s1 = PolynomialFeatures(degree = 5,  include_bias=False)\n",
    "X_poly_s1 = poly_s1.fit_transform(X_train_plr_s1)\n",
    "X_poly_s1.shape"
   ]
  },
  {
   "cell_type": "code",
   "execution_count": 65,
   "metadata": {},
   "outputs": [
    {
     "data": {
      "text/plain": [
       "0.4959183673469388"
      ]
     },
     "execution_count": 65,
     "metadata": {},
     "output_type": "execute_result"
    }
   ],
   "source": [
    "# train the model creating pipeline\n",
    "lr = LogisticRegression()\n",
    "pipe = Pipeline([('polynomial_features',poly_s1), ('logistic_regression',lr)])\n",
    "pipe.fit(X_train_plr_s1, y_train_subset_1)\n",
    "pipe.score(X_test_plr_s1 ,y_test_subset_1)"
   ]
  },
  {
   "cell_type": "markdown",
   "metadata": {},
   "source": [
    "## From above trials degree 2 gives the highest test accuracy of 50.20 %. Now lets find other hyperparameters"
   ]
  },
  {
   "cell_type": "code",
   "execution_count": 66,
   "metadata": {},
   "outputs": [
    {
     "data": {
      "text/plain": [
       "(3918, 9)"
      ]
     },
     "execution_count": 66,
     "metadata": {},
     "output_type": "execute_result"
    }
   ],
   "source": [
    "#create polynomial features\n",
    "poly_s1 = PolynomialFeatures(degree = 2,  include_bias=False)\n",
    "X_poly_s1 = poly_s1.fit_transform(X_train_plr_s1)\n",
    "X_poly_s1.shape"
   ]
  },
  {
   "cell_type": "markdown",
   "metadata": {},
   "source": [
    "## Hyperparameter tuning "
   ]
  },
  {
   "cell_type": "code",
   "execution_count": 67,
   "metadata": {},
   "outputs": [
    {
     "name": "stdout",
     "output_type": "stream",
     "text": [
      "Fitting 3 folds for each of 36 candidates, totalling 108 fits\n",
      "Best Score (F1 score): 0.495661\n",
      "Optimal Hyperparameter Values:  {'C': 0.01, 'max_iter': 500, 'multi_class': 'multinomial', 'solver': 'newton-cg', 'tol': 0.001}\n",
      "\n",
      "\n",
      "CPU times: total: 1.44 s\n",
      "Wall time: 4.51 s\n"
     ]
    }
   ],
   "source": [
    "%%time\n",
    "param_grid_plr_s1 = {'solver': [ 'newton-cg', 'lbfgs'], \n",
    "              'multi_class' : ['multinomial'],\n",
    "              'tol': [1e-3, 1e-4, 1e-5], 'max_iter':[500, 1000],'C': [0.001,0.01,0.1]}\n",
    "\n",
    "lg_reg = LogisticRegression()\n",
    "\n",
    "lg_reg_cv = GridSearchCV(lg_reg, param_grid_plr_s1, scoring='f1_micro', cv=3, verbose=1, n_jobs=-1)\n",
    "lg_reg_cv.fit(X_poly_s1, y_train_subset_1)\n",
    "\n",
    "params_optimal_plr_s1 = lg_reg_cv.best_params_\n",
    "\n",
    "print(\"Best Score (F1 score): %f\" % lg_reg_cv.best_score_)\n",
    "print(\"Optimal Hyperparameter Values: \", params_optimal_plr_s1)\n",
    "print(\"\\n\")"
   ]
  },
  {
   "cell_type": "markdown",
   "metadata": {},
   "source": [
    "## Train the model with optimal hyperparameters"
   ]
  },
  {
   "cell_type": "code",
   "execution_count": 71,
   "metadata": {},
   "outputs": [
    {
     "data": {
      "text/plain": [
       "0.5071428571428571"
      ]
     },
     "execution_count": 71,
     "metadata": {},
     "output_type": "execute_result"
    }
   ],
   "source": [
    "# train the model creating pipeline\n",
    "lr = LogisticRegression(**params_optimal_plr_s1)\n",
    "pipe = Pipeline([('polynomial_features',poly_s1), ('logistic_regression',lr)])\n",
    "pipe.fit(X_train_plr_s1, y_train_subset_1)\n",
    "pipe.score(X_test_plr_s1 ,y_test_subset_1)"
   ]
  },
  {
   "cell_type": "markdown",
   "metadata": {},
   "source": [
    "## Evaluate the model"
   ]
  },
  {
   "cell_type": "code",
   "execution_count": 74,
   "metadata": {},
   "outputs": [
    {
     "name": "stdout",
     "output_type": "stream",
     "text": [
      "\n",
      "Training Accuracy:  0.4936191934660541\n",
      "\n",
      "Test Accuracy:  0.5071428571428571\n",
      "\n",
      "Test Confusion Matrix:\n",
      "[[  0   0   1   2   0   0   0]\n",
      " [  0   0  10  24   0   0   0]\n",
      " [  0   0 151 154   0   0   0]\n",
      " [  0   0  77 309  46   0   0]\n",
      " [  0   0  16 119  37   0   0]\n",
      " [  0   0   1  19  13   0   0]\n",
      " [  0   0   0   0   1   0   0]]\n",
      "\n",
      "Classification Report:\n",
      "              precision    recall  f1-score   support\n",
      "\n",
      "           3       0.00      0.00      0.00         3\n",
      "           4       0.00      0.00      0.00        34\n",
      "           5       0.59      0.50      0.54       305\n",
      "           6       0.49      0.72      0.58       432\n",
      "           7       0.38      0.22      0.28       172\n",
      "           8       0.00      0.00      0.00        33\n",
      "           9       0.00      0.00      0.00         1\n",
      "\n",
      "    accuracy                           0.51       980\n",
      "   macro avg       0.21      0.20      0.20       980\n",
      "weighted avg       0.47      0.51      0.47       980\n",
      "\n"
     ]
    }
   ],
   "source": [
    "\n",
    "y_train_predicted_plr_s1 = pipe.predict(X_train_plr_s1)\n",
    "\n",
    "train_accuracy_plr_s1 = np.mean(y_train_predicted_plr_s1 == y_train_subset_1)\n",
    "print(\"\\nTraining Accuracy: \", train_accuracy_plr_s1)\n",
    "\n",
    "\n",
    "y_test_predicted_plr_s1 = pipe.predict(X_test_plr_s1)\n",
    "\n",
    "accuracy_score_test_plr_s1 = np.mean(y_test_predicted_plr_s1 == y_test_subset_1)\n",
    "print(\"\\nTest Accuracy: \", accuracy_score_test_plr_s1)\n",
    "\n",
    "\n",
    "print(\"\\nTest Confusion Matrix:\")\n",
    "print(confusion_matrix(y_test_subset_1, y_test_predicted_plr_s1))\n",
    "\n",
    "\n",
    "print(\"\\nClassification Report:\")\n",
    "print(classification_report(y_test_subset_1, y_test_predicted_plr_s1))"
   ]
  },
  {
   "cell_type": "markdown",
   "metadata": {},
   "source": [
    "# Experiment 3 Subset 2"
   ]
  },
  {
   "cell_type": "markdown",
   "metadata": {},
   "source": [
    "## Create Data Matrix X and Target y"
   ]
  },
  {
   "cell_type": "code",
   "execution_count": 75,
   "metadata": {},
   "outputs": [
    {
     "name": "stdout",
     "output_type": "stream",
     "text": [
      "Data frame X:\n",
      "      alcohol  density  chlorides  volatile acidity\n",
      "0         8.8  1.00100      0.045              0.27\n",
      "1         9.5  0.99400      0.049              0.30\n",
      "2        10.1  0.99510      0.050              0.28\n",
      "3         9.9  0.99560      0.058              0.23\n",
      "4         9.9  0.99560      0.058              0.23\n",
      "...       ...      ...        ...               ...\n",
      "4893     11.2  0.99114      0.039              0.21\n",
      "4894      9.6  0.99490      0.047              0.32\n",
      "4895      9.4  0.99254      0.041              0.24\n",
      "4896     12.8  0.98869      0.022              0.29\n",
      "4897     11.8  0.98941      0.020              0.21\n",
      "\n",
      "[4898 rows x 4 columns]\n",
      "\n",
      "Data frame y:\n",
      "0       6\n",
      "1       6\n",
      "2       6\n",
      "3       6\n",
      "4       6\n",
      "       ..\n",
      "4893    6\n",
      "4894    5\n",
      "4895    6\n",
      "4896    7\n",
      "4897    6\n",
      "Name: quality, Length: 4898, dtype: int64\n",
      "X Data Shape:  (4898, 4)\n",
      "y Data Shape:  (4898,)\n",
      "X Data Type:  float64\n",
      "y Data Type:  int64\n"
     ]
    }
   ],
   "source": [
    "x_data_subset_2 = df_main[['alcohol', 'density', 'chlorides','volatile acidity']]\n",
    "y_data_subset_2 = df_main['quality']\n",
    "\n",
    "print(\"Data frame X:\")\n",
    "print(x_data_subset_2)\n",
    "print(\"\\nData frame y:\")\n",
    "print(y_data_subset_2)\n",
    "\n",
    "\n",
    "Xs2 = np.asarray(x_data_subset_2) # Data Matrix containing all features excluding the target\n",
    "ys2 = np.asarray(y_data_subset_2) # 1D target array\n",
    "\n",
    "print(\"X Data Shape: \", Xs2.shape)\n",
    "print(\"y Data Shape: \", ys2.shape)\n",
    "\n",
    "print(\"X Data Type: \", Xs2.dtype)\n",
    "print(\"y Data Type: \", ys2.dtype)"
   ]
  },
  {
   "cell_type": "markdown",
   "metadata": {},
   "source": [
    "## Partition the Dataset into Train & Test Subsets"
   ]
  },
  {
   "cell_type": "code",
   "execution_count": 76,
   "metadata": {},
   "outputs": [],
   "source": [
    "#Create Train and Test Dataset\n",
    "\n",
    "X_train_s2, X_test_s2, y_train_s2, y_test_s2 = train_test_split(Xs2, ys2, test_size=0.2, random_state=2)"
   ]
  },
  {
   "cell_type": "code",
   "execution_count": 78,
   "metadata": {},
   "outputs": [],
   "source": [
    "#Create deep copy for other models\n",
    "\n",
    "X_train_lr_s2 = X_train_s2.copy()\n",
    "X_test_lr_s2 = X_test_s2.copy()\n",
    "\n",
    "X_train_plr_s2 = X_train_s2.copy()\n",
    "X_test_plr_s2 = X_test_s2.copy()"
   ]
  },
  {
   "cell_type": "markdown",
   "metadata": {},
   "source": [
    "## Model  : KNN Model subset 2"
   ]
  },
  {
   "cell_type": "code",
   "execution_count": 79,
   "metadata": {},
   "outputs": [],
   "source": [
    "# scaler = StandardScaler()\n",
    "\n",
    "# Fit on training set only.\n",
    "scaler.fit(X_train_s2)\n",
    "\n",
    "# Apply transform to both the training set and the test set.\n",
    "X_train_s2 = scaler.transform(X_train_s2)\n",
    "X_test_s2 = scaler.transform(X_test_s2)"
   ]
  },
  {
   "cell_type": "markdown",
   "metadata": {},
   "source": [
    "## Model Selection"
   ]
  },
  {
   "cell_type": "code",
   "execution_count": 80,
   "metadata": {},
   "outputs": [
    {
     "name": "stdout",
     "output_type": "stream",
     "text": [
      "Fitting 5 folds for each of 474 candidates, totalling 2370 fits\n",
      "Best Score: 0.658502\n",
      "Optimal Hyperparameter Values:  {'n_neighbors': 79, 'p': 2, 'weights': 'distance'}\n",
      "\n",
      "\n",
      "CPU times: total: 1.53 s\n",
      "Wall time: 19 s\n"
     ]
    }
   ],
   "source": [
    "%%time\n",
    "\n",
    "warnings.filterwarnings('ignore')\n",
    "\n",
    "# The param_grid tells Scikit-Learn to evaluate all combinations of the hyperparameter values\n",
    "param_grid_s2 = {'n_neighbors': np.arange(1,80), 'p': [1, 2, 10], \n",
    "              'weights': [\"uniform\", \"distance\"]}\n",
    "\n",
    "knn_clf_s2 = KNeighborsClassifier()\n",
    "\n",
    "knn_cv_s2 = GridSearchCV(knn_clf_s2, param_grid_s2, scoring='f1_micro', cv=5, verbose=3, n_jobs=-1)\n",
    "knn_cv_s2.fit(X_train_s2, y_train_s2)\n",
    "\n",
    "\n",
    "params_optimal_knn_s2 = knn_cv_s2.best_params_\n",
    "\n",
    "print(\"Best Score: %f\" % knn_cv_s2.best_score_)\n",
    "print(\"Optimal Hyperparameter Values: \", params_optimal_knn_s2)\n",
    "print(\"\\n\")"
   ]
  },
  {
   "cell_type": "markdown",
   "metadata": {},
   "source": [
    "## Train the model with optimal hyperparameter"
   ]
  },
  {
   "cell_type": "code",
   "execution_count": 81,
   "metadata": {},
   "outputs": [
    {
     "name": "stdout",
     "output_type": "stream",
     "text": [
      "CPU times: total: 141 ms\n",
      "Wall time: 126 ms\n"
     ]
    }
   ],
   "source": [
    "%%time\n",
    "\n",
    "#Use the optimal hyperparameter values to train a new model, as follows.\n",
    "\n",
    "knn_s2 = KNeighborsClassifier(**params_optimal_knn_s2)\n",
    "\n",
    "knn_s2.fit(X_train_s2, y_train_s2)\n",
    "\n",
    "y_train_predicted_s2 = knn_s2.predict(X_train_s2)"
   ]
  },
  {
   "cell_type": "code",
   "execution_count": 82,
   "metadata": {},
   "outputs": [
    {
     "name": "stdout",
     "output_type": "stream",
     "text": [
      "\n",
      "Training Accuracy:  0.9989790709545686\n",
      "\n",
      "Test Accuracy:  0.6510204081632653\n",
      "\n",
      "No. of correct predictions (Test): 638/980\n",
      "\n",
      "Confusion Matrix (Test Data):\n",
      " [[  0   0   1   2   0   0   0]\n",
      " [  0   2  15  16   1   0   0]\n",
      " [  0   0 192 112   1   0   0]\n",
      " [  0   0  55 347  30   0   0]\n",
      " [  0   0   4  81  87   0   0]\n",
      " [  0   0   0  16   7  10   0]\n",
      " [  0   0   0   1   0   0   0]]\n",
      "\n",
      "Classification Report:\n",
      "              precision    recall  f1-score   support\n",
      "\n",
      "           3       0.00      0.00      0.00         3\n",
      "           4       1.00      0.06      0.11        34\n",
      "           5       0.72      0.63      0.67       305\n",
      "           6       0.60      0.80      0.69       432\n",
      "           7       0.69      0.51      0.58       172\n",
      "           8       1.00      0.30      0.47        33\n",
      "           9       0.00      0.00      0.00         1\n",
      "\n",
      "    accuracy                           0.65       980\n",
      "   macro avg       0.57      0.33      0.36       980\n",
      "weighted avg       0.68      0.65      0.63       980\n",
      "\n",
      "CPU times: total: 78.1 ms\n",
      "Wall time: 66.8 ms\n"
     ]
    }
   ],
   "source": [
    "%%time\n",
    "\n",
    "train_accuracy_knn_s2 = np.mean(y_train_predicted_s2 == y_train_s2)\n",
    "print(\"\\nTraining Accuracy: \", train_accuracy_knn_s2)\n",
    "\n",
    "# The accuracy of the model\n",
    "test_accuracy_knn_s2 = knn_s2.score(X_test_s2, y_test_s2)\n",
    "print(\"\\nTest Accuracy: \", test_accuracy_knn_s2)\n",
    "\n",
    "\n",
    "# No. of Correct Predictions\n",
    "y_test_predicted_s2 = knn_s2.predict(X_test_s2)\n",
    "print(\"\\nNo. of correct predictions (Test): %d/%d\" % (np.sum(y_test_predicted_s2 == y_test_s2), len(y_test_s2)))\n",
    "\n",
    "\n",
    "# Confusion Matrix\n",
    "print(\"\\nConfusion Matrix (Test Data):\\n\", confusion_matrix(y_test_s2, y_test_predicted_s2))\n",
    "\n",
    "print(\"\\nClassification Report:\")\n",
    "print(classification_report(y_test_s2, y_test_predicted_s2))"
   ]
  },
  {
   "cell_type": "markdown",
   "metadata": {},
   "source": [
    "## Experiment 2 Model : Logistic Regression (use batch Gradient Descent) for Subset 2"
   ]
  },
  {
   "cell_type": "markdown",
   "metadata": {},
   "source": [
    "# Standardize the data"
   ]
  },
  {
   "cell_type": "code",
   "execution_count": 83,
   "metadata": {},
   "outputs": [],
   "source": [
    "scaler = StandardScaler()\n",
    "\n",
    "# Fit on training set only.\n",
    "scaler.fit(X_train_lr_s2)\n",
    "\n",
    "# Apply transform to both the training set and the test set.\n",
    "X_train_lr_s2 = scaler.transform(X_train_lr_s2)\n",
    "X_test_lr_s2 = scaler.transform(X_test_lr_s2)"
   ]
  },
  {
   "cell_type": "markdown",
   "metadata": {},
   "source": [
    "## Tune the hyperparameter"
   ]
  },
  {
   "cell_type": "code",
   "execution_count": 84,
   "metadata": {},
   "outputs": [
    {
     "name": "stdout",
     "output_type": "stream",
     "text": [
      "Fitting 3 folds for each of 108 candidates, totalling 324 fits\n",
      "Best Score (F1 score): 0.527820\n",
      "Optimal Hyperparameter Values:  {'C': 0.1, 'max_iter': 500, 'multi_class': 'multinomial', 'solver': 'newton-cg', 'tol': 0.001}\n",
      "\n",
      "\n",
      "CPU times: total: 1.64 s\n",
      "Wall time: 7.78 s\n"
     ]
    }
   ],
   "source": [
    "%%time\n",
    "param_grid_lr_s2 = {'solver': [ 'newton-cg', 'lbfgs'], \n",
    "              'multi_class' : ['multinomial'],\n",
    "              'tol': [1e-3, 1e-4, 1e-5], 'max_iter':[500, 1000],'C': [0.001,0.01,0.1, 0.5, 1, 10, 15, 50, 100]}\n",
    "\n",
    "lg_reg = LogisticRegression()\n",
    "\n",
    "lg_reg_cv = GridSearchCV(lg_reg, param_grid_lr_s2, scoring='f1_micro', cv=3, verbose=1, n_jobs=-1)\n",
    "lg_reg_cv.fit(X_train_lr_s2, y_train_s2)\n",
    "\n",
    "params_optimal_lr_s2 = lg_reg_cv.best_params_\n",
    "\n",
    "print(\"Best Score (F1 score): %f\" % lg_reg_cv.best_score_)\n",
    "print(\"Optimal Hyperparameter Values: \", params_optimal_lr_s2)\n",
    "print(\"\\n\")"
   ]
  },
  {
   "cell_type": "markdown",
   "metadata": {},
   "source": [
    "## Train the logistic Regression model"
   ]
  },
  {
   "cell_type": "code",
   "execution_count": 85,
   "metadata": {},
   "outputs": [
    {
     "data": {
      "text/plain": [
       "LogisticRegression(C=0.1, max_iter=500, multi_class='multinomial',\n",
       "                   solver='newton-cg', tol=0.001)"
      ]
     },
     "execution_count": 85,
     "metadata": {},
     "output_type": "execute_result"
    }
   ],
   "source": [
    "lg_reg_lr_s2 = LogisticRegression(**params_optimal_lr_s2)\n",
    "\n",
    "lg_reg_lr_s2.fit(X_train_lr_s2, y_train_s2)"
   ]
  },
  {
   "cell_type": "markdown",
   "metadata": {},
   "source": [
    "## Evaluate the model"
   ]
  },
  {
   "cell_type": "code",
   "execution_count": 86,
   "metadata": {},
   "outputs": [
    {
     "name": "stdout",
     "output_type": "stream",
     "text": [
      "No. of Iterations: [16]\n",
      "\n",
      "Training Accuracy:  0.5308831036242981\n",
      "\n",
      "Test Accuracy:  0.5306122448979592\n",
      "\n",
      "Test Confusion Matrix:\n",
      "[[  0   0   1   2   0   0   0]\n",
      " [  0   1  14  19   0   0   0]\n",
      " [  0   0 158 147   0   0   0]\n",
      " [  1   0  70 326  35   0   0]\n",
      " [  0   0   9 128  35   0   0]\n",
      " [  0   1   1  21  10   0   0]\n",
      " [  0   0   0   0   1   0   0]]\n",
      "\n",
      "Classification Report:\n",
      "              precision    recall  f1-score   support\n",
      "\n",
      "           3       0.00      0.00      0.00         3\n",
      "           4       0.50      0.03      0.06        34\n",
      "           5       0.62      0.52      0.57       305\n",
      "           6       0.51      0.75      0.61       432\n",
      "           7       0.43      0.20      0.28       172\n",
      "           8       0.00      0.00      0.00        33\n",
      "           9       0.00      0.00      0.00         1\n",
      "\n",
      "    accuracy                           0.53       980\n",
      "   macro avg       0.29      0.22      0.22       980\n",
      "weighted avg       0.51      0.53      0.49       980\n",
      "\n"
     ]
    }
   ],
   "source": [
    "print(\"No. of Iterations:\",lg_reg_lr_s2.n_iter_ )\n",
    "\n",
    "\n",
    "y_train_predicted_lr_s2 = lg_reg_lr_s2.predict(X_train_lr_s2)\n",
    "\n",
    "train_accuracy_lr_s2 = np.mean(y_train_predicted_lr_s2 == y_train_s2)\n",
    "print(\"\\nTraining Accuracy: \", train_accuracy_lr_s2)\n",
    "\n",
    "\n",
    "y_test_predicted_lr_s2 = lg_reg_lr_s2.predict(X_test_lr_s2)\n",
    "\n",
    "accuracy_score_test_lr_s2 = np.mean(y_test_predicted_lr_s2 == y_test_s2)\n",
    "print(\"\\nTest Accuracy: \", accuracy_score_test_lr_s2)\n",
    "\n",
    "\n",
    "print(\"\\nTest Confusion Matrix:\")\n",
    "print(confusion_matrix(y_test_s2, y_test_predicted_lr_s2))\n",
    "\n",
    "\n",
    "print(\"\\nClassification Report:\")\n",
    "print(classification_report(y_test_s2, y_test_predicted_lr_s2))"
   ]
  },
  {
   "cell_type": "markdown",
   "metadata": {},
   "source": [
    "## Experiment 2 Model: Polynomial Logistic Regression (using batch Gradient Descent) for Subset 2"
   ]
  },
  {
   "cell_type": "markdown",
   "metadata": {},
   "source": [
    "## Standardize the data"
   ]
  },
  {
   "cell_type": "code",
   "execution_count": 197,
   "metadata": {},
   "outputs": [],
   "source": [
    "scaler = StandardScaler()\n",
    "\n",
    "# Fit on training set only.\n",
    "scaler.fit(X_train_plr_s2)\n",
    "\n",
    "# Apply transform to both the training set and the test set.\n",
    "X_train_plr_s2 = scaler.transform(X_train_plr_s2)\n",
    "X_test_plr_s2 = scaler.transform(X_test_plr_s2)"
   ]
  },
  {
   "cell_type": "markdown",
   "metadata": {},
   "source": [
    "## Trying with degree 2"
   ]
  },
  {
   "cell_type": "code",
   "execution_count": 198,
   "metadata": {},
   "outputs": [
    {
     "data": {
      "text/plain": [
       "(3918, 14)"
      ]
     },
     "execution_count": 198,
     "metadata": {},
     "output_type": "execute_result"
    }
   ],
   "source": [
    "#create polynomial features\n",
    "poly_s2 = PolynomialFeatures(degree = 2,  include_bias=False)\n",
    "X_poly_s2 = poly_s2.fit_transform(X_train_plr_s2)\n",
    "X_poly_s2.shape"
   ]
  },
  {
   "cell_type": "code",
   "execution_count": 199,
   "metadata": {},
   "outputs": [
    {
     "data": {
      "text/plain": [
       "0.5265306122448979"
      ]
     },
     "execution_count": 199,
     "metadata": {},
     "output_type": "execute_result"
    }
   ],
   "source": [
    "# train the model creating pipeline\n",
    "lr = LogisticRegression()\n",
    "pipe = Pipeline([('polynomial_features',poly_s2), ('logistic_regression',lr)])\n",
    "pipe.fit(X_train_plr_s2, y_train_s2)\n",
    "pipe.score(X_test_plr_s2 ,y_test_s2)"
   ]
  },
  {
   "cell_type": "markdown",
   "metadata": {},
   "source": [
    "## Trying with degree 3"
   ]
  },
  {
   "cell_type": "code",
   "execution_count": 200,
   "metadata": {},
   "outputs": [
    {
     "data": {
      "text/plain": [
       "(3918, 34)"
      ]
     },
     "execution_count": 200,
     "metadata": {},
     "output_type": "execute_result"
    }
   ],
   "source": [
    "#create polynomial features\n",
    "poly_s2 = PolynomialFeatures(degree = 3,  include_bias=False)\n",
    "X_poly_s2 = poly_s2.fit_transform(X_train_plr_s2)\n",
    "X_poly_s2.shape"
   ]
  },
  {
   "cell_type": "code",
   "execution_count": 201,
   "metadata": {},
   "outputs": [
    {
     "data": {
      "text/plain": [
       "0.5285714285714286"
      ]
     },
     "execution_count": 201,
     "metadata": {},
     "output_type": "execute_result"
    }
   ],
   "source": [
    "# train the model creating pipeline\n",
    "lr = LogisticRegression()\n",
    "pipe = Pipeline([('polynomial_features',poly_s2), ('logistic_regression',lr)])\n",
    "pipe.fit(X_train_plr_s2, y_train_s2)\n",
    "pipe.score(X_test_plr_s2 ,y_test_s2)"
   ]
  },
  {
   "cell_type": "markdown",
   "metadata": {},
   "source": [
    "## Trying with degree 4"
   ]
  },
  {
   "cell_type": "code",
   "execution_count": 202,
   "metadata": {},
   "outputs": [
    {
     "data": {
      "text/plain": [
       "(3918, 69)"
      ]
     },
     "execution_count": 202,
     "metadata": {},
     "output_type": "execute_result"
    }
   ],
   "source": [
    "#create polynomial features\n",
    "poly_s2 = PolynomialFeatures(degree = 4,  include_bias=False)\n",
    "X_poly_s2 = poly_s2.fit_transform(X_train_plr_s2)\n",
    "X_poly_s2.shape"
   ]
  },
  {
   "cell_type": "code",
   "execution_count": 203,
   "metadata": {},
   "outputs": [
    {
     "data": {
      "text/plain": [
       "0.513265306122449"
      ]
     },
     "execution_count": 203,
     "metadata": {},
     "output_type": "execute_result"
    }
   ],
   "source": [
    "# train the model creating pipeline\n",
    "lr = LogisticRegression()\n",
    "pipe = Pipeline([('polynomial_features',poly_s2), ('logistic_regression',lr)])\n",
    "pipe.fit(X_train_plr_s2, y_train_s2)\n",
    "pipe.score(X_test_plr_s2 ,y_test_s2)"
   ]
  },
  {
   "cell_type": "markdown",
   "metadata": {},
   "source": [
    "## Trying with degree 5"
   ]
  },
  {
   "cell_type": "code",
   "execution_count": 204,
   "metadata": {},
   "outputs": [
    {
     "data": {
      "text/plain": [
       "(3918, 125)"
      ]
     },
     "execution_count": 204,
     "metadata": {},
     "output_type": "execute_result"
    }
   ],
   "source": [
    "#create polynomial features\n",
    "poly_s2 = PolynomialFeatures(degree = 5,  include_bias=False)\n",
    "X_poly_s2 = poly_s2.fit_transform(X_train_plr_s2)\n",
    "X_poly_s2.shape"
   ]
  },
  {
   "cell_type": "code",
   "execution_count": 205,
   "metadata": {},
   "outputs": [
    {
     "data": {
      "text/plain": [
       "0.49081632653061225"
      ]
     },
     "execution_count": 205,
     "metadata": {},
     "output_type": "execute_result"
    }
   ],
   "source": [
    "# train the model creating pipeline\n",
    "lr = LogisticRegression()\n",
    "pipe = Pipeline([('polynomial_features',poly_s2), ('logistic_regression',lr)])\n",
    "pipe.fit(X_train_plr_s2, y_train_s2)\n",
    "pipe.score(X_test_plr_s2 ,y_test_s2)"
   ]
  },
  {
   "cell_type": "markdown",
   "metadata": {},
   "source": [
    "## Trying with degree 6"
   ]
  },
  {
   "cell_type": "code",
   "execution_count": 206,
   "metadata": {},
   "outputs": [
    {
     "data": {
      "text/plain": [
       "(3918, 209)"
      ]
     },
     "execution_count": 206,
     "metadata": {},
     "output_type": "execute_result"
    }
   ],
   "source": [
    "#create polynomial features\n",
    "poly_s2 = PolynomialFeatures(degree = 6,  include_bias=False)\n",
    "X_poly_s2 = poly_s2.fit_transform(X_train_plr_s2)\n",
    "X_poly_s2.shape"
   ]
  },
  {
   "cell_type": "code",
   "execution_count": 207,
   "metadata": {},
   "outputs": [
    {
     "data": {
      "text/plain": [
       "0.42244897959183675"
      ]
     },
     "execution_count": 207,
     "metadata": {},
     "output_type": "execute_result"
    }
   ],
   "source": [
    "# train the model creating pipeline\n",
    "lr = LogisticRegression()\n",
    "pipe = Pipeline([('polynomial_features',poly_s2), ('logistic_regression',lr)])\n",
    "pipe.fit(X_train_plr_s2, y_train_s2)\n",
    "pipe.score(X_test_plr_s2 ,y_test_s2)"
   ]
  },
  {
   "cell_type": "markdown",
   "metadata": {},
   "source": [
    "### From above trials degree 3 gives the highest test accuracy of 52.80 %. Now lets find other hyperparameters and Train again with all the parameters"
   ]
  },
  {
   "cell_type": "markdown",
   "metadata": {},
   "source": [
    "## Hyperparameter tuning"
   ]
  },
  {
   "cell_type": "code",
   "execution_count": 87,
   "metadata": {},
   "outputs": [
    {
     "data": {
      "text/plain": [
       "(3918, 34)"
      ]
     },
     "execution_count": 87,
     "metadata": {},
     "output_type": "execute_result"
    }
   ],
   "source": [
    "#create polynomial features\n",
    "poly_s2 = PolynomialFeatures(degree = 3,  include_bias=False)\n",
    "X_poly_s2 = poly_s2.fit_transform(X_train_plr_s2)\n",
    "X_poly_s2.shape"
   ]
  },
  {
   "cell_type": "code",
   "execution_count": 88,
   "metadata": {},
   "outputs": [
    {
     "name": "stdout",
     "output_type": "stream",
     "text": [
      "Fitting 3 folds for each of 36 candidates, totalling 108 fits\n",
      "Best Score (F1 score): 0.535733\n",
      "Optimal Hyperparameter Values:  {'C': 0.1, 'max_iter': 500, 'multi_class': 'multinomial', 'solver': 'newton-cg', 'tol': 0.001}\n",
      "\n",
      "\n",
      "CPU times: total: 46.4 s\n",
      "Wall time: 1min 21s\n"
     ]
    }
   ],
   "source": [
    "%%time\n",
    "param_grid_plr_s2 = {'solver': [ 'newton-cg', 'lbfgs'], \n",
    "              'multi_class' : ['multinomial'],\n",
    "              'tol': [1e-3, 1e-4, 1e-5], 'max_iter':[500, 1000],'C': [0.001,0.01,0.1]}\n",
    "\n",
    "lg_reg = LogisticRegression()\n",
    "\n",
    "lg_reg_cv = GridSearchCV(lg_reg, param_grid_plr_s2, scoring='f1_micro', cv=3, verbose=1, n_jobs=-1)\n",
    "lg_reg_cv.fit(X_poly_s2, y_train_s2)\n",
    "\n",
    "params_optimal_plr_s2 = lg_reg_cv.best_params_\n",
    "\n",
    "print(\"Best Score (F1 score): %f\" % lg_reg_cv.best_score_)\n",
    "print(\"Optimal Hyperparameter Values: \", params_optimal_plr_s2)\n",
    "print(\"\\n\")"
   ]
  },
  {
   "cell_type": "markdown",
   "metadata": {},
   "source": [
    "## Train the model with optimal hyperparameters"
   ]
  },
  {
   "cell_type": "code",
   "execution_count": 90,
   "metadata": {},
   "outputs": [
    {
     "data": {
      "text/plain": [
       "0.5306122448979592"
      ]
     },
     "execution_count": 90,
     "metadata": {},
     "output_type": "execute_result"
    }
   ],
   "source": [
    "# train the model creating pipeline\n",
    "lr = LogisticRegression(**params_optimal_plr_s2)\n",
    "pipe = Pipeline([('polynomial_features',poly_s2), ('logistic_regression',lr)])\n",
    "pipe.fit(X_train_plr_s2, y_train_s2)\n",
    "pipe.score(X_test_plr_s2 ,y_test_s2)"
   ]
  },
  {
   "cell_type": "markdown",
   "metadata": {},
   "source": [
    "## Evaluate the model"
   ]
  },
  {
   "cell_type": "code",
   "execution_count": 91,
   "metadata": {},
   "outputs": [
    {
     "name": "stdout",
     "output_type": "stream",
     "text": [
      "\n",
      "Training Accuracy:  0.5387953037263911\n",
      "\n",
      "Test Accuracy:  0.5306122448979592\n",
      "\n",
      "Test Confusion Matrix:\n",
      "[[  0   0   1   2   0   0   0]\n",
      " [  0   2  14  18   0   0   0]\n",
      " [  0   0 168 137   0   0   0]\n",
      " [  0   1  75 312  44   0   0]\n",
      " [  0   0  10 124  38   0   0]\n",
      " [  0   0   1  21  11   0   0]\n",
      " [  0   0   0   0   1   0   0]]\n",
      "\n",
      "Classification Report:\n",
      "              precision    recall  f1-score   support\n",
      "\n",
      "           3       0.00      0.00      0.00         3\n",
      "           4       0.67      0.06      0.11        34\n",
      "           5       0.62      0.55      0.59       305\n",
      "           6       0.51      0.72      0.60       432\n",
      "           7       0.40      0.22      0.29       172\n",
      "           8       0.00      0.00      0.00        33\n",
      "           9       0.00      0.00      0.00         1\n",
      "\n",
      "    accuracy                           0.53       980\n",
      "   macro avg       0.31      0.22      0.23       980\n",
      "weighted avg       0.51      0.53      0.50       980\n",
      "\n"
     ]
    }
   ],
   "source": [
    "\n",
    "y_train_predicted_plr_s2 = pipe.predict(X_train_plr_s2)\n",
    "\n",
    "train_accuracy_plr_s2 = np.mean(y_train_predicted_plr_s2 == y_train_s2)\n",
    "print(\"\\nTraining Accuracy: \", train_accuracy_plr_s2)\n",
    "\n",
    "y_test_predicted_plr_s2 = pipe.predict(X_test_plr_s2)\n",
    "\n",
    "accuracy_score_test_plr_s2 = np.mean(y_test_predicted_plr_s2 == y_test_s2)\n",
    "print(\"\\nTest Accuracy: \", accuracy_score_test_plr_s2)\n",
    "\n",
    "\n",
    "print(\"\\nTest Confusion Matrix:\")\n",
    "print(confusion_matrix(y_test_s2, y_test_predicted_plr_s2))\n",
    "\n",
    "\n",
    "print(\"\\nClassification Report:\")\n",
    "print(classification_report(y_test_s2, y_test_predicted_plr_s2))"
   ]
  },
  {
   "cell_type": "markdown",
   "metadata": {},
   "source": [
    "# Experiment 2 Subset 3"
   ]
  },
  {
   "cell_type": "markdown",
   "metadata": {},
   "source": [
    "## Create Data Matrix X and Target y"
   ]
  },
  {
   "cell_type": "code",
   "execution_count": 228,
   "metadata": {},
   "outputs": [
    {
     "name": "stdout",
     "output_type": "stream",
     "text": [
      "Data frame X:\n",
      "      alcohol  volatile acidity  density  chlorides  total sulfur dioxide  \\\n",
      "0         8.8              0.27  1.00100      0.045                 170.0   \n",
      "1         9.5              0.30  0.99400      0.049                 132.0   \n",
      "2        10.1              0.28  0.99510      0.050                  97.0   \n",
      "3         9.9              0.23  0.99560      0.058                 186.0   \n",
      "4         9.9              0.23  0.99560      0.058                 186.0   \n",
      "...       ...               ...      ...        ...                   ...   \n",
      "4893     11.2              0.21  0.99114      0.039                  92.0   \n",
      "4894      9.6              0.32  0.99490      0.047                 168.0   \n",
      "4895      9.4              0.24  0.99254      0.041                 111.0   \n",
      "4896     12.8              0.29  0.98869      0.022                 110.0   \n",
      "4897     11.8              0.21  0.98941      0.020                  98.0   \n",
      "\n",
      "      fixed acidity  \n",
      "0               7.0  \n",
      "1               6.3  \n",
      "2               8.1  \n",
      "3               7.2  \n",
      "4               7.2  \n",
      "...             ...  \n",
      "4893            6.2  \n",
      "4894            6.6  \n",
      "4895            6.5  \n",
      "4896            5.5  \n",
      "4897            6.0  \n",
      "\n",
      "[4898 rows x 6 columns]\n",
      "\n",
      "Data frame y:\n",
      "0       6\n",
      "1       6\n",
      "2       6\n",
      "3       6\n",
      "4       6\n",
      "       ..\n",
      "4893    6\n",
      "4894    5\n",
      "4895    6\n",
      "4896    7\n",
      "4897    6\n",
      "Name: quality, Length: 4898, dtype: int64\n",
      "X Data Shape:  (4898, 6)\n",
      "y Data Shape:  (4898,)\n",
      "X Data Type:  float64\n",
      "y Data Type:  int64\n"
     ]
    }
   ],
   "source": [
    "x_data_subset_3 = df_main[['alcohol', 'volatile acidity', 'density', 'chlorides', 'total sulfur dioxide','fixed acidity']]\n",
    "y_data_subset_3 = df_main['quality']\n",
    "\n",
    "print(\"Data frame X:\")\n",
    "print(x_data_subset_3)\n",
    "print(\"\\nData frame y:\")\n",
    "print(y_data_subset_3)\n",
    "\n",
    "\n",
    "Xs3 = np.asarray(x_data_subset_3) # Data Matrix containing all features excluding the target\n",
    "ys3 = np.asarray(y_data_subset_3) # 1D target array\n",
    "\n",
    "print(\"X Data Shape: \", Xs3.shape)\n",
    "print(\"y Data Shape: \", ys3.shape)\n",
    "\n",
    "print(\"X Data Type: \", Xs3.dtype)\n",
    "print(\"y Data Type: \", ys3.dtype)"
   ]
  },
  {
   "cell_type": "code",
   "execution_count": 229,
   "metadata": {},
   "outputs": [],
   "source": [
    "#Create Train and Test Dataset\n",
    "\n",
    "X_train_s3, X_test_s3, y_train_s3, y_test_s3 = train_test_split(Xs3, ys3, test_size=0.2, random_state=2)"
   ]
  },
  {
   "cell_type": "code",
   "execution_count": 230,
   "metadata": {},
   "outputs": [],
   "source": [
    "#Create deep copy for other models\n",
    "\n",
    "X_train_lr_s3 = X_train_s3.copy()\n",
    "X_test_lr_s3 = X_test_s3.copy()\n",
    "\n",
    "X_train_plr_s3 = X_train_s3.copy()\n",
    "X_test_plr_s3 = X_test_s3.copy()"
   ]
  },
  {
   "cell_type": "markdown",
   "metadata": {},
   "source": [
    "## Model  : KNN Model Subset 3"
   ]
  },
  {
   "cell_type": "code",
   "execution_count": 95,
   "metadata": {},
   "outputs": [],
   "source": [
    "# scaler = StandardScaler()\n",
    "\n",
    "# Fit on training set only.\n",
    "scaler.fit(X_train_s3)\n",
    "\n",
    "# Apply transform to both the training set and the test set.\n",
    "X_train_s3 = scaler.transform(X_train_s3)\n",
    "X_test_s3 = scaler.transform(X_test_s3)"
   ]
  },
  {
   "cell_type": "markdown",
   "metadata": {},
   "source": [
    "## Model Selection"
   ]
  },
  {
   "cell_type": "code",
   "execution_count": 96,
   "metadata": {},
   "outputs": [
    {
     "name": "stdout",
     "output_type": "stream",
     "text": [
      "Fitting 5 folds for each of 414 candidates, totalling 2070 fits\n",
      "Best Score: 0.663349\n",
      "Optimal Hyperparameter Values:  {'n_neighbors': 63, 'p': 1, 'weights': 'distance'}\n",
      "\n",
      "\n",
      "CPU times: total: 1.83 s\n",
      "Wall time: 29 s\n"
     ]
    }
   ],
   "source": [
    "%%time\n",
    "\n",
    "warnings.filterwarnings('ignore')\n",
    "\n",
    "# The param_grid tells Scikit-Learn to evaluate all combinations of the hyperparameter values\n",
    "param_grid_s3 = {'n_neighbors': np.arange(1,70), 'p': [1, 2, 10], \n",
    "              'weights': [\"uniform\", \"distance\"]}\n",
    "\n",
    "knn_clf_s3 = KNeighborsClassifier()\n",
    "\n",
    "knn_cv_s3 = GridSearchCV(knn_clf_s3, param_grid_s3, scoring='f1_micro', cv=5, verbose=3, n_jobs=-1)\n",
    "knn_cv_s3.fit(X_train_s3, y_train_s3)\n",
    "\n",
    "\n",
    "params_optimal_knn_s3 = knn_cv_s3.best_params_\n",
    "\n",
    "print(\"Best Score: %f\" % knn_cv_s3.best_score_)\n",
    "print(\"Optimal Hyperparameter Values: \", params_optimal_knn_s3)\n",
    "print(\"\\n\")"
   ]
  },
  {
   "cell_type": "markdown",
   "metadata": {},
   "source": [
    "## Train the model with optimal hyperparameter"
   ]
  },
  {
   "cell_type": "code",
   "execution_count": 97,
   "metadata": {},
   "outputs": [
    {
     "name": "stdout",
     "output_type": "stream",
     "text": [
      "CPU times: total: 172 ms\n",
      "Wall time: 183 ms\n"
     ]
    }
   ],
   "source": [
    "%%time\n",
    "\n",
    "#Use the optimal hyperparameter values to train a new model, as follows.\n",
    "\n",
    "knn_s3 = KNeighborsClassifier(**params_optimal_knn_s3)\n",
    "\n",
    "knn_s3.fit(X_train_s3, y_train_s3)\n",
    "\n",
    "y_train_predicted_s3 = knn_s3.predict(X_train_s3)"
   ]
  },
  {
   "cell_type": "code",
   "execution_count": 98,
   "metadata": {},
   "outputs": [
    {
     "name": "stdout",
     "output_type": "stream",
     "text": [
      "\n",
      "Training Accuracy:  1.0\n",
      "\n",
      "Test Accuracy:  0.6581632653061225\n",
      "\n",
      "No. of correct predictions (Test): 645/980\n",
      "\n",
      "Confusion Matrix (Test Data):\n",
      " [[  0   0   1   1   1   0   0]\n",
      " [  0   3  14  17   0   0   0]\n",
      " [  0   0 203 102   0   0   0]\n",
      " [  0   0  58 337  37   0   0]\n",
      " [  0   0   5  75  92   0   0]\n",
      " [  0   0   1  16   6  10   0]\n",
      " [  0   0   0   0   1   0   0]]\n",
      "\n",
      "Classification Report:\n",
      "              precision    recall  f1-score   support\n",
      "\n",
      "           3       0.00      0.00      0.00         3\n",
      "           4       1.00      0.09      0.16        34\n",
      "           5       0.72      0.67      0.69       305\n",
      "           6       0.61      0.78      0.69       432\n",
      "           7       0.67      0.53      0.60       172\n",
      "           8       1.00      0.30      0.47        33\n",
      "           9       0.00      0.00      0.00         1\n",
      "\n",
      "    accuracy                           0.66       980\n",
      "   macro avg       0.57      0.34      0.37       980\n",
      "weighted avg       0.68      0.66      0.64       980\n",
      "\n",
      "CPU times: total: 109 ms\n",
      "Wall time: 98.3 ms\n"
     ]
    }
   ],
   "source": [
    "%%time\n",
    "\n",
    "train_accuracy_knn_s3 = np.mean(y_train_predicted_s3 == y_train_s3)\n",
    "print(\"\\nTraining Accuracy: \", train_accuracy_knn_s3)\n",
    "\n",
    "# The accuracy of the model\n",
    "test_accuracy_knn_s3 = knn_s3.score(X_test_s3, y_test_s3)\n",
    "print(\"\\nTest Accuracy: \", test_accuracy_knn_s3)\n",
    "\n",
    "\n",
    "# No. of Correct Predictions\n",
    "y_test_predicted_s3 = knn_s3.predict(X_test_s3)\n",
    "print(\"\\nNo. of correct predictions (Test): %d/%d\" % (np.sum(y_test_predicted_s3 == y_test_s3), len(y_test_s3)))\n",
    "\n",
    "\n",
    "# Confusion Matrix\n",
    "print(\"\\nConfusion Matrix (Test Data):\\n\", confusion_matrix(y_test_s3, y_test_predicted_s3))\n",
    "\n",
    "print(\"\\nClassification Report:\")\n",
    "print(classification_report(y_test_s3, y_test_predicted_s3))\n"
   ]
  },
  {
   "cell_type": "markdown",
   "metadata": {},
   "source": [
    "# Experiment 2 Model : Logistic Regression (use batch Gradient Descent) for Subset 3"
   ]
  },
  {
   "cell_type": "markdown",
   "metadata": {},
   "source": [
    "## Standardize the data"
   ]
  },
  {
   "cell_type": "code",
   "execution_count": 231,
   "metadata": {},
   "outputs": [],
   "source": [
    "scaler = StandardScaler()\n",
    "\n",
    "# Fit on training set only.\n",
    "scaler.fit(X_train_lr_s3)\n",
    "\n",
    "# Apply transform to both the training set and the test set.\n",
    "X_train_lr_s3 = scaler.transform(X_train_lr_s3)\n",
    "X_test_lr_s3 = scaler.transform(X_test_lr_s3)"
   ]
  },
  {
   "cell_type": "markdown",
   "metadata": {},
   "source": [
    "## Tune the hyperparameter"
   ]
  },
  {
   "cell_type": "code",
   "execution_count": 232,
   "metadata": {},
   "outputs": [
    {
     "name": "stdout",
     "output_type": "stream",
     "text": [
      "Fitting 3 folds for each of 108 candidates, totalling 324 fits\n",
      "Best Score (F1 score): 0.531394\n",
      "Optimal Hyperparameter Values:  {'C': 0.1, 'max_iter': 500, 'multi_class': 'multinomial', 'solver': 'newton-cg', 'tol': 0.001}\n",
      "\n",
      "\n",
      "CPU times: total: 2.22 s\n",
      "Wall time: 12.7 s\n"
     ]
    }
   ],
   "source": [
    "%%time\n",
    "param_grid_lr_s3 = {'solver': [ 'newton-cg', 'lbfgs'], \n",
    "              'multi_class' : ['multinomial'],\n",
    "              'tol': [1e-3, 1e-4, 1e-5], 'max_iter':[500, 1000],'C': [0.001,0.01,0.1, 0.5, 1, 10, 15, 50, 100]}\n",
    "\n",
    "lg_reg = LogisticRegression()\n",
    "\n",
    "lg_reg_cv = GridSearchCV(lg_reg, param_grid_lr_s3, scoring='f1_micro', cv=3, verbose=1, n_jobs=-1)\n",
    "lg_reg_cv.fit(X_train_lr_s3, y_train_s3)\n",
    "\n",
    "params_optimal_lr_s3 = lg_reg_cv.best_params_\n",
    "\n",
    "print(\"Best Score (F1 score): %f\" % lg_reg_cv.best_score_)\n",
    "print(\"Optimal Hyperparameter Values: \", params_optimal_lr_s3)\n",
    "print(\"\\n\")"
   ]
  },
  {
   "cell_type": "markdown",
   "metadata": {},
   "source": [
    "## Train the logistic Regression model"
   ]
  },
  {
   "cell_type": "code",
   "execution_count": 233,
   "metadata": {},
   "outputs": [
    {
     "data": {
      "text/plain": [
       "LogisticRegression(C=0.1, max_iter=500, multi_class='multinomial',\n",
       "                   solver='newton-cg', tol=0.001)"
      ]
     },
     "execution_count": 233,
     "metadata": {},
     "output_type": "execute_result"
    }
   ],
   "source": [
    "lg_reg_lr_s3 = LogisticRegression(**params_optimal_lr_s3)\n",
    "\n",
    "lg_reg_lr_s3.fit(X_train_lr_s3, y_train_s3)"
   ]
  },
  {
   "cell_type": "markdown",
   "metadata": {},
   "source": [
    "## Evaluate the model"
   ]
  },
  {
   "cell_type": "code",
   "execution_count": 237,
   "metadata": {},
   "outputs": [
    {
     "name": "stdout",
     "output_type": "stream",
     "text": [
      "No. of Iterations: [15]\n",
      "\n",
      "Train Accuracy:  0.5334354262378764\n",
      "\n",
      "Test Accuracy:  0.5357142857142857\n",
      "\n",
      "Test Confusion Matrix:\n",
      "[[  0   0   1   2   0   0   0]\n",
      " [  0   3  11  20   0   0   0]\n",
      " [  0   0 158 147   0   0   0]\n",
      " [  0   0  69 329  34   0   0]\n",
      " [  0   0   9 128  35   0   0]\n",
      " [  0   1   1  21  10   0   0]\n",
      " [  0   0   0   0   1   0   0]]\n",
      "\n",
      "Classification Report:\n",
      "              precision    recall  f1-score   support\n",
      "\n",
      "           3       0.00      0.00      0.00         3\n",
      "           4       0.75      0.09      0.16        34\n",
      "           5       0.63      0.52      0.57       305\n",
      "           6       0.51      0.76      0.61       432\n",
      "           7       0.44      0.20      0.28       172\n",
      "           8       0.00      0.00      0.00        33\n",
      "           9       0.00      0.00      0.00         1\n",
      "\n",
      "    accuracy                           0.54       980\n",
      "   macro avg       0.33      0.22      0.23       980\n",
      "weighted avg       0.52      0.54      0.50       980\n",
      "\n"
     ]
    }
   ],
   "source": [
    "print(\"No. of Iterations:\",lg_reg_lr_s3.n_iter_ )\n",
    "\n",
    "y_train_predicted_lr_s3 = lg_reg_lr_s3.predict(X_train_lr_s3)\n",
    "\n",
    "accuracy_score_train_lr_s3 = np.mean(y_train_predicted_lr_s3 == y_train_s3)\n",
    "print(\"\\nTrain Accuracy: \", accuracy_score_train_lr_s3)\n",
    "\n",
    "y_test_predicted_lr_s3 = lg_reg_lr_s3.predict(X_test_lr_s3)\n",
    "\n",
    "accuracy_score_test_lr_s3 = np.mean(y_test_predicted_lr_s3 == y_test_s3)\n",
    "print(\"\\nTest Accuracy: \", accuracy_score_test_lr_s3)\n",
    "\n",
    "\n",
    "print(\"\\nTest Confusion Matrix:\")\n",
    "print(confusion_matrix(y_test_s3, y_test_predicted_lr_s3))\n",
    "\n",
    "\n",
    "print(\"\\nClassification Report:\")\n",
    "print(classification_report(y_test_s3, y_test_predicted_lr_s3))"
   ]
  },
  {
   "cell_type": "markdown",
   "metadata": {},
   "source": [
    "# Experiment 2 Model: Polynomial Logistic Regression (using batch Gradient Descent) for Subset 3"
   ]
  },
  {
   "cell_type": "markdown",
   "metadata": {},
   "source": [
    "## Standardize the data"
   ]
  },
  {
   "cell_type": "code",
   "execution_count": 243,
   "metadata": {},
   "outputs": [],
   "source": [
    "scaler = StandardScaler()\n",
    "\n",
    "# Fit on training set only.\n",
    "scaler.fit(X_train_plr_s3)\n",
    "\n",
    "# Apply transform to both the training set and the test set.\n",
    "X_train_plr_s3 = scaler.transform(X_train_plr_s3)\n",
    "X_test_plr_s3 = scaler.transform(X_test_plr_s3)"
   ]
  },
  {
   "cell_type": "markdown",
   "metadata": {},
   "source": [
    "##  Trying with degree 2"
   ]
  },
  {
   "cell_type": "code",
   "execution_count": 244,
   "metadata": {},
   "outputs": [
    {
     "data": {
      "text/plain": [
       "(3918, 27)"
      ]
     },
     "execution_count": 244,
     "metadata": {},
     "output_type": "execute_result"
    }
   ],
   "source": [
    "#create polynomial features\n",
    "poly_s3 = PolynomialFeatures(degree = 2,  include_bias=False)\n",
    "X_poly_s3 = poly_s3.fit_transform(X_train_plr_s3)\n",
    "X_poly_s3.shape"
   ]
  },
  {
   "cell_type": "code",
   "execution_count": 245,
   "metadata": {},
   "outputs": [
    {
     "data": {
      "text/plain": [
       "0.536734693877551"
      ]
     },
     "execution_count": 245,
     "metadata": {},
     "output_type": "execute_result"
    }
   ],
   "source": [
    "# train the model creating pipeline\n",
    "lr = LogisticRegression()\n",
    "pipe = Pipeline([('polynomial_features',poly_s3), ('logistic_regression',lr)])\n",
    "pipe.fit(X_train_plr_s3, y_train_s3)\n",
    "pipe.score(X_test_plr_s3 ,y_test_s3)"
   ]
  },
  {
   "cell_type": "markdown",
   "metadata": {},
   "source": [
    "## Trying with degree 3"
   ]
  },
  {
   "cell_type": "code",
   "execution_count": 246,
   "metadata": {},
   "outputs": [
    {
     "data": {
      "text/plain": [
       "(3918, 83)"
      ]
     },
     "execution_count": 246,
     "metadata": {},
     "output_type": "execute_result"
    }
   ],
   "source": [
    "#create polynomial features\n",
    "poly_s3 = PolynomialFeatures(degree = 3,  include_bias=False)\n",
    "X_poly_s3 = poly_s3.fit_transform(X_train_plr_s3)\n",
    "X_poly_s3.shape"
   ]
  },
  {
   "cell_type": "code",
   "execution_count": 247,
   "metadata": {},
   "outputs": [
    {
     "data": {
      "text/plain": [
       "0.5255102040816326"
      ]
     },
     "execution_count": 247,
     "metadata": {},
     "output_type": "execute_result"
    }
   ],
   "source": [
    "# train the model creating pipeline\n",
    "lr = LogisticRegression()\n",
    "pipe = Pipeline([('polynomial_features',poly_s3), ('logistic_regression',lr)])\n",
    "pipe.fit(X_train_plr_s3, y_train_s3)\n",
    "pipe.score(X_test_plr_s3 ,y_test_s3)"
   ]
  },
  {
   "cell_type": "markdown",
   "metadata": {},
   "source": [
    "## Trying with degree 4"
   ]
  },
  {
   "cell_type": "code",
   "execution_count": 248,
   "metadata": {},
   "outputs": [
    {
     "data": {
      "text/plain": [
       "(3918, 209)"
      ]
     },
     "execution_count": 248,
     "metadata": {},
     "output_type": "execute_result"
    }
   ],
   "source": [
    "#create polynomial features\n",
    "poly_s3 = PolynomialFeatures(degree = 4,  include_bias=False)\n",
    "X_poly_s3 = poly_s3.fit_transform(X_train_plr_s3)\n",
    "X_poly_s3.shape"
   ]
  },
  {
   "cell_type": "code",
   "execution_count": 249,
   "metadata": {},
   "outputs": [
    {
     "data": {
      "text/plain": [
       "0.523469387755102"
      ]
     },
     "execution_count": 249,
     "metadata": {},
     "output_type": "execute_result"
    }
   ],
   "source": [
    "# train the model creating pipeline\n",
    "lr = LogisticRegression()\n",
    "pipe = Pipeline([('polynomial_features',poly_s3), ('logistic_regression',lr)])\n",
    "pipe.fit(X_train_plr_s3, y_train_s3)\n",
    "pipe.score(X_test_plr_s3 ,y_test_s3)"
   ]
  },
  {
   "cell_type": "markdown",
   "metadata": {},
   "source": [
    "## Trying with degree 5"
   ]
  },
  {
   "cell_type": "code",
   "execution_count": 252,
   "metadata": {},
   "outputs": [
    {
     "data": {
      "text/plain": [
       "(3918, 461)"
      ]
     },
     "execution_count": 252,
     "metadata": {},
     "output_type": "execute_result"
    }
   ],
   "source": [
    "#create polynomial features\n",
    "poly_s3 = PolynomialFeatures(degree = 5,  include_bias=False)\n",
    "X_poly_s3 = poly_s3.fit_transform(X_train_plr_s3)\n",
    "X_poly_s3.shape"
   ]
  },
  {
   "cell_type": "code",
   "execution_count": 251,
   "metadata": {},
   "outputs": [
    {
     "data": {
      "text/plain": [
       "0.5255102040816326"
      ]
     },
     "execution_count": 251,
     "metadata": {},
     "output_type": "execute_result"
    }
   ],
   "source": [
    "# train the model creating pipeline\n",
    "lr = LogisticRegression()\n",
    "pipe = Pipeline([('polynomial_features',poly_s3), ('logistic_regression',lr)])\n",
    "pipe.fit(X_train_plr_s3, y_train_s3)\n",
    "pipe.score(X_test_plr_s3 ,y_test_s3)"
   ]
  },
  {
   "cell_type": "markdown",
   "metadata": {},
   "source": [
    "## Trying with degree 6"
   ]
  },
  {
   "cell_type": "code",
   "execution_count": 253,
   "metadata": {},
   "outputs": [
    {
     "data": {
      "text/plain": [
       "(3918, 923)"
      ]
     },
     "execution_count": 253,
     "metadata": {},
     "output_type": "execute_result"
    }
   ],
   "source": [
    "#create polynomial features\n",
    "poly_s3 = PolynomialFeatures(degree = 6,  include_bias=False)\n",
    "X_poly_s3 = poly_s3.fit_transform(X_train_plr_s3)\n",
    "X_poly_s3.shape"
   ]
  },
  {
   "cell_type": "code",
   "execution_count": 254,
   "metadata": {},
   "outputs": [
    {
     "data": {
      "text/plain": [
       "0.46224489795918366"
      ]
     },
     "execution_count": 254,
     "metadata": {},
     "output_type": "execute_result"
    }
   ],
   "source": [
    "# train the model creating pipeline\n",
    "lr = LogisticRegression()\n",
    "pipe = Pipeline([('polynomial_features',poly_s3), ('logistic_regression',lr)])\n",
    "pipe.fit(X_train_plr_s3, y_train_s3)\n",
    "pipe.score(X_test_plr_s3 ,y_test_s3)"
   ]
  },
  {
   "cell_type": "markdown",
   "metadata": {},
   "source": [
    "### From above trials degree 2 gives the highest test accuracy of 53.67 %. Now lets find other hyperparameters and Train the model again with all the parameters"
   ]
  },
  {
   "cell_type": "markdown",
   "metadata": {},
   "source": [
    "## Hyperparameter tuning"
   ]
  },
  {
   "cell_type": "code",
   "execution_count": 102,
   "metadata": {},
   "outputs": [
    {
     "data": {
      "text/plain": [
       "(3918, 27)"
      ]
     },
     "execution_count": 102,
     "metadata": {},
     "output_type": "execute_result"
    }
   ],
   "source": [
    "#create polynomial features\n",
    "poly_s3 = PolynomialFeatures(degree = 2,  include_bias=False)\n",
    "X_poly_s3 = poly_s3.fit_transform(X_train_plr_s3)\n",
    "X_poly_s3.shape"
   ]
  },
  {
   "cell_type": "code",
   "execution_count": 103,
   "metadata": {},
   "outputs": [
    {
     "name": "stdout",
     "output_type": "stream",
     "text": [
      "Fitting 3 folds for each of 36 candidates, totalling 108 fits\n",
      "Best Score (F1 score): 0.534712\n",
      "Optimal Hyperparameter Values:  {'C': 0.1, 'max_iter': 1000, 'multi_class': 'multinomial', 'solver': 'newton-cg', 'tol': 0.001}\n",
      "\n",
      "\n",
      "CPU times: total: 4min 44s\n",
      "Wall time: 9min 11s\n"
     ]
    }
   ],
   "source": [
    "%%time\n",
    "param_grid_plr_s3 = {'solver': [ 'newton-cg', 'lbfgs'], \n",
    "              'multi_class' : ['multinomial'],\n",
    "              'tol': [1e-3, 1e-4, 1e-5], 'max_iter':[500, 1000],'C': [0.001,0.01,0.1]}\n",
    "\n",
    "lg_reg = LogisticRegression()\n",
    "\n",
    "lg_reg_cv = GridSearchCV(lg_reg, param_grid_plr_s3, scoring='f1_micro', cv=3, verbose=1, n_jobs=-1)\n",
    "lg_reg_cv.fit(X_poly_s3, y_train_s3)\n",
    "\n",
    "params_optimal_plr_s3 = lg_reg_cv.best_params_\n",
    "\n",
    "print(\"Best Score (F1 score): %f\" % lg_reg_cv.best_score_)\n",
    "print(\"Optimal Hyperparameter Values: \", params_optimal_plr_s3)\n",
    "print(\"\\n\")"
   ]
  },
  {
   "cell_type": "markdown",
   "metadata": {},
   "source": [
    "## Train the model with optimal hyperparameters"
   ]
  },
  {
   "cell_type": "code",
   "execution_count": 105,
   "metadata": {},
   "outputs": [
    {
     "data": {
      "text/plain": [
       "0.539795918367347"
      ]
     },
     "execution_count": 105,
     "metadata": {},
     "output_type": "execute_result"
    }
   ],
   "source": [
    "# train the model creating pipeline\n",
    "lr = LogisticRegression(**params_optimal_plr_s3)\n",
    "pipe = Pipeline([('polynomial_features',poly_s3), ('logistic_regression',lr)])\n",
    "pipe.fit(X_train_plr_s3, y_train_s3)\n",
    "pipe.score(X_test_plr_s3 ,y_test_s3)"
   ]
  },
  {
   "cell_type": "markdown",
   "metadata": {},
   "source": [
    "## Evaluate the model"
   ]
  },
  {
   "cell_type": "code",
   "execution_count": 106,
   "metadata": {},
   "outputs": [
    {
     "name": "stdout",
     "output_type": "stream",
     "text": [
      "\n",
      "Training Accuracy:  0.5367534456355283\n",
      "\n",
      "Test Accuracy:  0.539795918367347\n",
      "\n",
      "Test Confusion Matrix:\n",
      "[[  1   0   1   1   0   0   0]\n",
      " [  0   3  13  18   0   0   0]\n",
      " [  1   1 162 141   0   0   0]\n",
      " [  0   0  67 319  46   0   0]\n",
      " [  0   0   6 121  44   1   0]\n",
      " [  0   0   1  18  14   0   0]\n",
      " [  0   0   0   0   1   0   0]]\n",
      "\n",
      "Classification Report:\n",
      "              precision    recall  f1-score   support\n",
      "\n",
      "           3       0.50      0.33      0.40         3\n",
      "           4       0.75      0.09      0.16        34\n",
      "           5       0.65      0.53      0.58       305\n",
      "           6       0.52      0.74      0.61       432\n",
      "           7       0.42      0.26      0.32       172\n",
      "           8       0.00      0.00      0.00        33\n",
      "           9       0.00      0.00      0.00         1\n",
      "\n",
      "    accuracy                           0.54       980\n",
      "   macro avg       0.40      0.28      0.30       980\n",
      "weighted avg       0.53      0.54      0.51       980\n",
      "\n"
     ]
    }
   ],
   "source": [
    "\n",
    "y_train_predicted_plr_s3 = pipe.predict(X_train_plr_s3)\n",
    "\n",
    "train_accuracy_plr_s3 = np.mean(y_train_predicted_plr_s3 == y_train_s3)\n",
    "print(\"\\nTraining Accuracy: \", train_accuracy_plr_s3)\n",
    "\n",
    "y_test_predicted_plr_s3 = pipe.predict(X_test_plr_s3)\n",
    "\n",
    "accuracy_score_test_plr_s3 = np.mean(y_test_predicted_plr_s3 == y_test_s3)\n",
    "print(\"\\nTest Accuracy: \", accuracy_score_test_plr_s3)\n",
    "\n",
    "\n",
    "print(\"\\nTest Confusion Matrix:\")\n",
    "print(confusion_matrix(y_test_s3, y_test_predicted_plr_s3))\n",
    "\n",
    "\n",
    "print(\"\\nClassification Report:\")\n",
    "print(classification_report(y_test_s3, y_test_predicted_plr_s3))"
   ]
  },
  {
   "cell_type": "markdown",
   "metadata": {},
   "source": [
    "# Part B:    Multi-class Classification – Unstructured Data & Analysis of Errors"
   ]
  },
  {
   "cell_type": "markdown",
   "metadata": {},
   "source": [
    "## Loads the MNIST dataset"
   ]
  },
  {
   "cell_type": "code",
   "execution_count": 107,
   "metadata": {},
   "outputs": [],
   "source": [
    "import tensorflow as tf\n",
    "from tensorflow import keras\n",
    "\n",
    "(X_trainB, y_trainB), (x_testB, y_testB) = tf.keras.datasets.fashion_mnist.load_data()\n",
    "\n",
    "#Reshape the data: The dimension of the training set is 60000 x 28 x 28 and test\n",
    "#set is 10000 x 28 x 28.\n",
    "\n",
    "#Convert to 60000 x 784 size\n",
    "X_trainB = X_trainB.reshape((X_trainB.shape[0], 784))\n",
    "\n",
    "#Convert to 10000 x 784 size\n",
    "x_testB = x_testB.reshape((x_testB.shape[0], 784))\n",
    "\n",
    "#convert to 1D array\n",
    "y_testB = y_testB.ravel()\n",
    "y_trainB = y_trainB.ravel()\n"
   ]
  },
  {
   "cell_type": "markdown",
   "metadata": {},
   "source": [
    "## Scale the data"
   ]
  },
  {
   "cell_type": "code",
   "execution_count": 108,
   "metadata": {},
   "outputs": [],
   "source": [
    "#scale the data using the min-max scaling technique, i.e., by dividing the training\n",
    "#& test data matrix by 255.0\n",
    "\n",
    "X_trainB = X_trainB/255.0\n",
    "x_testB = x_testB/255.0"
   ]
  },
  {
   "cell_type": "markdown",
   "metadata": {},
   "source": [
    "## Create a List of Class Names"
   ]
  },
  {
   "cell_type": "code",
   "execution_count": 109,
   "metadata": {},
   "outputs": [
    {
     "name": "stdout",
     "output_type": "stream",
     "text": [
      "['T-shirt/top', 'Trouser', 'Pullover', 'Dress', 'Coat', 'Sandal', 'Shirt', 'Sneaker', 'Bag', 'Ankle boot']\n"
     ]
    }
   ],
   "source": [
    "class_names = ['T-shirt/top', 'Trouser', 'Pullover', 'Dress', 'Coat',\n",
    "               'Sandal', 'Shirt', 'Sneaker', 'Bag', 'Ankle boot']\n",
    "\n",
    "print(class_names)"
   ]
  },
  {
   "cell_type": "markdown",
   "metadata": {},
   "source": [
    "# Create multiple Lists Containing Samples of the Same Class"
   ]
  },
  {
   "cell_type": "code",
   "execution_count": 110,
   "metadata": {},
   "outputs": [],
   "source": [
    "samples_MNIST_0 = []\n",
    "# class index\n",
    "\n",
    "class_index_0 = 0 \n",
    "\n",
    "for i in range(len(X_trainB)):\n",
    "    if(y_trainB[i] == class_index_0):\n",
    "        samples_MNIST_0.append(X_trainB[i])\n",
    "        \n",
    "        \n",
    "samples_MNIST_1 = []\n",
    "# class index\n",
    "\n",
    "class_index_1 = 1 \n",
    "\n",
    "for i in range(len(X_trainB)):\n",
    "    if(y_trainB[i] == class_index_1):\n",
    "        samples_MNIST_1.append(X_trainB[i])\n",
    "        \n",
    "samples_MNIST_2 = []\n",
    "# class index\n",
    "\n",
    "class_index_2 = 2 \n",
    "\n",
    "for i in range(len(X_trainB)):\n",
    "    if(y_trainB[i] == class_index_2):\n",
    "        samples_MNIST_2.append(X_trainB[i])\n",
    "        \n",
    "samples_MNIST_3 = []\n",
    "# class index\n",
    "\n",
    "class_index_3 = 3 \n",
    "\n",
    "for i in range(len(X_trainB)):\n",
    "    if(y_trainB[i] == class_index_3):\n",
    "        samples_MNIST_3.append(X_trainB[i])  \n",
    "        \n",
    "        \n",
    "samples_MNIST_4 = []\n",
    "# class index\n",
    "\n",
    "class_index_4 = 4 \n",
    "\n",
    "for i in range(len(X_trainB)):\n",
    "    if(y_trainB[i] == class_index_4):\n",
    "        samples_MNIST_4.append(X_trainB[i])\n",
    "        \n",
    "        \n",
    "samples_MNIST_5 = []\n",
    "# class index\n",
    "\n",
    "class_index_5 = 5 \n",
    "\n",
    "for i in range(len(X_trainB)):\n",
    "    if(y_trainB[i] == class_index_5):\n",
    "        samples_MNIST_5.append(X_trainB[i])\n",
    "\n",
    "        \n",
    "samples_MNIST_6 = []\n",
    "# class index\n",
    "\n",
    "class_index_6 = 6 \n",
    "\n",
    "for i in range(len(X_trainB)):\n",
    "    if(y_trainB[i] == class_index_6):\n",
    "        samples_MNIST_6.append(X_trainB[i]) \n",
    "        \n",
    "samples_MNIST_7 = []\n",
    "# class index\n",
    "\n",
    "class_index_7 = 7 \n",
    "\n",
    "for i in range(len(X_trainB)):\n",
    "    if(y_trainB[i] == class_index_7):\n",
    "        samples_MNIST_7.append(X_trainB[i])\n",
    "        \n",
    "samples_MNIST_8 = []\n",
    "# class index\n",
    "\n",
    "class_index_8 = 8 \n",
    "\n",
    "for i in range(len(X_trainB)):\n",
    "    if(y_trainB[i] == class_index_8):\n",
    "        samples_MNIST_8.append(X_trainB[i])\n",
    "        \n",
    "        \n",
    "        \n",
    "samples_MNIST_9 = []\n",
    "# class index\n",
    "\n",
    "class_index_9 = 9 \n",
    "\n",
    "for i in range(len(X_trainB)):\n",
    "    if(y_trainB[i] == class_index_9):\n",
    "        samples_MNIST_9.append(X_trainB[i])\n",
    "        \n",
    "        "
   ]
  },
  {
   "cell_type": "markdown",
   "metadata": {},
   "source": [
    "# Displaying 15 random images from each class"
   ]
  },
  {
   "cell_type": "code",
   "execution_count": 7,
   "metadata": {},
   "outputs": [
    {
     "data": {
      "image/png": "[encoded data removed]",
      "text/plain": [
       "<Figure size 2016x2016 with 150 Axes>"
      ]
     },
     "metadata": {},
     "output_type": "display_data"
    }
   ],
   "source": [
    "plt.figure(figsize=(28,28))\n",
    "\n",
    "for i in range(150):\n",
    "    \n",
    "        plt.subplot(10,15,i+1)\n",
    "        plt.xticks([])\n",
    "        plt.yticks([])\n",
    "        plt.grid(False)\n",
    "        \n",
    "        #radom.randint(a,b) is used to genrate random sample from the pool of same class sample\n",
    "        \n",
    "        if i >= 0 and i<15 :\n",
    "            plt.imshow(samples_MNIST_0[random.randint(0,len(samples_MNIST_0)-1 )].reshape(28,28), cmap = 'gray', interpolation=\"nearest\")\n",
    "            plt.xlabel(class_names[0])\n",
    "        \n",
    "        if i >= 15 and i<30 :\n",
    "            plt.imshow(samples_MNIST_1[random.randint(0,len(samples_MNIST_1)-1  )].reshape(28,28), cmap = 'gray', interpolation=\"nearest\")\n",
    "            plt.xlabel(class_names[1])\n",
    "            \n",
    "        if i >=  30 and i<45 :\n",
    "            plt.imshow(samples_MNIST_2[random.randint(0,len(samples_MNIST_2)-1  )].reshape(28,28), cmap = 'gray', interpolation=\"nearest\")  \n",
    "            plt.xlabel(class_names[2])\n",
    "                        \n",
    "        if i >=  45 and i<60 :\n",
    "            plt.imshow(samples_MNIST_3[random.randint(0,len(samples_MNIST_3)-1  )].reshape(28,28), cmap = 'gray', interpolation=\"nearest\")\n",
    "            plt.xlabel(class_names[3])\n",
    "                       \n",
    "        if i >=  60 and i<75 :\n",
    "            plt.imshow(samples_MNIST_4[random.randint(0,len(samples_MNIST_4)-1  )].reshape(28,28), cmap = 'gray', interpolation=\"nearest\")\n",
    "            plt.xlabel(class_names[4])\n",
    "                       \n",
    "        if i >=  75 and i<90 :\n",
    "            plt.imshow(samples_MNIST_5[random.randint(0,len(samples_MNIST_5)-1  )].reshape(28,28), cmap = 'gray', interpolation=\"nearest\")\n",
    "            plt.xlabel(class_names[5])\n",
    "                       \n",
    "        if i >=  90 and i<105 :\n",
    "            plt.imshow(samples_MNIST_6[random.randint(0,len(samples_MNIST_6)-1  )].reshape(28,28), cmap = 'gray', interpolation=\"nearest\")\n",
    "            plt.xlabel(class_names[6])\n",
    "                       \n",
    "        if i >=  105 and i<120 :\n",
    "            plt.imshow(samples_MNIST_7[random.randint(0,len(samples_MNIST_7)-1 )].reshape(28,28), cmap = 'gray', interpolation=\"nearest\")\n",
    "            plt.xlabel(class_names[7])\n",
    "                       \n",
    "        if i >=  120 and i<135 :\n",
    "            plt.imshow(samples_MNIST_8[random.randint(0,len(samples_MNIST_8)-1 )].reshape(28,28), cmap = 'gray', interpolation=\"nearest\")\n",
    "            plt.xlabel(class_names[8])\n",
    "                       \n",
    "        if i >=  135 and i<=150 :\n",
    "            plt.imshow(samples_MNIST_9[random.randint(0,len(samples_MNIST_9)-1 )].reshape(28,28), cmap = 'gray', interpolation=\"nearest\")\n",
    "            plt.xlabel(class_names[9])\n",
    "plt.show()\n"
   ]
  },
  {
   "cell_type": "markdown",
   "metadata": {},
   "source": [
    "# Experiment 3"
   ]
  },
  {
   "cell_type": "markdown",
   "metadata": {},
   "source": [
    "# Model Selection "
   ]
  },
  {
   "cell_type": "markdown",
   "metadata": {},
   "source": [
    "# Train the Optimal Logistic Regression Classifier"
   ]
  },
  {
   "cell_type": "code",
   "execution_count": 111,
   "metadata": {},
   "outputs": [
    {
     "name": "stdout",
     "output_type": "stream",
     "text": [
      "Fitting 3 folds for each of 24 candidates, totalling 72 fits\n",
      "Best Score (F1 score): 0.857583\n",
      "Optimal Hyperparameter Values:  {'C': 0.1, 'max_iter': 500, 'multi_class': 'multinomial', 'penalty': 'l2', 'solver': 'lbfgs'}\n",
      "\n",
      "\n"
     ]
    },
    {
     "ename": "ValueError",
     "evalue": "Logistic Regression supports only penalties in ['l1', 'l2', 'elasticnet', 'none'], got {'C': 0.1, 'max_iter': 500, 'multi_class': 'multinomial', 'penalty': 'l2', 'solver': 'lbfgs'}.",
     "output_type": "error",
     "traceback": [
      "\u001b[1;31m---------------------------------------------------------------------------\u001b[0m",
      "\u001b[1;31mValueError\u001b[0m                                Traceback (most recent call last)",
      "File \u001b[1;32m<timed exec>:20\u001b[0m, in \u001b[0;36m<module>\u001b[1;34m\u001b[0m\n",
      "File \u001b[1;32m~\\anaconda3\\lib\\site-packages\\sklearn\\linear_model\\_logistic.py:1461\u001b[0m, in \u001b[0;36mLogisticRegression.fit\u001b[1;34m(self, X, y, sample_weight)\u001b[0m\n\u001b[0;32m   1432\u001b[0m \u001b[38;5;28;01mdef\u001b[39;00m \u001b[38;5;21mfit\u001b[39m(\u001b[38;5;28mself\u001b[39m, X, y, sample_weight\u001b[38;5;241m=\u001b[39m\u001b[38;5;28;01mNone\u001b[39;00m):\n\u001b[0;32m   1433\u001b[0m     \u001b[38;5;124;03m\"\"\"\u001b[39;00m\n\u001b[0;32m   1434\u001b[0m \u001b[38;5;124;03m    Fit the model according to the given training data.\u001b[39;00m\n\u001b[0;32m   1435\u001b[0m \n\u001b[1;32m   (...)\u001b[0m\n\u001b[0;32m   1459\u001b[0m \u001b[38;5;124;03m    The SAGA solver supports both float64 and float32 bit arrays.\u001b[39;00m\n\u001b[0;32m   1460\u001b[0m \u001b[38;5;124;03m    \"\"\"\u001b[39;00m\n\u001b[1;32m-> 1461\u001b[0m     solver \u001b[38;5;241m=\u001b[39m \u001b[43m_check_solver\u001b[49m\u001b[43m(\u001b[49m\u001b[38;5;28;43mself\u001b[39;49m\u001b[38;5;241;43m.\u001b[39;49m\u001b[43msolver\u001b[49m\u001b[43m,\u001b[49m\u001b[43m \u001b[49m\u001b[38;5;28;43mself\u001b[39;49m\u001b[38;5;241;43m.\u001b[39;49m\u001b[43mpenalty\u001b[49m\u001b[43m,\u001b[49m\u001b[43m \u001b[49m\u001b[38;5;28;43mself\u001b[39;49m\u001b[38;5;241;43m.\u001b[39;49m\u001b[43mdual\u001b[49m\u001b[43m)\u001b[49m\n\u001b[0;32m   1463\u001b[0m     \u001b[38;5;28;01mif\u001b[39;00m \u001b[38;5;129;01mnot\u001b[39;00m \u001b[38;5;28misinstance\u001b[39m(\u001b[38;5;28mself\u001b[39m\u001b[38;5;241m.\u001b[39mC, numbers\u001b[38;5;241m.\u001b[39mNumber) \u001b[38;5;129;01mor\u001b[39;00m \u001b[38;5;28mself\u001b[39m\u001b[38;5;241m.\u001b[39mC \u001b[38;5;241m<\u001b[39m \u001b[38;5;241m0\u001b[39m:\n\u001b[0;32m   1464\u001b[0m         \u001b[38;5;28;01mraise\u001b[39;00m \u001b[38;5;167;01mValueError\u001b[39;00m(\u001b[38;5;124m\"\u001b[39m\u001b[38;5;124mPenalty term must be positive; got (C=\u001b[39m\u001b[38;5;132;01m%r\u001b[39;00m\u001b[38;5;124m)\u001b[39m\u001b[38;5;124m\"\u001b[39m \u001b[38;5;241m%\u001b[39m \u001b[38;5;28mself\u001b[39m\u001b[38;5;241m.\u001b[39mC)\n",
      "File \u001b[1;32m~\\anaconda3\\lib\\site-packages\\sklearn\\linear_model\\_logistic.py:441\u001b[0m, in \u001b[0;36m_check_solver\u001b[1;34m(solver, penalty, dual)\u001b[0m\n\u001b[0;32m    439\u001b[0m all_penalties \u001b[38;5;241m=\u001b[39m [\u001b[38;5;124m\"\u001b[39m\u001b[38;5;124ml1\u001b[39m\u001b[38;5;124m\"\u001b[39m, \u001b[38;5;124m\"\u001b[39m\u001b[38;5;124ml2\u001b[39m\u001b[38;5;124m\"\u001b[39m, \u001b[38;5;124m\"\u001b[39m\u001b[38;5;124melasticnet\u001b[39m\u001b[38;5;124m\"\u001b[39m, \u001b[38;5;124m\"\u001b[39m\u001b[38;5;124mnone\u001b[39m\u001b[38;5;124m\"\u001b[39m]\n\u001b[0;32m    440\u001b[0m \u001b[38;5;28;01mif\u001b[39;00m penalty \u001b[38;5;129;01mnot\u001b[39;00m \u001b[38;5;129;01min\u001b[39;00m all_penalties:\n\u001b[1;32m--> 441\u001b[0m     \u001b[38;5;28;01mraise\u001b[39;00m \u001b[38;5;167;01mValueError\u001b[39;00m(\n\u001b[0;32m    442\u001b[0m         \u001b[38;5;124m\"\u001b[39m\u001b[38;5;124mLogistic Regression supports only penalties in \u001b[39m\u001b[38;5;132;01m%s\u001b[39;00m\u001b[38;5;124m, got \u001b[39m\u001b[38;5;132;01m%s\u001b[39;00m\u001b[38;5;124m.\u001b[39m\u001b[38;5;124m\"\u001b[39m\n\u001b[0;32m    443\u001b[0m         \u001b[38;5;241m%\u001b[39m (all_penalties, penalty)\n\u001b[0;32m    444\u001b[0m     )\n\u001b[0;32m    446\u001b[0m \u001b[38;5;28;01mif\u001b[39;00m solver \u001b[38;5;129;01mnot\u001b[39;00m \u001b[38;5;129;01min\u001b[39;00m [\u001b[38;5;124m\"\u001b[39m\u001b[38;5;124mliblinear\u001b[39m\u001b[38;5;124m\"\u001b[39m, \u001b[38;5;124m\"\u001b[39m\u001b[38;5;124msaga\u001b[39m\u001b[38;5;124m\"\u001b[39m] \u001b[38;5;129;01mand\u001b[39;00m penalty \u001b[38;5;129;01mnot\u001b[39;00m \u001b[38;5;129;01min\u001b[39;00m (\u001b[38;5;124m\"\u001b[39m\u001b[38;5;124ml2\u001b[39m\u001b[38;5;124m\"\u001b[39m, \u001b[38;5;124m\"\u001b[39m\u001b[38;5;124mnone\u001b[39m\u001b[38;5;124m\"\u001b[39m):\n\u001b[0;32m    447\u001b[0m     \u001b[38;5;28;01mraise\u001b[39;00m \u001b[38;5;167;01mValueError\u001b[39;00m(\n\u001b[0;32m    448\u001b[0m         \u001b[38;5;124m\"\u001b[39m\u001b[38;5;124mSolver \u001b[39m\u001b[38;5;132;01m%s\u001b[39;00m\u001b[38;5;124m supports only \u001b[39m\u001b[38;5;124m'\u001b[39m\u001b[38;5;124ml2\u001b[39m\u001b[38;5;124m'\u001b[39m\u001b[38;5;124m or \u001b[39m\u001b[38;5;124m'\u001b[39m\u001b[38;5;124mnone\u001b[39m\u001b[38;5;124m'\u001b[39m\u001b[38;5;124m penalties, got \u001b[39m\u001b[38;5;132;01m%s\u001b[39;00m\u001b[38;5;124m penalty.\u001b[39m\u001b[38;5;124m\"\u001b[39m\n\u001b[0;32m    449\u001b[0m         \u001b[38;5;241m%\u001b[39m (solver, penalty)\n\u001b[0;32m    450\u001b[0m     )\n",
      "\u001b[1;31mValueError\u001b[0m: Logistic Regression supports only penalties in ['l1', 'l2', 'elasticnet', 'none'], got {'C': 0.1, 'max_iter': 500, 'multi_class': 'multinomial', 'penalty': 'l2', 'solver': 'lbfgs'}."
     ]
    }
   ],
   "source": [
    "%%time\n",
    "param_gridB = {'penalty': ['l1', 'l2', 'elasticnet'],'solver': [ 'newton-cg', 'lbfgs'], \n",
    "              'multi_class' : ['multinomial'],\n",
    "               'max_iter':[500, 1000],'C': [0.01,0.1]}\n",
    "\n",
    "lg_reg = LogisticRegression()\n",
    "\n",
    "lg_reg_cv = GridSearchCV(lg_reg, param_gridB, scoring='f1_micro', cv=3, verbose=1, n_jobs=-1)\n",
    "lg_reg_cv.fit(X_trainB, y_trainB)\n",
    "\n",
    "params_optimalB = lg_reg_cv.best_params_\n",
    "\n",
    "print(\"Best Score (F1 score): %f\" % lg_reg_cv.best_score_)\n",
    "print(\"Optimal Hyperparameter Values: \", params_optimalB)\n",
    "print(\"\\n\")\n",
    "\n",
    "\n",
    "#I had placed the training code here so it is showing error below, later moved down to next block\n",
    "#Did not have time to retrain at the last moment\n"
   ]
  },
  {
   "cell_type": "markdown",
   "metadata": {},
   "source": [
    "# Train the model with optimal hyperparameter"
   ]
  },
  {
   "cell_type": "code",
   "execution_count": 112,
   "metadata": {},
   "outputs": [
    {
     "data": {
      "text/plain": [
       "LogisticRegression(C=0.1, max_iter=500, multi_class='multinomial')"
      ]
     },
     "execution_count": 112,
     "metadata": {},
     "output_type": "execute_result"
    }
   ],
   "source": [
    "lg_reg_B = LogisticRegression(**params_optimalB)\n",
    "\n",
    "lg_reg_B.fit(X_trainB, y_trainB)"
   ]
  },
  {
   "cell_type": "markdown",
   "metadata": {},
   "source": [
    "# Evaluate the Optimal Classifier on Test Data"
   ]
  },
  {
   "cell_type": "code",
   "execution_count": 115,
   "metadata": {},
   "outputs": [
    {
     "name": "stdout",
     "output_type": "stream",
     "text": [
      "\n",
      "Training Accuracy:  0.8730166666666667\n",
      "\n",
      "Test Accuracy:  0.8464\n",
      "\n",
      "Test Confusion Matrix:\n",
      "[[811   1  16  52   4   4 102   0  10   0]\n",
      " [  3 955   3  27   6   0   4   0   2   0]\n",
      " [ 24   3 738  12 125   1  83   1  13   0]\n",
      " [ 26  12  15 875  28   0  38   0   6   0]\n",
      " [  0   1 110  37 763   0  80   0   9   0]\n",
      " [  1   0   0   1   0 924   0  48   4  22]\n",
      " [135   1 123  40 103   1 572   0  25   0]\n",
      " [  0   0   0   0   0  29   0 942   0  29]\n",
      " [  6   1   5  11   2   4  23   6 942   0]\n",
      " [  0   1   0   0   0  15   0  41   1 942]]\n",
      "\n",
      "Classification Report:\n",
      "              precision    recall  f1-score   support\n",
      "\n",
      "           0       0.81      0.81      0.81      1000\n",
      "           1       0.98      0.95      0.97      1000\n",
      "           2       0.73      0.74      0.73      1000\n",
      "           3       0.83      0.88      0.85      1000\n",
      "           4       0.74      0.76      0.75      1000\n",
      "           5       0.94      0.92      0.93      1000\n",
      "           6       0.63      0.57      0.60      1000\n",
      "           7       0.91      0.94      0.92      1000\n",
      "           8       0.93      0.94      0.94      1000\n",
      "           9       0.95      0.94      0.95      1000\n",
      "\n",
      "    accuracy                           0.85     10000\n",
      "   macro avg       0.85      0.85      0.85     10000\n",
      "weighted avg       0.85      0.85      0.85     10000\n",
      "\n"
     ]
    }
   ],
   "source": [
    "y_train_predictedB = lg_reg_B.predict(X_trainB)\n",
    "\n",
    "train_accuracyB = np.mean(y_train_predictedB == y_trainB)\n",
    "print(\"\\nTraining Accuracy: \", train_accuracyB)\n",
    "\n",
    "\n",
    "y_test_predictedB = lg_reg_B.predict(x_testB)\n",
    "#print(y_test_predict)\n",
    "\n",
    "accuracy_score_testB = np.mean(y_test_predictedB == y_testB)\n",
    "print(\"\\nTest Accuracy: \", accuracy_score_testB)\n",
    "\n",
    "\n",
    "print(\"\\nTest Confusion Matrix:\")\n",
    "print(confusion_matrix(y_testB, y_test_predictedB))\n",
    "\n",
    "\n",
    "print(\"\\nClassification Report:\")\n",
    "print(classification_report(y_testB, y_test_predictedB))"
   ]
  },
  {
   "cell_type": "markdown",
   "metadata": {},
   "source": [
    "# Creating list of misclassified Sandal and Sneaker"
   ]
  },
  {
   "cell_type": "code",
   "execution_count": 169,
   "metadata": {},
   "outputs": [],
   "source": [
    "missclassified_sandal = []\n",
    "missclassified_sneaker = []\n",
    "\n",
    "for  i in range(len(x_testB)):\n",
    "    \n",
    "\n",
    "        if y_testB[i] == 5 or y_testB[i] == 7:\n",
    "            \n",
    "            #find missclas. sandel and append to the list\n",
    "            if y_testB[i] == 5:\n",
    "                if y_test_predictedB[i] != 5:\n",
    "                    missclassified_sandal.append(x_testB[i])\n",
    "                    \n",
    "            ##find missclas. sneaker and append to the list       \n",
    "            if y_testB[i] == 7:\n",
    "                if y_test_predictedB[i] != 7:\n",
    "                    missclassified_sneaker.append(x_testB[i])\n",
    "            "
   ]
  },
  {
   "cell_type": "markdown",
   "metadata": {},
   "source": [
    "# Finding the predicted probabilities "
   ]
  },
  {
   "cell_type": "code",
   "execution_count": 170,
   "metadata": {},
   "outputs": [],
   "source": [
    "\n",
    "predicted_proba_sandal = []\n",
    "predicted_proba_sneaker = []\n",
    "\n",
    "#predicted probability of first 24 misclassfied sandals and sneakers will be calculated and added in the list\n",
    "\n",
    "for l in range (24):\n",
    "    \n",
    "    prob_san = lg_reg_B.predict_proba([missclassified_sandal [l]])\n",
    "    prob_sne = lg_reg_B.predict_proba([missclassified_sneaker [l]])\n",
    "  \n",
    "    predicted_proba_sandal.append(prob_san[0][5])\n",
    "    predicted_proba_sneaker.append(prob_sne[0][7])\n",
    "    "
   ]
  },
  {
   "cell_type": "markdown",
   "metadata": {},
   "source": [
    "# Visualize a set of 20 misclassified test samples and their predicted probabilities "
   ]
  },
  {
   "cell_type": "code",
   "execution_count": 173,
   "metadata": {},
   "outputs": [
    {
     "name": "stdout",
     "output_type": "stream",
     "text": [
      "----------------------------------------------------Sandal-------------------------------------------------------------------\n"
     ]
    },
    {
     "data": {
      "image/png": "[encoded data removed]",
      "text/plain": [
       "<Figure size 2016x2016 with 20 Axes>"
      ]
     },
     "metadata": {},
     "output_type": "display_data"
    },
    {
     "name": "stdout",
     "output_type": "stream",
     "text": [
      "----------------------------------------------------Sneaker------------------------------------------------------------------\n"
     ]
    },
    {
     "data": {
      "image/png": "[encoded data removed]",
      "text/plain": [
       "<Figure size 2016x2016 with 20 Axes>"
      ]
     },
     "metadata": {},
     "output_type": "display_data"
    }
   ],
   "source": [
    "plt.figure(figsize=(28,28))\n",
    "\n",
    "print(\"----------------------------------------------------Sandal-------------------------------------------------------------------\")\n",
    "\n",
    "for i in range(20):\n",
    "    \n",
    "        plt.subplot(1,20,i+1)\n",
    "        plt.xticks([])\n",
    "        plt.yticks([])\n",
    "        plt.grid(False)\n",
    "        plt.imshow(missclassified_sandal[i].reshape(28,28), cmap = 'gray', interpolation=\"nearest\")\n",
    "        plt.xlabel(round(predicted_proba_sandal[i],2))\n",
    "               \n",
    "plt.show()\n",
    "\n",
    "\n",
    "\n",
    "print(\"----------------------------------------------------Sneaker------------------------------------------------------------------\")\n",
    "\n",
    "plt.figure(figsize=(28,28))\n",
    "\n",
    "for i in range(20):\n",
    "    \n",
    "        plt.subplot(1,20,i+1)\n",
    "        plt.xticks([])\n",
    "        plt.yticks([])\n",
    "        plt.grid(False)\n",
    "        plt.imshow(missclassified_sneaker[i].reshape(28,28), cmap = 'gray', interpolation=\"nearest\")\n",
    "        plt.xlabel(round(predicted_proba_sneaker[i],2))\n",
    "               \n",
    "plt.show()\n"
   ]
  },
  {
   "cell_type": "markdown",
   "metadata": {},
   "source": [
    "# For each set of misclassified images, select  2 images from each class with predicted probabilities less than 0.15 "
   ]
  },
  {
   "cell_type": "markdown",
   "metadata": {},
   "source": [
    "# Find all misclassified images"
   ]
  },
  {
   "cell_type": "code",
   "execution_count": 174,
   "metadata": {},
   "outputs": [],
   "source": [
    "# for classes 0 to 9, first create an empty list and then append\n",
    "\n",
    "missclassified_0 = []\n",
    "missclassified_1 = []\n",
    "missclassified_2 = []\n",
    "missclassified_3 = []\n",
    "missclassified_4 = []\n",
    "missclassified_5 = []\n",
    "missclassified_6 = []\n",
    "missclassified_7 = []\n",
    "missclassified_8 = []\n",
    "missclassified_9 = []\n",
    "\n",
    "for  i in range(len(x_testB)):\n",
    "    \n",
    "            if y_testB[i] == 0:\n",
    "                if y_test_predictedB[i] != 0:\n",
    "                    missclassified_0.append(x_testB[i])  \n",
    "                    \n",
    "            if y_testB[i] == 1:\n",
    "                if y_test_predictedB[i] != 1:\n",
    "                    missclassified_1.append(x_testB[i]) \n",
    "                    \n",
    "            if y_testB[i] == 2:\n",
    "                if y_test_predictedB[i] != 2:\n",
    "                    missclassified_2.append(x_testB[i]) \n",
    "                    \n",
    "            if y_testB[i] == 3:\n",
    "                if y_test_predictedB[i] != 3:\n",
    "                    missclassified_3.append(x_testB[i])  \n",
    "                    \n",
    "            if y_testB[i] == 4:\n",
    "                if y_test_predictedB[i] != 4:\n",
    "                    missclassified_4.append(x_testB[i]) \n",
    "                    \n",
    "            if y_testB[i] == 5:\n",
    "                if y_test_predictedB[i] != 5:\n",
    "                    missclassified_5.append(x_testB[i]) \n",
    "                    \n",
    "            if y_testB[i] == 6:\n",
    "                if y_test_predictedB[i] != 6:\n",
    "                    missclassified_6.append(x_testB[i]) \n",
    "                    \n",
    "            if y_testB[i] == 7:\n",
    "                if y_test_predictedB[i] != 7:\n",
    "                    missclassified_7.append(x_testB[i])  \n",
    "                    \n",
    "            if y_testB[i] == 8:\n",
    "                if y_test_predictedB[i] != 8:\n",
    "                    missclassified_8.append(x_testB[i]) \n",
    "                    \n",
    "            if y_testB[i] == 9:\n",
    "                if y_test_predictedB[i] != 9:\n",
    "                    missclassified_9.append(x_testB[i]) \n",
    "            "
   ]
  },
  {
   "cell_type": "markdown",
   "metadata": {},
   "source": [
    "# Find all the probabilities less than 0.15"
   ]
  },
  {
   "cell_type": "code",
   "execution_count": 180,
   "metadata": {},
   "outputs": [],
   "source": [
    "#empty list to add the probabilities less than 0.15\n",
    "\n",
    "predicted_proba_0 = []\n",
    "predicted_proba_1 = []\n",
    "predicted_proba_2 = []\n",
    "predicted_proba_3 = []\n",
    "predicted_proba_4 = []\n",
    "predicted_proba_5 = []\n",
    "predicted_proba_6 = []\n",
    "predicted_proba_7 = []\n",
    "predicted_proba_8 = []\n",
    "predicted_proba_9 = []\n",
    "\n",
    "#predicted probability of first 30 misclassfied classes and added in the list\n",
    "\n",
    "for l in range (30):\n",
    "    \n",
    "    prob_0 = lg_reg_B.predict_proba([missclassified_0 [l]])\n",
    "    prob_1 = lg_reg_B.predict_proba([missclassified_1 [l]])\n",
    "    prob_2 = lg_reg_B.predict_proba([missclassified_2 [l]])\n",
    "    prob_3 = lg_reg_B.predict_proba([missclassified_3 [l]])\n",
    "    prob_4 = lg_reg_B.predict_proba([missclassified_4 [l]])\n",
    "    prob_5 = lg_reg_B.predict_proba([missclassified_5 [l]])\n",
    "    prob_6 = lg_reg_B.predict_proba([missclassified_6 [l]])\n",
    "    prob_7 = lg_reg_B.predict_proba([missclassified_7 [l]])\n",
    "    prob_8 = lg_reg_B.predict_proba([missclassified_8 [l]])\n",
    "    prob_9 = lg_reg_B.predict_proba([missclassified_9 [l]])\n",
    "    \n",
    "    if prob_0[0][0]<0.15:\n",
    "        predicted_proba_0.append(prob_0[0][0])\n",
    "        \n",
    "    if prob_1[0][1]<0.15:\n",
    "        predicted_proba_1.append(prob_1[0][1])\n",
    "        \n",
    "    if prob_2[0][2]<0.15:    \n",
    "        predicted_proba_2.append(prob_2[0][2])\n",
    "        \n",
    "    if prob_3[0][3]<0.15:\n",
    "        predicted_proba_3.append(prob_3[0][3])\n",
    "        \n",
    "    if prob_4[0][4]<0.15:   \n",
    "        predicted_proba_4.append(prob_4[0][4])\n",
    "        \n",
    "    if prob_5[0][5]<0.15:\n",
    "        predicted_proba_5.append(prob_5[0][5])\n",
    "        \n",
    "    if prob_6[0][6]<0.15:\n",
    "        predicted_proba_6.append(prob_6[0][6])\n",
    "        \n",
    "    if prob_7[0][7]<0.15:    \n",
    "        predicted_proba_7.append(prob_7[0][7])\n",
    "        \n",
    "    if prob_8[0][8]<0.15:   \n",
    "        predicted_proba_8.append(prob_8[0][8])\n",
    "        \n",
    "    if prob_9[0][9]<0.15:   \n",
    "        predicted_proba_9.append(prob_9[0][9])"
   ]
  },
  {
   "cell_type": "code",
   "execution_count": 203,
   "metadata": {},
   "outputs": [
    {
     "data": {
      "text/plain": [
       "0.05603823848015314"
      ]
     },
     "execution_count": 203,
     "metadata": {},
     "output_type": "execute_result"
    }
   ],
   "source": [
    "#For example\n",
    "predicted_proba_0[1]"
   ]
  },
  {
   "cell_type": "markdown",
   "metadata": {},
   "source": [
    "# Misclassification of Tshirt"
   ]
  },
  {
   "cell_type": "code",
   "execution_count": 226,
   "metadata": {},
   "outputs": [
    {
     "name": "stdout",
     "output_type": "stream",
     "text": [
      "Wrongly predicted class is : 6\n",
      "Wrongly predicted class is : 6\n"
     ]
    },
    {
     "data": {
      "image/png": "[encoded data removed]",
      "text/plain": [
       "<Figure size 576x576 with 2 Axes>"
      ]
     },
     "metadata": {},
     "output_type": "display_data"
    }
   ],
   "source": [
    "\n",
    "plt.figure(figsize=(8,8))\n",
    "\n",
    "\n",
    "for i in range(2):\n",
    "        \n",
    "        plt.subplot(1,2,i+1)\n",
    "        plt.xticks([])\n",
    "        plt.yticks([])\n",
    "        plt.grid(False)\n",
    "        plt.xlabel(round(predicted_proba_0[i],3),fontsize=10)\n",
    "        plt.imshow(missclassified_0[i].reshape(28,28), cmap = 'gray', interpolation=\"nearest\")\n",
    "        pr = lg_reg_B.predict_proba([missclassified_0[i]])\n",
    "        \n",
    "       # finding the class:  the index of highest probaility is equal to the wrongly predicted class                 \n",
    "        proba = pr[0]\n",
    "        max = proba[0]\n",
    "        index = 0\n",
    "        for i in range(1,len(proba)):\n",
    "               if proba[i] > max:\n",
    "                    max = proba[i]\n",
    "                    index = i\n",
    "        print(f'Wrongly predicted class is : {index}')\n",
    " \n",
    "        \n",
    "        \n",
    "               \n",
    "plt.show()"
   ]
  },
  {
   "cell_type": "markdown",
   "metadata": {},
   "source": [
    "# Misclassification of Trouser"
   ]
  },
  {
   "cell_type": "code",
   "execution_count": 225,
   "metadata": {},
   "outputs": [
    {
     "name": "stdout",
     "output_type": "stream",
     "text": [
      "Wrongly predicted class is : 3\n",
      "Wrongly predicted class is : 3\n"
     ]
    },
    {
     "data": {
      "image/png": "[encoded data removed]",
      "text/plain": [
       "<Figure size 576x576 with 2 Axes>"
      ]
     },
     "metadata": {},
     "output_type": "display_data"
    }
   ],
   "source": [
    "\n",
    "plt.figure(figsize=(8,8))\n",
    "\n",
    "\n",
    "for i in range(2):\n",
    "        \n",
    "        plt.subplot(1,2,i+1)\n",
    "        plt.xticks([])\n",
    "        plt.yticks([])\n",
    "        plt.grid(False)\n",
    "        plt.xlabel(round(predicted_proba_1[i],8),fontsize=10)\n",
    "        plt.imshow(missclassified_1[i].reshape(28,28), cmap = 'gray', interpolation=\"nearest\")\n",
    "        pr = lg_reg_B.predict_proba([missclassified_1[i]])\n",
    "        \n",
    "       # finding the class:  the index of highest probaility is equal to the wrongly predicted class                 \n",
    "        proba = pr[0]\n",
    "        max = proba[0]\n",
    "        index = 0\n",
    "        for i in range(1,len(proba)):\n",
    "               if proba[i] > max:\n",
    "                    max = proba[i]\n",
    "                    index = i\n",
    "        print(f'Wrongly predicted class is : {index}')\n",
    " \n",
    "        \n",
    "       \n",
    "               \n",
    "plt.show()"
   ]
  },
  {
   "cell_type": "markdown",
   "metadata": {},
   "source": [
    "# Misclassification of Pullover"
   ]
  },
  {
   "cell_type": "code",
   "execution_count": 224,
   "metadata": {},
   "outputs": [
    {
     "name": "stdout",
     "output_type": "stream",
     "text": [
      "Wrongly predicted class is : 6\n",
      "Wrongly predicted class is : 0\n"
     ]
    },
    {
     "data": {
      "image/png": "[encoded data removed]",
      "text/plain": [
       "<Figure size 576x576 with 2 Axes>"
      ]
     },
     "metadata": {},
     "output_type": "display_data"
    }
   ],
   "source": [
    "\n",
    "plt.figure(figsize=(8,8))\n",
    "\n",
    "\n",
    "for i in range(2):\n",
    "        \n",
    "        plt.subplot(1,2,i+1)\n",
    "        plt.xticks([])\n",
    "        plt.yticks([])\n",
    "        plt.grid(False)\n",
    "        plt.xlabel(round(predicted_proba_2[i],4),fontsize=10)\n",
    "        plt.imshow(missclassified_2[i].reshape(28,28), cmap = 'gray', interpolation=\"nearest\")\n",
    "        pr = lg_reg_B.predict_proba([missclassified_2[i]])\n",
    "        \n",
    "       # finding the class:  the index of highest probaility is equal to the wrongly predicted class                 \n",
    "        proba = pr[0]\n",
    "        max = proba[0]\n",
    "        index = 0\n",
    "        for i in range(1,len(proba)):\n",
    "               if proba[i] > max:\n",
    "                    max = proba[i]\n",
    "                    index = i\n",
    "        print(f'Wrongly predicted class is : {index}')\n",
    " \n",
    "        \n",
    "               \n",
    "plt.show()"
   ]
  },
  {
   "cell_type": "markdown",
   "metadata": {},
   "source": [
    "# Misclassification of Dress"
   ]
  },
  {
   "cell_type": "code",
   "execution_count": 216,
   "metadata": {},
   "outputs": [
    {
     "name": "stdout",
     "output_type": "stream",
     "text": [
      "Wrongly predicted class is : 4\n",
      "Wrongly predicted class is : 4\n"
     ]
    },
    {
     "data": {
      "image/png": "[encoded data removed]",
      "text/plain": [
       "<Figure size 576x576 with 2 Axes>"
      ]
     },
     "metadata": {},
     "output_type": "display_data"
    }
   ],
   "source": [
    "\n",
    "plt.figure(figsize=(8,8))\n",
    "\n",
    "\n",
    "for i in range(2):\n",
    "        \n",
    "        plt.subplot(1,2,i+1)\n",
    "        plt.xticks([])\n",
    "        plt.yticks([])\n",
    "        plt.grid(False)\n",
    "        plt.xlabel(round(predicted_proba_3[i],4),fontsize=10)\n",
    "        plt.imshow(missclassified_3[i].reshape(28,28), cmap = 'gray', interpolation=\"nearest\")\n",
    "        pr = lg_reg_B.predict_proba([missclassified_3[i]])\n",
    "        \n",
    "       # finding the class:  the index of highest probaility is equal to the wrongly predicted class                 \n",
    "        proba = pr[0]\n",
    "        max = proba[0]\n",
    "        index = 0\n",
    "        for i in range(1,len(proba)):\n",
    "               if proba[i] > max:\n",
    "                    max = proba[i]\n",
    "                    index = i\n",
    "        print(f'Wrongly predicted class is : {index}')\n",
    " \n",
    "        \n",
    "               \n",
    "plt.show()"
   ]
  },
  {
   "cell_type": "markdown",
   "metadata": {},
   "source": [
    "# Misclassification of Coat"
   ]
  },
  {
   "cell_type": "code",
   "execution_count": 217,
   "metadata": {},
   "outputs": [
    {
     "name": "stdout",
     "output_type": "stream",
     "text": [
      "Wrongly predicted class is : 2\n",
      "Wrongly predicted class is : 2\n"
     ]
    },
    {
     "data": {
      "image/png": "[encoded data removed]",
      "text/plain": [
       "<Figure size 576x576 with 2 Axes>"
      ]
     },
     "metadata": {},
     "output_type": "display_data"
    }
   ],
   "source": [
    "\n",
    "plt.figure(figsize=(8,8))\n",
    "\n",
    "\n",
    "for i in range(2):\n",
    "        \n",
    "        plt.subplot(1,2,i+1)\n",
    "        plt.xticks([])\n",
    "        plt.yticks([])\n",
    "        plt.grid(False)\n",
    "        plt.xlabel(round(predicted_proba_4[i],4),fontsize=10)\n",
    "        plt.imshow(missclassified_4[i].reshape(28,28), cmap = 'gray', interpolation=\"nearest\")\n",
    "        pr = lg_reg_B.predict_proba([missclassified_4[i]])\n",
    "        \n",
    "       # finding the class:  the index of highest probaility is equal to the wrongly predicted class                 \n",
    "        proba = pr[0]\n",
    "        max = proba[0]\n",
    "        index = 0\n",
    "        for i in range(1,len(proba)):\n",
    "               if proba[i] > max:\n",
    "                    max = proba[i]\n",
    "                    index = i\n",
    "        print(f'Wrongly predicted class is : {index}')\n",
    " \n",
    "        \n",
    "               \n",
    "plt.show()"
   ]
  },
  {
   "cell_type": "markdown",
   "metadata": {},
   "source": [
    "# Misclassification of Sandal"
   ]
  },
  {
   "cell_type": "code",
   "execution_count": 218,
   "metadata": {},
   "outputs": [
    {
     "name": "stdout",
     "output_type": "stream",
     "text": [
      "Wrongly predicted class is : 7\n",
      "Wrongly predicted class is : 7\n"
     ]
    },
    {
     "data": {
      "image/png": "[encoded data removed]",
      "text/plain": [
       "<Figure size 576x576 with 2 Axes>"
      ]
     },
     "metadata": {},
     "output_type": "display_data"
    }
   ],
   "source": [
    "\n",
    "plt.figure(figsize=(8,8))\n",
    "\n",
    "\n",
    "for i in range(2):\n",
    "        \n",
    "        plt.subplot(1,2,i+1)\n",
    "        plt.xticks([])\n",
    "        plt.yticks([])\n",
    "        plt.grid(False)\n",
    "        plt.xlabel(round(predicted_proba_5[i],5),fontsize=10)\n",
    "        plt.imshow(missclassified_5[i].reshape(28,28), cmap = 'gray', interpolation=\"nearest\")\n",
    "        pr = lg_reg_B.predict_proba([missclassified_5[i]])\n",
    "        \n",
    "       # finding the class:  the index of highest probaility is equal to the wrongly predicted class                 \n",
    "        proba = pr[0]\n",
    "        max = proba[0]\n",
    "        index = 0\n",
    "        for i in range(1,len(proba)):\n",
    "               if proba[i] > max:\n",
    "                    max = proba[i]\n",
    "                    index = i\n",
    "        print(f'Wrongly predicted class is : {index}')\n",
    " \n",
    "        \n",
    "               \n",
    "plt.show()"
   ]
  },
  {
   "cell_type": "markdown",
   "metadata": {},
   "source": [
    "# Misclassification of Shirt"
   ]
  },
  {
   "cell_type": "code",
   "execution_count": 219,
   "metadata": {},
   "outputs": [
    {
     "name": "stdout",
     "output_type": "stream",
     "text": [
      "Wrongly predicted class is : 0\n",
      "Wrongly predicted class is : 4\n"
     ]
    },
    {
     "data": {
      "image/png": "[encoded data removed]",
      "text/plain": [
       "<Figure size 576x576 with 2 Axes>"
      ]
     },
     "metadata": {},
     "output_type": "display_data"
    }
   ],
   "source": [
    "\n",
    "plt.figure(figsize=(8,8))\n",
    "\n",
    "\n",
    "for i in range(2):\n",
    "        \n",
    "        plt.subplot(1,2,i+1)\n",
    "        plt.xticks([])\n",
    "        plt.yticks([])\n",
    "        plt.grid(False)\n",
    "        plt.xlabel(round(predicted_proba_6[i],4),fontsize=10)\n",
    "        plt.imshow(missclassified_6[i].reshape(28,28), cmap = 'gray', interpolation=\"nearest\")\n",
    "        pr = lg_reg_B.predict_proba([missclassified_6[i]])\n",
    "        \n",
    "       # finding the class:  the index of highest probaility is equal to the wrongly predicted class                 \n",
    "        proba = pr[0]\n",
    "        max = proba[0]\n",
    "        index = 0\n",
    "        for i in range(1,len(proba)):\n",
    "               if proba[i] > max:\n",
    "                    max = proba[i]\n",
    "                    index = i\n",
    "        print(f'Wrongly predicted class is : {index}')\n",
    " \n",
    "        \n",
    "               \n",
    "plt.show()"
   ]
  },
  {
   "cell_type": "markdown",
   "metadata": {},
   "source": [
    "# Misclassification of Sneaker"
   ]
  },
  {
   "cell_type": "code",
   "execution_count": 220,
   "metadata": {},
   "outputs": [
    {
     "name": "stdout",
     "output_type": "stream",
     "text": [
      "Wrongly predicted class is : 5\n",
      "Wrongly predicted class is : 5\n"
     ]
    },
    {
     "data": {
      "image/png": "[encoded data removed]",
      "text/plain": [
       "<Figure size 576x576 with 2 Axes>"
      ]
     },
     "metadata": {},
     "output_type": "display_data"
    }
   ],
   "source": [
    "\n",
    "plt.figure(figsize=(8,8))\n",
    "\n",
    "\n",
    "for i in range(2):\n",
    "        \n",
    "        plt.subplot(1,2,i+1)\n",
    "        plt.xticks([])\n",
    "        plt.yticks([])\n",
    "        plt.grid(False)\n",
    "        plt.xlabel(round(predicted_proba_7[i],4),fontsize=10)\n",
    "        plt.imshow(missclassified_7[i].reshape(28,28), cmap = 'gray', interpolation=\"nearest\")\n",
    "        pr = lg_reg_B.predict_proba([missclassified_7[i]])\n",
    "        \n",
    "       # finding the class:  the index of highest probaility is equal to the wrongly predicted class                 \n",
    "        proba = pr[0]\n",
    "        max = proba[0]\n",
    "        index = 0\n",
    "        for i in range(1,len(proba)):\n",
    "               if proba[i] > max:\n",
    "                    max = proba[i]\n",
    "                    index = i\n",
    "        print(f'Wrongly predicted class is : {index}')\n",
    " \n",
    "        \n",
    "               \n",
    "plt.show()"
   ]
  },
  {
   "cell_type": "markdown",
   "metadata": {},
   "source": [
    "# Misclassification of Bag"
   ]
  },
  {
   "cell_type": "code",
   "execution_count": 221,
   "metadata": {},
   "outputs": [
    {
     "name": "stdout",
     "output_type": "stream",
     "text": [
      "Wrongly predicted class is : 6\n",
      "Wrongly predicted class is : 3\n"
     ]
    },
    {
     "data": {
      "image/png": "[encoded data removed]",
      "text/plain": [
       "<Figure size 576x576 with 2 Axes>"
      ]
     },
     "metadata": {},
     "output_type": "display_data"
    }
   ],
   "source": [
    "\n",
    "plt.figure(figsize=(8,8))\n",
    "\n",
    "\n",
    "for i in range(2):\n",
    "        \n",
    "        plt.subplot(1,2,i+1)\n",
    "        plt.xticks([])\n",
    "        plt.yticks([])\n",
    "        plt.grid(False)\n",
    "        plt.xlabel(round(predicted_proba_8[i],4),fontsize=10)\n",
    "        plt.imshow(missclassified_8[i].reshape(28,28), cmap = 'gray', interpolation=\"nearest\")\n",
    "        pr = lg_reg_B.predict_proba([missclassified_8[i]])\n",
    "        \n",
    "       # finding the class:  the index of highest probaility is equal to the wrongly predicted class                 \n",
    "        proba = pr[0]\n",
    "        max = proba[0]\n",
    "        index = 0\n",
    "        for i in range(1,len(proba)):\n",
    "               if proba[i] > max:\n",
    "                    max = proba[i]\n",
    "                    index = i\n",
    "        print(f'Wrongly predicted class is : {index}')\n",
    " \n",
    "        \n",
    "               \n",
    "plt.show()"
   ]
  },
  {
   "cell_type": "markdown",
   "metadata": {},
   "source": [
    "# Misclassification of Ankle boot"
   ]
  },
  {
   "cell_type": "code",
   "execution_count": 223,
   "metadata": {},
   "outputs": [
    {
     "name": "stdout",
     "output_type": "stream",
     "text": [
      "Wrongly predicted class is : 7\n",
      "Wrongly predicted class is : 7\n"
     ]
    },
    {
     "data": {
      "image/png": "[encoded data removed]",
      "text/plain": [
       "<Figure size 576x576 with 2 Axes>"
      ]
     },
     "metadata": {},
     "output_type": "display_data"
    }
   ],
   "source": [
    "\n",
    "plt.figure(figsize=(8,8))\n",
    "\n",
    "\n",
    "for i in range(2):\n",
    "        \n",
    "        plt.subplot(1,2,i+1)\n",
    "        plt.xticks([])\n",
    "        plt.yticks([])\n",
    "        plt.grid(False)\n",
    "        plt.xlabel(round(predicted_proba_9[i],4),fontsize=10)\n",
    "        plt.imshow(missclassified_9[i].reshape(28,28), cmap = 'gray', interpolation=\"nearest\")\n",
    "        pr = lg_reg_B.predict_proba([missclassified_9[i]])\n",
    "        \n",
    "       # finding the class:  the index of highest probaility is equal to the wrongly predicted class                 \n",
    "        proba = pr[0]\n",
    "        max = proba[0]\n",
    "        index = 0\n",
    "        for i in range(1,len(proba)):\n",
    "               if proba[i] > max:\n",
    "                    max = proba[i]\n",
    "                    index = i\n",
    "        print(f'Wrongly predicted class is : {index}')\n",
    " \n",
    "        \n",
    "               \n",
    "plt.show()"
   ]
  },
  {
   "cell_type": "code",
   "execution_count": null,
   "metadata": {},
   "outputs": [],
   "source": []
  }
 ],
 "metadata": {
  "kernelspec": {
   "display_name": "Python 3 (ipykernel)",
   "language": "python",
   "name": "python3"
  },
  "language_info": {
   "codemirror_mode": {
    "name": "ipython",
    "version": 3
   },
   "file_extension": ".py",
   "mimetype": "text/x-python",
   "name": "python",
   "nbconvert_exporter": "python",
   "pygments_lexer": "ipython3",
   "version": "3.9.19"
  }
 },
 "nbformat": 4,
 "nbformat_minor": 4
}
