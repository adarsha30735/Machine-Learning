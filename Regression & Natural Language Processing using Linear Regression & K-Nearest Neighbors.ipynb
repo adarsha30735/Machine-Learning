{
 "cells": [
  {
   "cell_type": "markdown",
   "metadata": {},
   "source": [
    "# Title (Regression & Natural Language Processing using Linear Regression & K-Nearest Neighbors)\n",
    "\n",
    "Task/Problem Statement: \n",
    "The goal of this assignment is to solve regression and classification problems using the\n",
    "following models on two types of data: numeric and text.\n",
    "- Part A: Numeric Data - Regression Problem – Linear Regression using the\n",
    "Stochastic Gradient Descent algorithm\n",
    "- Part B: Natural Language Processing - Text Data - Classification Problem – KNearest Neighbors\n",
    "\n",
    "### Dataset\n",
    "The energy efficiency dataset EnergyEfficiency.xlsx is created to perform energy analysis.\n",
    "\n",
    "##### Description: \n",
    "\n",
    "The dataset comprises 768 samples and 8 features (X1 to X8). It has two real-valued\n",
    "target variables (Y1 and Y2), i.e., heating load and cooling load, respectively.\n",
    "\n",
    "\n",
    "###### Source:\n",
    "\n",
    "\n",
    "##### Input variables:\n",
    "- X1: Relative Compactness\n",
    "- X2: Surface Area\n",
    "- X3: Wall Area\n",
    "- X4: Roof Area\n",
    "- X5: Overall Height\n",
    "- X6: Orientation\n",
    "- X7: Glazing Area\n",
    "- X8: Glazing Area Distribution\n",
    "\n",
    "\n",
    "##### Output variable: \n",
    "- Y2: Cooling Load\n",
    "or - Y1: Heating Load\n",
    "\n",
    "\n"
   ]
  },
  {
   "cell_type": "code",
   "execution_count": 2,
   "metadata": {},
   "outputs": [],
   "source": [
    "# Import python modules\n",
    "\n",
    "import warnings\n",
    "import numpy as np\n",
    "import pandas as pd\n",
    "\n",
    "from sklearn import datasets\n",
    "from sklearn.preprocessing import PolynomialFeatures, StandardScaler\n",
    "from sklearn.model_selection import train_test_split, GridSearchCV\n",
    "from sklearn.linear_model import SGDRegressor\n",
    "from sklearn.metrics import mean_squared_error, r2_score\n",
    "from sklearn.pipeline import Pipeline"
   ]
  },
  {
   "cell_type": "markdown",
   "metadata": {},
   "source": [
    "## Load Data & Display Dataset Information"
   ]
  },
  {
   "cell_type": "code",
   "execution_count": 3,
   "metadata": {
    "scrolled": true
   },
   "outputs": [
    {
     "data": {
      "text/html": [
       "<div>\n",
       "<style scoped>\n",
       "    .dataframe tbody tr th:only-of-type {\n",
       "        vertical-align: middle;\n",
       "    }\n",
       "\n",
       "    .dataframe tbody tr th {\n",
       "        vertical-align: top;\n",
       "    }\n",
       "\n",
       "    .dataframe thead th {\n",
       "        text-align: right;\n",
       "    }\n",
       "</style>\n",
       "<table border=\"1\" class=\"dataframe\">\n",
       "  <thead>\n",
       "    <tr style=\"text-align: right;\">\n",
       "      <th></th>\n",
       "      <th>X1</th>\n",
       "      <th>X2</th>\n",
       "      <th>X3</th>\n",
       "      <th>X4</th>\n",
       "      <th>X5</th>\n",
       "      <th>X6</th>\n",
       "      <th>X7</th>\n",
       "      <th>X8</th>\n",
       "      <th>Y1</th>\n",
       "      <th>Y2</th>\n",
       "    </tr>\n",
       "  </thead>\n",
       "  <tbody>\n",
       "    <tr>\n",
       "      <th>0</th>\n",
       "      <td>0.98</td>\n",
       "      <td>514.5</td>\n",
       "      <td>294.0</td>\n",
       "      <td>110.25</td>\n",
       "      <td>7.0</td>\n",
       "      <td>2</td>\n",
       "      <td>0.0</td>\n",
       "      <td>0</td>\n",
       "      <td>15.55</td>\n",
       "      <td>21.33</td>\n",
       "    </tr>\n",
       "    <tr>\n",
       "      <th>1</th>\n",
       "      <td>0.98</td>\n",
       "      <td>514.5</td>\n",
       "      <td>294.0</td>\n",
       "      <td>110.25</td>\n",
       "      <td>7.0</td>\n",
       "      <td>3</td>\n",
       "      <td>0.0</td>\n",
       "      <td>0</td>\n",
       "      <td>15.55</td>\n",
       "      <td>21.33</td>\n",
       "    </tr>\n",
       "    <tr>\n",
       "      <th>2</th>\n",
       "      <td>0.98</td>\n",
       "      <td>514.5</td>\n",
       "      <td>294.0</td>\n",
       "      <td>110.25</td>\n",
       "      <td>7.0</td>\n",
       "      <td>4</td>\n",
       "      <td>0.0</td>\n",
       "      <td>0</td>\n",
       "      <td>15.55</td>\n",
       "      <td>21.33</td>\n",
       "    </tr>\n",
       "    <tr>\n",
       "      <th>3</th>\n",
       "      <td>0.98</td>\n",
       "      <td>514.5</td>\n",
       "      <td>294.0</td>\n",
       "      <td>110.25</td>\n",
       "      <td>7.0</td>\n",
       "      <td>5</td>\n",
       "      <td>0.0</td>\n",
       "      <td>0</td>\n",
       "      <td>15.55</td>\n",
       "      <td>21.33</td>\n",
       "    </tr>\n",
       "  </tbody>\n",
       "</table>\n",
       "</div>"
      ],
      "text/plain": [
       "     X1     X2     X3      X4   X5  X6   X7  X8     Y1     Y2\n",
       "0  0.98  514.5  294.0  110.25  7.0   2  0.0   0  15.55  21.33\n",
       "1  0.98  514.5  294.0  110.25  7.0   3  0.0   0  15.55  21.33\n",
       "2  0.98  514.5  294.0  110.25  7.0   4  0.0   0  15.55  21.33\n",
       "3  0.98  514.5  294.0  110.25  7.0   5  0.0   0  15.55  21.33"
      ]
     },
     "execution_count": 3,
     "metadata": {},
     "output_type": "execute_result"
    }
   ],
   "source": [
    "df = pd.read_excel('/Users/adars/Documents/ML\\Assign 2/Dataset-Assignment2/EnergyEfficiency.xlsx')\n",
    "\n",
    "#First five rows\n",
    "df[0:4]"
   ]
  },
  {
   "cell_type": "markdown",
   "metadata": {},
   "source": [
    "## Data Pre-processing\n"
   ]
  },
  {
   "cell_type": "code",
   "execution_count": 24,
   "metadata": {},
   "outputs": [
    {
     "data": {
      "text/html": [
       "<div>\n",
       "<style scoped>\n",
       "    .dataframe tbody tr th:only-of-type {\n",
       "        vertical-align: middle;\n",
       "    }\n",
       "\n",
       "    .dataframe tbody tr th {\n",
       "        vertical-align: top;\n",
       "    }\n",
       "\n",
       "    .dataframe thead th {\n",
       "        text-align: right;\n",
       "    }\n",
       "</style>\n",
       "<table border=\"1\" class=\"dataframe\">\n",
       "  <thead>\n",
       "    <tr style=\"text-align: right;\">\n",
       "      <th></th>\n",
       "      <th>X1</th>\n",
       "      <th>X2</th>\n",
       "      <th>X3</th>\n",
       "      <th>X4</th>\n",
       "      <th>X5</th>\n",
       "      <th>X6</th>\n",
       "      <th>X7</th>\n",
       "      <th>X8</th>\n",
       "      <th>Y1</th>\n",
       "      <th>Y2</th>\n",
       "    </tr>\n",
       "  </thead>\n",
       "  <tbody>\n",
       "    <tr>\n",
       "      <th>0</th>\n",
       "      <td>0.98</td>\n",
       "      <td>514.5</td>\n",
       "      <td>294.0</td>\n",
       "      <td>110.25</td>\n",
       "      <td>7.0</td>\n",
       "      <td>2</td>\n",
       "      <td>0.0</td>\n",
       "      <td>0</td>\n",
       "      <td>15.55</td>\n",
       "      <td>21.33</td>\n",
       "    </tr>\n",
       "    <tr>\n",
       "      <th>1</th>\n",
       "      <td>0.98</td>\n",
       "      <td>514.5</td>\n",
       "      <td>294.0</td>\n",
       "      <td>110.25</td>\n",
       "      <td>7.0</td>\n",
       "      <td>3</td>\n",
       "      <td>0.0</td>\n",
       "      <td>0</td>\n",
       "      <td>15.55</td>\n",
       "      <td>21.33</td>\n",
       "    </tr>\n",
       "    <tr>\n",
       "      <th>2</th>\n",
       "      <td>0.98</td>\n",
       "      <td>514.5</td>\n",
       "      <td>294.0</td>\n",
       "      <td>110.25</td>\n",
       "      <td>7.0</td>\n",
       "      <td>4</td>\n",
       "      <td>0.0</td>\n",
       "      <td>0</td>\n",
       "      <td>15.55</td>\n",
       "      <td>21.33</td>\n",
       "    </tr>\n",
       "    <tr>\n",
       "      <th>3</th>\n",
       "      <td>0.98</td>\n",
       "      <td>514.5</td>\n",
       "      <td>294.0</td>\n",
       "      <td>110.25</td>\n",
       "      <td>7.0</td>\n",
       "      <td>5</td>\n",
       "      <td>0.0</td>\n",
       "      <td>0</td>\n",
       "      <td>15.55</td>\n",
       "      <td>21.33</td>\n",
       "    </tr>\n",
       "    <tr>\n",
       "      <th>4</th>\n",
       "      <td>0.90</td>\n",
       "      <td>563.5</td>\n",
       "      <td>318.5</td>\n",
       "      <td>122.50</td>\n",
       "      <td>7.0</td>\n",
       "      <td>2</td>\n",
       "      <td>0.0</td>\n",
       "      <td>0</td>\n",
       "      <td>20.84</td>\n",
       "      <td>28.28</td>\n",
       "    </tr>\n",
       "    <tr>\n",
       "      <th>...</th>\n",
       "      <td>...</td>\n",
       "      <td>...</td>\n",
       "      <td>...</td>\n",
       "      <td>...</td>\n",
       "      <td>...</td>\n",
       "      <td>...</td>\n",
       "      <td>...</td>\n",
       "      <td>...</td>\n",
       "      <td>...</td>\n",
       "      <td>...</td>\n",
       "    </tr>\n",
       "    <tr>\n",
       "      <th>763</th>\n",
       "      <td>0.64</td>\n",
       "      <td>784.0</td>\n",
       "      <td>343.0</td>\n",
       "      <td>220.50</td>\n",
       "      <td>3.5</td>\n",
       "      <td>5</td>\n",
       "      <td>0.4</td>\n",
       "      <td>5</td>\n",
       "      <td>17.88</td>\n",
       "      <td>21.40</td>\n",
       "    </tr>\n",
       "    <tr>\n",
       "      <th>764</th>\n",
       "      <td>0.62</td>\n",
       "      <td>808.5</td>\n",
       "      <td>367.5</td>\n",
       "      <td>220.50</td>\n",
       "      <td>3.5</td>\n",
       "      <td>2</td>\n",
       "      <td>0.4</td>\n",
       "      <td>5</td>\n",
       "      <td>16.54</td>\n",
       "      <td>16.88</td>\n",
       "    </tr>\n",
       "    <tr>\n",
       "      <th>765</th>\n",
       "      <td>0.62</td>\n",
       "      <td>808.5</td>\n",
       "      <td>367.5</td>\n",
       "      <td>220.50</td>\n",
       "      <td>3.5</td>\n",
       "      <td>3</td>\n",
       "      <td>0.4</td>\n",
       "      <td>5</td>\n",
       "      <td>16.44</td>\n",
       "      <td>17.11</td>\n",
       "    </tr>\n",
       "    <tr>\n",
       "      <th>766</th>\n",
       "      <td>0.62</td>\n",
       "      <td>808.5</td>\n",
       "      <td>367.5</td>\n",
       "      <td>220.50</td>\n",
       "      <td>3.5</td>\n",
       "      <td>4</td>\n",
       "      <td>0.4</td>\n",
       "      <td>5</td>\n",
       "      <td>16.48</td>\n",
       "      <td>16.61</td>\n",
       "    </tr>\n",
       "    <tr>\n",
       "      <th>767</th>\n",
       "      <td>0.62</td>\n",
       "      <td>808.5</td>\n",
       "      <td>367.5</td>\n",
       "      <td>220.50</td>\n",
       "      <td>3.5</td>\n",
       "      <td>5</td>\n",
       "      <td>0.4</td>\n",
       "      <td>5</td>\n",
       "      <td>16.64</td>\n",
       "      <td>16.03</td>\n",
       "    </tr>\n",
       "  </tbody>\n",
       "</table>\n",
       "<p>768 rows × 10 columns</p>\n",
       "</div>"
      ],
      "text/plain": [
       "       X1     X2     X3      X4   X5  X6   X7  X8     Y1     Y2\n",
       "0    0.98  514.5  294.0  110.25  7.0   2  0.0   0  15.55  21.33\n",
       "1    0.98  514.5  294.0  110.25  7.0   3  0.0   0  15.55  21.33\n",
       "2    0.98  514.5  294.0  110.25  7.0   4  0.0   0  15.55  21.33\n",
       "3    0.98  514.5  294.0  110.25  7.0   5  0.0   0  15.55  21.33\n",
       "4    0.90  563.5  318.5  122.50  7.0   2  0.0   0  20.84  28.28\n",
       "..    ...    ...    ...     ...  ...  ..  ...  ..    ...    ...\n",
       "763  0.64  784.0  343.0  220.50  3.5   5  0.4   5  17.88  21.40\n",
       "764  0.62  808.5  367.5  220.50  3.5   2  0.4   5  16.54  16.88\n",
       "765  0.62  808.5  367.5  220.50  3.5   3  0.4   5  16.44  17.11\n",
       "766  0.62  808.5  367.5  220.50  3.5   4  0.4   5  16.48  16.61\n",
       "767  0.62  808.5  367.5  220.50  3.5   5  0.4   5  16.64  16.03\n",
       "\n",
       "[768 rows x 10 columns]"
      ]
     },
     "execution_count": 24,
     "metadata": {},
     "output_type": "execute_result"
    }
   ],
   "source": [
    "#Create a deep copy of the DataFrame object \n",
    "df_main = df.copy()\n",
    "df_main"
   ]
  },
  {
   "cell_type": "markdown",
   "metadata": {},
   "source": [
    "## Data Analysis"
   ]
  },
  {
   "cell_type": "code",
   "execution_count": null,
   "metadata": {},
   "outputs": [],
   "source": []
  },
  {
   "cell_type": "markdown",
   "metadata": {},
   "source": [
    "## Create Data Matrix X and Target y"
   ]
  },
  {
   "cell_type": "code",
   "execution_count": 25,
   "metadata": {},
   "outputs": [
    {
     "name": "stdout",
     "output_type": "stream",
     "text": [
      "Data Matrix (X) Shape:  (768, 8)\n",
      "Label Array (y) Shape:  (768,)\n",
      "\n",
      "Data Matrix (X) Type:  float64\n",
      "Label Array (y) Type:  float64\n"
     ]
    }
   ],
   "source": [
    "#Convert the feature and target DataFrame objects into NumPy arrays\n",
    "\n",
    "# Create separate data frame objects for X (features) and y (target)\n",
    "\n",
    "X = df_main.drop(columns='Y1') \n",
    "X = X.drop(columns='Y2') \n",
    "y = df_main['Y1'] \n",
    "\n",
    "\n",
    "X = np.asarray(X) # Data Matrix containing all features excluding the target\n",
    "y = np.asarray(y) # 1D target array\n",
    "\n",
    "\n",
    "print(\"Data Matrix (X) Shape: \", X.shape)\n",
    "print(\"Label Array (y) Shape: \", y.shape)\n",
    "\n",
    "print(\"\\nData Matrix (X) Type: \", X.dtype)\n",
    "print(\"Label Array (y) Type: \", y.dtype)\n",
    "\n",
    "\n"
   ]
  },
  {
   "cell_type": "markdown",
   "metadata": {},
   "source": [
    "## Partition the Dataset into Train & Test Subsets"
   ]
  },
  {
   "cell_type": "code",
   "execution_count": 18,
   "metadata": {},
   "outputs": [],
   "source": [
    "X_train, X_test, y_train, y_test = train_test_split(X, y, test_size=0.2, random_state=42)"
   ]
  },
  {
   "cell_type": "markdown",
   "metadata": {},
   "source": [
    "## Standardize the Data"
   ]
  },
  {
   "cell_type": "code",
   "execution_count": null,
   "metadata": {},
   "outputs": [],
   "source": []
  },
  {
   "cell_type": "markdown",
   "metadata": {},
   "source": [
    "# Experiment 1"
   ]
  },
  {
   "cell_type": "markdown",
   "metadata": {},
   "source": [
    "## Model Selection Using Pipeline Object"
   ]
  },
  {
   "cell_type": "markdown",
   "metadata": {},
   "source": [
    "The Pipeline object will assemble several steps that can be cross-validated together while setting different parameters. More specifically it will perform the following three steps to create a SGD Polynomial Regression model.\n",
    "\n",
    "Create polynomial features based on the degree of the polynomial\n",
    "Standardize the augmented dataset\n",
    "Create a SGD Regressor model, which will use the standardized data for training"
   ]
  },
  {
   "cell_type": "code",
   "execution_count": 26,
   "metadata": {},
   "outputs": [
    {
     "name": "stdout",
     "output_type": "stream",
     "text": [
      "Fitting 3 folds for each of 600 candidates, totalling 1800 fits\n",
      "Best Score (negative mean squared error): -5.932489\n",
      "Optimal Hyperparameter Values:  {'poly__degree': 5, 'sgd__alpha': 0.0001, 'sgd__eta0': 0.001, 'sgd__l1_ratio': 0.7, 'sgd__max_iter': 500}\n",
      "\n",
      "\n",
      "CPU times: total: 3.44 s\n",
      "Wall time: 2min 4s\n"
     ]
    }
   ],
   "source": [
    "%%time\n",
    "\n",
    "warnings.filterwarnings('ignore')\n",
    "\n",
    "# Create a Pipeline object\n",
    "sgd_pipeline = Pipeline([\n",
    "        # Bias should be excluded because by default SGDRegressor adds bias via the\"fit_intercept\" parameter\n",
    "        ('poly', PolynomialFeatures(include_bias=False)), \n",
    "        ('scaler', StandardScaler()),\n",
    "        ('sgd', SGDRegressor(penalty='elasticnet')),\n",
    "    ])\n",
    "\n",
    "# Create a dictionary object with hyperparameters as keys and lists of corresponding values\n",
    "param_grid = {'poly__degree': [1, 2, 3, 4, 5],\n",
    "              'sgd__alpha': [0.1, 0.01, 0.001, 0.0001], \n",
    "              'sgd__l1_ratio': [1, 0.7, 0.5, 0.2, 0], 'sgd__max_iter':[500, 1000],\n",
    "              'sgd__eta0': [0.01, 0.001, 0.0001]}\n",
    "\n",
    "# Create a GridSearchCV object and perform hyperparameter tuning\n",
    "sgd = GridSearchCV(sgd_pipeline, param_grid, scoring='neg_mean_squared_error', cv=3, verbose=1, n_jobs=-1)\n",
    "\n",
    "# The model is trained with optimal hyperparameters, thus its the optimal model\n",
    "sgd.fit(X_train, y_train)\n",
    "\n",
    "# Get the optimal hyperparameters\n",
    "params_optimal_sgd = sgd.best_params_\n",
    "\n",
    "print(\"Best Score (negative mean squared error): %f\" % sgd.best_score_)\n",
    "print(\"Optimal Hyperparameter Values: \", params_optimal_sgd)\n",
    "print(\"\\n\")"
   ]
  },
  {
   "cell_type": "markdown",
   "metadata": {},
   "source": [
    "## Train a Model Using Optimal Hyperparameters"
   ]
  },
  {
   "cell_type": "code",
   "execution_count": null,
   "metadata": {},
   "outputs": [],
   "source": [
    "%%time\n",
    "\n"
   ]
  },
  {
   "cell_type": "markdown",
   "metadata": {},
   "source": [
    "## Evaluate the Model "
   ]
  },
  {
   "cell_type": "code",
   "execution_count": 37,
   "metadata": {},
   "outputs": [
    {
     "name": "stdout",
     "output_type": "stream",
     "text": [
      "Train: Mean squared error: 4.92\n",
      "Train: Coefficient of determination r^2 variance score [1 is perfect prediction]: 0.95\n",
      "\n",
      "Test: Mean squared error: 5.44\n",
      "Test: Coefficient of determination r^2 variance score [1 is perfect prediction]: 0.95\n",
      "CPU times: total: 15.6 ms\n",
      "Wall time: 19.9 ms\n"
     ]
    }
   ],
   "source": [
    "%%time\n",
    "#We use the optimal model created above for its evaluation based on training and test data.\n",
    "#There is no need to train the model again by using the optimal hyperparameters.\n",
    "\n",
    "\n",
    "# Training data: Make prediction \n",
    "y_train_predicted_sgd = sgd.predict(X_train)\n",
    "\n",
    "print(\"Train: Mean squared error: %.2f\"\n",
    "      % mean_squared_error(y_train, y_train_predicted_sgd))\n",
    "\n",
    "# Training data: Explained variance score: 1 is perfect prediction\n",
    "print(\"Train: Coefficient of determination r^2 variance score [1 is perfect prediction]: %.2f\" \n",
    "      % r2_score(y_train, y_train_predicted_sgd))\n",
    "\n",
    "# Test data: Make prediction \n",
    "y_test_predicted = sgd.predict(X_test)\n",
    "\n",
    "print(\"\\nTest: Mean squared error: %.2f\"\n",
    "      % mean_squared_error(y_test, y_test_predicted))\n",
    "\n",
    "# Training data: Explained variance score: 1 is perfect prediction\n",
    "print(\"Test: Coefficient of determination r^2 variance score [1 is perfect prediction]: %.2f\" \n",
    "      % r2_score(y_test, y_test_predicted))\n",
    "\n"
   ]
  },
  {
   "cell_type": "markdown",
   "metadata": {},
   "source": [
    "## Create a learning curve (negative MSE vs train/validation data)"
   ]
  },
  {
   "cell_type": "code",
   "execution_count": 31,
   "metadata": {},
   "outputs": [
    {
     "name": "stdout",
     "output_type": "stream",
     "text": [
      "No. of Original Features:  8\n",
      "No. of Augmented Features:  3002\n"
     ]
    },
    {
     "data": {
      "image/png": "[encoded data removed]",
      "text/plain": [
       "<Figure size 720x432 with 1 Axes>"
      ]
     },
     "metadata": {
      "needs_background": "light"
     },
     "output_type": "display_data"
    }
   ],
   "source": [
    "# Variable that speficies the degree of the polynomial to be added to the feature vector\n",
    "poly_degree = 6\n",
    "\n",
    "\n",
    "# Add polynomial and bias term with the feature vector using the sklearn PolynomialFeatures class\n",
    "poly_features = PolynomialFeatures(degree=poly_degree, include_bias=False)\n",
    "X_train_poly = poly_features.fit_transform(X_train)\n",
    "\n",
    "print(\"No. of Original Features: \", X_train.shape[1])\n",
    "print(\"No. of Augmented Features: \", X_train_poly.shape[1])\n",
    "\n",
    "\n",
    "scaler = StandardScaler().fit(X_train_poly)\n",
    "X_train_poly_standardized = scaler.transform(X_train_poly)\n",
    "\n",
    "\n",
    "\n",
    "train_sizes, train_scores, val_scores = learning_curve(LinearRegression(), X_train_poly_standardized, y_train, cv=3, \n",
    "                                                        scoring='neg_mean_squared_error', \n",
    "                                                        train_sizes=np.linspace(0.01, 1.0, 50))\n",
    "                                                                                                                                                                                                       \n",
    "                                                        \n",
    "# Create means and standard deviations of training set scores\n",
    "train_mean = np.mean(train_scores, axis=1)\n",
    "train_std = np.std(train_scores, axis=1)\n",
    "\n",
    "# Create means and standard deviations of validation set scores\n",
    "val_mean = np.mean(val_scores, axis=1)\n",
    "val_std = np.std(val_scores, axis=1)\n",
    "\n",
    "\n",
    "plt.figure(figsize=(10, 6))\n",
    "plt.plot(train_sizes, train_mean, \"r-+\", linewidth=3, label=\"Training Score\")\n",
    "plt.plot(train_sizes, val_mean, \"b-\", linewidth=2, label=\"Cross-validation Score\")\n",
    "plt.legend(loc=\"best\", fontsize=14)   \n",
    "plt.xlabel(\"Training set size\", fontsize=14) \n",
    "plt.ylabel(\"Negative MSE\", fontsize=14) \n",
    "plt.title(\"Learning Curve: Polynomial Degree = %d\" % poly_degree)\n",
    "plt.show()"
   ]
  },
  {
   "cell_type": "markdown",
   "metadata": {},
   "source": [
    "# Experiment 2"
   ]
  },
  {
   "cell_type": "code",
   "execution_count": 33,
   "metadata": {},
   "outputs": [
    {
     "data": {
      "text/html": [
       "<div>\n",
       "<style scoped>\n",
       "    .dataframe tbody tr th:only-of-type {\n",
       "        vertical-align: middle;\n",
       "    }\n",
       "\n",
       "    .dataframe tbody tr th {\n",
       "        vertical-align: top;\n",
       "    }\n",
       "\n",
       "    .dataframe thead th {\n",
       "        text-align: right;\n",
       "    }\n",
       "</style>\n",
       "<table border=\"1\" class=\"dataframe\">\n",
       "  <thead>\n",
       "    <tr style=\"text-align: right;\">\n",
       "      <th></th>\n",
       "      <th>X1</th>\n",
       "      <th>X2</th>\n",
       "      <th>X3</th>\n",
       "      <th>X4</th>\n",
       "      <th>X5</th>\n",
       "      <th>X6</th>\n",
       "      <th>X7</th>\n",
       "      <th>X8</th>\n",
       "      <th>Y1</th>\n",
       "      <th>Y2</th>\n",
       "    </tr>\n",
       "  </thead>\n",
       "  <tbody>\n",
       "    <tr>\n",
       "      <th>0</th>\n",
       "      <td>0.98</td>\n",
       "      <td>514.5</td>\n",
       "      <td>294.0</td>\n",
       "      <td>110.25</td>\n",
       "      <td>7.0</td>\n",
       "      <td>2</td>\n",
       "      <td>0.0</td>\n",
       "      <td>0</td>\n",
       "      <td>15.55</td>\n",
       "      <td>21.33</td>\n",
       "    </tr>\n",
       "    <tr>\n",
       "      <th>1</th>\n",
       "      <td>0.98</td>\n",
       "      <td>514.5</td>\n",
       "      <td>294.0</td>\n",
       "      <td>110.25</td>\n",
       "      <td>7.0</td>\n",
       "      <td>3</td>\n",
       "      <td>0.0</td>\n",
       "      <td>0</td>\n",
       "      <td>15.55</td>\n",
       "      <td>21.33</td>\n",
       "    </tr>\n",
       "    <tr>\n",
       "      <th>2</th>\n",
       "      <td>0.98</td>\n",
       "      <td>514.5</td>\n",
       "      <td>294.0</td>\n",
       "      <td>110.25</td>\n",
       "      <td>7.0</td>\n",
       "      <td>4</td>\n",
       "      <td>0.0</td>\n",
       "      <td>0</td>\n",
       "      <td>15.55</td>\n",
       "      <td>21.33</td>\n",
       "    </tr>\n",
       "    <tr>\n",
       "      <th>3</th>\n",
       "      <td>0.98</td>\n",
       "      <td>514.5</td>\n",
       "      <td>294.0</td>\n",
       "      <td>110.25</td>\n",
       "      <td>7.0</td>\n",
       "      <td>5</td>\n",
       "      <td>0.0</td>\n",
       "      <td>0</td>\n",
       "      <td>15.55</td>\n",
       "      <td>21.33</td>\n",
       "    </tr>\n",
       "    <tr>\n",
       "      <th>4</th>\n",
       "      <td>0.90</td>\n",
       "      <td>563.5</td>\n",
       "      <td>318.5</td>\n",
       "      <td>122.50</td>\n",
       "      <td>7.0</td>\n",
       "      <td>2</td>\n",
       "      <td>0.0</td>\n",
       "      <td>0</td>\n",
       "      <td>20.84</td>\n",
       "      <td>28.28</td>\n",
       "    </tr>\n",
       "    <tr>\n",
       "      <th>...</th>\n",
       "      <td>...</td>\n",
       "      <td>...</td>\n",
       "      <td>...</td>\n",
       "      <td>...</td>\n",
       "      <td>...</td>\n",
       "      <td>...</td>\n",
       "      <td>...</td>\n",
       "      <td>...</td>\n",
       "      <td>...</td>\n",
       "      <td>...</td>\n",
       "    </tr>\n",
       "    <tr>\n",
       "      <th>763</th>\n",
       "      <td>0.64</td>\n",
       "      <td>784.0</td>\n",
       "      <td>343.0</td>\n",
       "      <td>220.50</td>\n",
       "      <td>3.5</td>\n",
       "      <td>5</td>\n",
       "      <td>0.4</td>\n",
       "      <td>5</td>\n",
       "      <td>17.88</td>\n",
       "      <td>21.40</td>\n",
       "    </tr>\n",
       "    <tr>\n",
       "      <th>764</th>\n",
       "      <td>0.62</td>\n",
       "      <td>808.5</td>\n",
       "      <td>367.5</td>\n",
       "      <td>220.50</td>\n",
       "      <td>3.5</td>\n",
       "      <td>2</td>\n",
       "      <td>0.4</td>\n",
       "      <td>5</td>\n",
       "      <td>16.54</td>\n",
       "      <td>16.88</td>\n",
       "    </tr>\n",
       "    <tr>\n",
       "      <th>765</th>\n",
       "      <td>0.62</td>\n",
       "      <td>808.5</td>\n",
       "      <td>367.5</td>\n",
       "      <td>220.50</td>\n",
       "      <td>3.5</td>\n",
       "      <td>3</td>\n",
       "      <td>0.4</td>\n",
       "      <td>5</td>\n",
       "      <td>16.44</td>\n",
       "      <td>17.11</td>\n",
       "    </tr>\n",
       "    <tr>\n",
       "      <th>766</th>\n",
       "      <td>0.62</td>\n",
       "      <td>808.5</td>\n",
       "      <td>367.5</td>\n",
       "      <td>220.50</td>\n",
       "      <td>3.5</td>\n",
       "      <td>4</td>\n",
       "      <td>0.4</td>\n",
       "      <td>5</td>\n",
       "      <td>16.48</td>\n",
       "      <td>16.61</td>\n",
       "    </tr>\n",
       "    <tr>\n",
       "      <th>767</th>\n",
       "      <td>0.62</td>\n",
       "      <td>808.5</td>\n",
       "      <td>367.5</td>\n",
       "      <td>220.50</td>\n",
       "      <td>3.5</td>\n",
       "      <td>5</td>\n",
       "      <td>0.4</td>\n",
       "      <td>5</td>\n",
       "      <td>16.64</td>\n",
       "      <td>16.03</td>\n",
       "    </tr>\n",
       "  </tbody>\n",
       "</table>\n",
       "<p>768 rows × 10 columns</p>\n",
       "</div>"
      ],
      "text/plain": [
       "       X1     X2     X3      X4   X5  X6   X7  X8     Y1     Y2\n",
       "0    0.98  514.5  294.0  110.25  7.0   2  0.0   0  15.55  21.33\n",
       "1    0.98  514.5  294.0  110.25  7.0   3  0.0   0  15.55  21.33\n",
       "2    0.98  514.5  294.0  110.25  7.0   4  0.0   0  15.55  21.33\n",
       "3    0.98  514.5  294.0  110.25  7.0   5  0.0   0  15.55  21.33\n",
       "4    0.90  563.5  318.5  122.50  7.0   2  0.0   0  20.84  28.28\n",
       "..    ...    ...    ...     ...  ...  ..  ...  ..    ...    ...\n",
       "763  0.64  784.0  343.0  220.50  3.5   5  0.4   5  17.88  21.40\n",
       "764  0.62  808.5  367.5  220.50  3.5   2  0.4   5  16.54  16.88\n",
       "765  0.62  808.5  367.5  220.50  3.5   3  0.4   5  16.44  17.11\n",
       "766  0.62  808.5  367.5  220.50  3.5   4  0.4   5  16.48  16.61\n",
       "767  0.62  808.5  367.5  220.50  3.5   5  0.4   5  16.64  16.03\n",
       "\n",
       "[768 rows x 10 columns]"
      ]
     },
     "execution_count": 33,
     "metadata": {},
     "output_type": "execute_result"
    }
   ],
   "source": [
    "df_main"
   ]
  },
  {
   "cell_type": "code",
   "execution_count": 34,
   "metadata": {},
   "outputs": [
    {
     "data": {
      "text/plain": [
       "Y1    1.000000\n",
       "Y2    0.975862\n",
       "X5    0.889430\n",
       "X1    0.622272\n",
       "X3    0.455671\n",
       "X7    0.269842\n",
       "X8    0.087368\n",
       "X6   -0.002587\n",
       "X2   -0.658120\n",
       "X4   -0.861828\n",
       "Name: Y1, dtype: float64"
      ]
     },
     "execution_count": 34,
     "metadata": {},
     "output_type": "execute_result"
    }
   ],
   "source": [
    "#Calculate the standard correlation coefficient \n",
    "#(also called Pearson’s r) between the\n",
    "#binary target Y and all features.\n",
    "\n",
    "df_main.corr()['Y1'].sort_values(ascending=False)"
   ]
  },
  {
   "cell_type": "markdown",
   "metadata": {},
   "source": [
    "## Subset 1 "
   ]
  },
  {
   "cell_type": "markdown",
   "metadata": {},
   "source": [
    "## Create Data Matrix X and Target y\n"
   ]
  },
  {
   "cell_type": "code",
   "execution_count": 41,
   "metadata": {},
   "outputs": [
    {
     "name": "stdout",
     "output_type": "stream",
     "text": [
      "Data frame X:\n",
      "       X1     X3   X5   X7\n",
      "0    0.98  294.0  7.0  0.0\n",
      "1    0.98  294.0  7.0  0.0\n",
      "2    0.98  294.0  7.0  0.0\n",
      "3    0.98  294.0  7.0  0.0\n",
      "4    0.90  318.5  7.0  0.0\n",
      "..    ...    ...  ...  ...\n",
      "763  0.64  343.0  3.5  0.4\n",
      "764  0.62  367.5  3.5  0.4\n",
      "765  0.62  367.5  3.5  0.4\n",
      "766  0.62  367.5  3.5  0.4\n",
      "767  0.62  367.5  3.5  0.4\n",
      "\n",
      "[768 rows x 4 columns]\n",
      "\n",
      "Data frame y:\n",
      "0      15.55\n",
      "1      15.55\n",
      "2      15.55\n",
      "3      15.55\n",
      "4      20.84\n",
      "       ...  \n",
      "763    17.88\n",
      "764    16.54\n",
      "765    16.44\n",
      "766    16.48\n",
      "767    16.64\n",
      "Name: Y1, Length: 768, dtype: float64\n",
      "X Data Shape:  (768, 4)\n",
      "y Data Shape:  (768,)\n",
      "X Data Type:  float64\n",
      "y Data Type:  float64\n"
     ]
    }
   ],
   "source": [
    "x_data_subset_1 = df_main[['X1', 'X3', 'X5','X7']]\n",
    "y_data_subset_1 = df_main['Y1']\n",
    "\n",
    "print(\"Data frame X:\")\n",
    "print(x_data_subset_1)\n",
    "print(\"\\nData frame y:\")\n",
    "print(y_data_subset_1)\n",
    "\n",
    "\n",
    "Xs1 = np.asarray(x_data_subset_1) # Data Matrix containing all features excluding the target\n",
    "ys1 = np.asarray(y_data_subset_1) # 1D target array\n",
    "\n",
    "print(\"X Data Shape: \", Xs1.shape)\n",
    "print(\"y Data Shape: \", ys1.shape)\n",
    "\n",
    "print(\"X Data Type: \", Xs1.dtype)\n",
    "print(\"y Data Type: \", ys1.dtype)"
   ]
  },
  {
   "cell_type": "markdown",
   "metadata": {},
   "source": [
    "## Partition the Dataset into Train & Test Subsets"
   ]
  },
  {
   "cell_type": "code",
   "execution_count": 42,
   "metadata": {},
   "outputs": [],
   "source": [
    "#Create Train and Test Dataset\n",
    "\n",
    "X_train_subset_1, X_test_subset_1, y_train_subset_1, y_test_subset_1 = train_test_split(Xs1, ys1, test_size=0.2, random_state=42)"
   ]
  },
  {
   "cell_type": "markdown",
   "metadata": {},
   "source": [
    "## Model Selection Using Pipeline Object for subset 1"
   ]
  },
  {
   "cell_type": "code",
   "execution_count": 39,
   "metadata": {},
   "outputs": [
    {
     "name": "stdout",
     "output_type": "stream",
     "text": [
      "Fitting 3 folds for each of 600 candidates, totalling 1800 fits\n",
      "Best Score (negative mean squared error): -6.738496\n",
      "Optimal Hyperparameter Values:  {'poly__degree': 5, 'sgd__alpha': 0.0001, 'sgd__eta0': 0.01, 'sgd__l1_ratio': 0.2, 'sgd__max_iter': 1000}\n",
      "\n",
      "\n",
      "CPU times: total: 1.91 s\n",
      "Wall time: 15.9 s\n"
     ]
    }
   ],
   "source": [
    "%%time\n",
    "\n",
    "warnings.filterwarnings('ignore')\n",
    "\n",
    "# Create a Pipeline object\n",
    "sgd_pipeline_s1 = Pipeline([\n",
    "        # Bias should be excluded because by default SGDRegressor adds bias via the\"fit_intercept\" parameter\n",
    "        ('poly', PolynomialFeatures(include_bias=False)), \n",
    "        ('scaler', StandardScaler()),\n",
    "        ('sgd', SGDRegressor(penalty='elasticnet')),\n",
    "    ])\n",
    "\n",
    "# Create a dictionary object with hyperparameters as keys and lists of corresponding values\n",
    "param_grid_s1 = {'poly__degree': [1, 2, 3, 4, 5],\n",
    "              'sgd__alpha': [0.1, 0.01, 0.001, 0.0001], \n",
    "              'sgd__l1_ratio': [1, 0.7, 0.5, 0.2, 0], 'sgd__max_iter':[500, 1000],\n",
    "              'sgd__eta0': [0.01, 0.001, 0.0001]}\n",
    "\n",
    "# Create a GridSearchCV object and perform hyperparameter tuning\n",
    "sgd_s1 = GridSearchCV(sgd_pipeline_s1, param_grid_s1, scoring='neg_mean_squared_error', cv=3, verbose=1, n_jobs=-1)\n",
    "\n",
    "# The model is trained with optimal hyperparameters, thus its the optimal model\n",
    "sgd_s1.fit(X_train_subset_1, y_train_subset_1)\n",
    "\n",
    "# Get the optimal hyperparameters\n",
    "params_optimal_sgd_s1 = sgd_s1.best_params_\n",
    "\n",
    "print(\"Best Score (negative mean squared error): %f\" % sgd_s1.best_score_)\n",
    "print(\"Optimal Hyperparameter Values: \", params_optimal_sgd_s1)\n",
    "print(\"\\n\")"
   ]
  },
  {
   "cell_type": "markdown",
   "metadata": {},
   "source": [
    "## Evaluate the Model "
   ]
  },
  {
   "cell_type": "code",
   "execution_count": 44,
   "metadata": {},
   "outputs": [
    {
     "name": "stdout",
     "output_type": "stream",
     "text": [
      "Train: Mean squared error: 6.28\n",
      "Train: Coefficient of determination r^2 variance score [1 is perfect prediction]: 0.94\n",
      "\n",
      "Test: Mean squared error: 7.21\n",
      "Test: Coefficient of determination r^2 variance score [1 is perfect prediction]: 0.93\n",
      "CPU times: total: 31.2 ms\n",
      "Wall time: 7 ms\n"
     ]
    }
   ],
   "source": [
    "%%time\n",
    "#We use the optimal model created above for its evaluation based on training and test data.\n",
    "#There is no need to train the model again by using the optimal hyperparameters.\n",
    "\n",
    "\n",
    "# Training data: Make prediction \n",
    "y_train_predicted_sgd_s1 = sgd_s1.predict(X_train_subset_1)\n",
    "\n",
    "print(\"Train: Mean squared error: %.2f\"\n",
    "      % mean_squared_error(y_train_subset_1, y_train_predicted_sgd_s1))\n",
    "\n",
    "# Training data: Explained variance score: 1 is perfect prediction\n",
    "print(\"Train: Coefficient of determination r^2 variance score [1 is perfect prediction]: %.2f\" \n",
    "      % r2_score(y_train_subset_1, y_train_predicted_sgd_s1))\n",
    "\n",
    "# Test data: Make prediction \n",
    "y_test_predicted_s1 = sgd_s1.predict(X_test_subset_1)\n",
    "\n",
    "print(\"\\nTest: Mean squared error: %.2f\"\n",
    "      % mean_squared_error(y_test_subset_1, y_test_predicted_s1))\n",
    "\n",
    "# Training data: Explained variance score: 1 is perfect prediction\n",
    "print(\"Test: Coefficient of determination r^2 variance score [1 is perfect prediction]: %.2f\" \n",
    "      % r2_score(y_test_subset_1, y_test_predicted_s1))\n",
    "\n"
   ]
  },
  {
   "cell_type": "markdown",
   "metadata": {},
   "source": [
    "# Subset 2"
   ]
  },
  {
   "cell_type": "markdown",
   "metadata": {},
   "source": [
    "## Create Data Matrix X and Target y\n"
   ]
  },
  {
   "cell_type": "code",
   "execution_count": 45,
   "metadata": {},
   "outputs": [
    {
     "name": "stdout",
     "output_type": "stream",
     "text": [
      "Data frame X:\n",
      "       X1     X3      X4   X5\n",
      "0    0.98  294.0  110.25  7.0\n",
      "1    0.98  294.0  110.25  7.0\n",
      "2    0.98  294.0  110.25  7.0\n",
      "3    0.98  294.0  110.25  7.0\n",
      "4    0.90  318.5  122.50  7.0\n",
      "..    ...    ...     ...  ...\n",
      "763  0.64  343.0  220.50  3.5\n",
      "764  0.62  367.5  220.50  3.5\n",
      "765  0.62  367.5  220.50  3.5\n",
      "766  0.62  367.5  220.50  3.5\n",
      "767  0.62  367.5  220.50  3.5\n",
      "\n",
      "[768 rows x 4 columns]\n",
      "\n",
      "Data frame y:\n",
      "0      15.55\n",
      "1      15.55\n",
      "2      15.55\n",
      "3      15.55\n",
      "4      20.84\n",
      "       ...  \n",
      "763    17.88\n",
      "764    16.54\n",
      "765    16.44\n",
      "766    16.48\n",
      "767    16.64\n",
      "Name: Y1, Length: 768, dtype: float64\n",
      "X Data Shape:  (768, 4)\n",
      "y Data Shape:  (768,)\n",
      "X Data Type:  float64\n",
      "y Data Type:  float64\n"
     ]
    }
   ],
   "source": [
    "x_data_subset_2 = df_main[['X1', 'X3', 'X4','X5']]\n",
    "y_data_subset_2 = df_main['Y1']\n",
    "\n",
    "print(\"Data frame X:\")\n",
    "print(x_data_subset_2)\n",
    "print(\"\\nData frame y:\")\n",
    "print(y_data_subset_2)\n",
    "\n",
    "\n",
    "Xs2 = np.asarray(x_data_subset_2) # Data Matrix containing all features excluding the target\n",
    "ys2 = np.asarray(y_data_subset_2) # 1D target array\n",
    "\n",
    "print(\"X Data Shape: \", Xs2.shape)\n",
    "print(\"y Data Shape: \", ys2.shape)\n",
    "\n",
    "print(\"X Data Type: \", Xs2.dtype)\n",
    "print(\"y Data Type: \", ys2.dtype)"
   ]
  },
  {
   "cell_type": "markdown",
   "metadata": {},
   "source": [
    "## Partition the Dataset into Train & Test Subsets"
   ]
  },
  {
   "cell_type": "code",
   "execution_count": 46,
   "metadata": {},
   "outputs": [],
   "source": [
    "#Create Train and Test Dataset\n",
    "\n",
    "X_train_subset_2, X_test_subset_2, y_train_subset_2, y_test_subset_2 = train_test_split(Xs2, ys2, test_size=0.2, random_state=42)"
   ]
  },
  {
   "cell_type": "markdown",
   "metadata": {},
   "source": [
    "## Model Selection Using Pipeline Object for subset 2"
   ]
  },
  {
   "cell_type": "code",
   "execution_count": 51,
   "metadata": {},
   "outputs": [
    {
     "name": "stdout",
     "output_type": "stream",
     "text": [
      "Fitting 3 folds for each of 600 candidates, totalling 1800 fits\n",
      "Best Score (negative mean squared error): -14.784740\n",
      "Optimal Hyperparameter Values:  {'poly__degree': 5, 'sgd__alpha': 0.001, 'sgd__eta0': 0.01, 'sgd__l1_ratio': 1, 'sgd__max_iter': 1000}\n",
      "\n",
      "\n",
      "CPU times: total: 2 s\n",
      "Wall time: 16.7 s\n"
     ]
    }
   ],
   "source": [
    "%%time\n",
    "\n",
    "warnings.filterwarnings('ignore')\n",
    "\n",
    "# Create a Pipeline object\n",
    "sgd_pipeline_s2 = Pipeline([\n",
    "        # Bias should be excluded because by default SGDRegressor adds bias via the\"fit_intercept\" parameter\n",
    "        ('poly', PolynomialFeatures(include_bias=False)), \n",
    "        ('scaler', StandardScaler()),\n",
    "        ('sgd', SGDRegressor(penalty='elasticnet')),\n",
    "    ])\n",
    "\n",
    "# Create a dictionary object with hyperparameters as keys and lists of corresponding values\n",
    "param_grid_s2 = {'poly__degree': [1, 2, 3, 4, 5],\n",
    "              'sgd__alpha': [0.1, 0.01, 0.001, 0.0001], \n",
    "              'sgd__l1_ratio': [1, 0.7, 0.5, 0.2, 0], 'sgd__max_iter':[500, 1000],\n",
    "              'sgd__eta0': [0.01, 0.001, 0.0001]}\n",
    "\n",
    "# Create a GridSearchCV object and perform hyperparameter tuning\n",
    "sgd_s2 = GridSearchCV(sgd_pipeline_s2, param_grid_s2, scoring='neg_mean_squared_error', cv=3, verbose=1, n_jobs=-1)\n",
    "\n",
    "# The model is trained with optimal hyperparameters, thus its the optimal model\n",
    "sgd_s2.fit(X_train_subset_2, y_train_subset_2)\n",
    "\n",
    "# Get the optimal hyperparameters\n",
    "params_optimal_sgd_s2 = sgd_s2.best_params_\n",
    "\n",
    "print(\"Best Score (negative mean squared error): %f\" % sgd_s2.best_score_)\n",
    "print(\"Optimal Hyperparameter Values: \", params_optimal_sgd_s2)\n",
    "print(\"\\n\")"
   ]
  },
  {
   "cell_type": "markdown",
   "metadata": {},
   "source": [
    "## Evaluate the Model \n"
   ]
  },
  {
   "cell_type": "code",
   "execution_count": 48,
   "metadata": {},
   "outputs": [
    {
     "name": "stdout",
     "output_type": "stream",
     "text": [
      "Train: Mean squared error: 14.55\n",
      "Train: Coefficient of determination r^2 variance score [1 is perfect prediction]: 0.86\n",
      "\n",
      "Test: Mean squared error: 14.12\n",
      "Test: Coefficient of determination r^2 variance score [1 is perfect prediction]: 0.86\n",
      "CPU times: total: 93.8 ms\n",
      "Wall time: 3.99 ms\n"
     ]
    }
   ],
   "source": [
    "%%time\n",
    "#We use the optimal model created above for its evaluation based on training and test data.\n",
    "#There is no need to train the model again by using the optimal hyperparameters.\n",
    "\n",
    "\n",
    "# Training data: Make prediction \n",
    "y_train_predicted_sgd_s2 = sgd_s2.predict(X_train_subset_2)\n",
    "\n",
    "print(\"Train: Mean squared error: %.2f\"\n",
    "      % mean_squared_error(y_train_subset_2, y_train_predicted_sgd_s2))\n",
    "\n",
    "# Training data: Explained variance score: 1 is perfect prediction\n",
    "print(\"Train: Coefficient of determination r^2 variance score [1 is perfect prediction]: %.2f\" \n",
    "      % r2_score(y_train_subset_2, y_train_predicted_sgd_s2))\n",
    "\n",
    "# Test data: Make prediction \n",
    "y_test_predicted_s2 = sgd_s2.predict(X_test_subset_2)\n",
    "\n",
    "print(\"\\nTest: Mean squared error: %.2f\"\n",
    "      % mean_squared_error(y_test_subset_2, y_test_predicted_s2))\n",
    "\n",
    "# Training data: Explained variance score: 1 is perfect prediction\n",
    "print(\"Test: Coefficient of determination r^2 variance score [1 is perfect prediction]: %.2f\" \n",
    "      % r2_score(y_test_subset_2, y_test_predicted_s2))\n"
   ]
  },
  {
   "cell_type": "markdown",
   "metadata": {},
   "source": [
    "# Subset 3"
   ]
  },
  {
   "cell_type": "markdown",
   "metadata": {},
   "source": [
    "## Create Data Matrix X and Target y"
   ]
  },
  {
   "cell_type": "code",
   "execution_count": 49,
   "metadata": {},
   "outputs": [
    {
     "name": "stdout",
     "output_type": "stream",
     "text": [
      "Data frame X:\n",
      "       X1     X2     X3      X4   X5\n",
      "0    0.98  514.5  294.0  110.25  7.0\n",
      "1    0.98  514.5  294.0  110.25  7.0\n",
      "2    0.98  514.5  294.0  110.25  7.0\n",
      "3    0.98  514.5  294.0  110.25  7.0\n",
      "4    0.90  563.5  318.5  122.50  7.0\n",
      "..    ...    ...    ...     ...  ...\n",
      "763  0.64  784.0  343.0  220.50  3.5\n",
      "764  0.62  808.5  367.5  220.50  3.5\n",
      "765  0.62  808.5  367.5  220.50  3.5\n",
      "766  0.62  808.5  367.5  220.50  3.5\n",
      "767  0.62  808.5  367.5  220.50  3.5\n",
      "\n",
      "[768 rows x 5 columns]\n",
      "\n",
      "Data frame y:\n",
      "0      15.55\n",
      "1      15.55\n",
      "2      15.55\n",
      "3      15.55\n",
      "4      20.84\n",
      "       ...  \n",
      "763    17.88\n",
      "764    16.54\n",
      "765    16.44\n",
      "766    16.48\n",
      "767    16.64\n",
      "Name: Y1, Length: 768, dtype: float64\n",
      "X Data Shape:  (768, 5)\n",
      "y Data Shape:  (768,)\n",
      "X Data Type:  float64\n",
      "y Data Type:  float64\n"
     ]
    }
   ],
   "source": [
    "x_data_subset_3 = df_main[['X1','X2', 'X3', 'X4','X5']]\n",
    "y_data_subset_3 = df_main['Y1']\n",
    "\n",
    "print(\"Data frame X:\")\n",
    "print(x_data_subset_3)\n",
    "print(\"\\nData frame y:\")\n",
    "print(y_data_subset_3)\n",
    "\n",
    "\n",
    "Xs3 = np.asarray(x_data_subset_3) # Data Matrix containing all features excluding the target\n",
    "ys3 = np.asarray(y_data_subset_3) # 1D target array\n",
    "\n",
    "print(\"X Data Shape: \", Xs3.shape)\n",
    "print(\"y Data Shape: \", ys3.shape)\n",
    "\n",
    "print(\"X Data Type: \", Xs3.dtype)\n",
    "print(\"y Data Type: \", ys3.dtype)"
   ]
  },
  {
   "cell_type": "markdown",
   "metadata": {},
   "source": [
    "## Partition the Dataset into Train & Test Subsets"
   ]
  },
  {
   "cell_type": "code",
   "execution_count": 50,
   "metadata": {},
   "outputs": [],
   "source": [
    "#Create Train and Test Dataset\n",
    "\n",
    "X_train_subset_3, X_test_subset_3, y_train_subset_3, y_test_subset_3 = train_test_split(Xs3, ys3, test_size=0.2, random_state=42)"
   ]
  },
  {
   "cell_type": "markdown",
   "metadata": {},
   "source": [
    "## Model Selection Using Pipeline Object for subset 3"
   ]
  },
  {
   "cell_type": "code",
   "execution_count": 52,
   "metadata": {},
   "outputs": [
    {
     "name": "stdout",
     "output_type": "stream",
     "text": [
      "Fitting 3 folds for each of 600 candidates, totalling 1800 fits\n",
      "Best Score (negative mean squared error): -13.950223\n",
      "Optimal Hyperparameter Values:  {'poly__degree': 5, 'sgd__alpha': 0.001, 'sgd__eta0': 0.01, 'sgd__l1_ratio': 0, 'sgd__max_iter': 500}\n",
      "\n",
      "\n",
      "CPU times: total: 2.08 s\n",
      "Wall time: 20.4 s\n"
     ]
    }
   ],
   "source": [
    "%%time\n",
    "\n",
    "warnings.filterwarnings('ignore')\n",
    "\n",
    "# Create a Pipeline object\n",
    "sgd_pipeline_s3 = Pipeline([\n",
    "        # Bias should be excluded because by default SGDRegressor adds bias via the\"fit_intercept\" parameter\n",
    "        ('poly', PolynomialFeatures(include_bias=False)), \n",
    "        ('scaler', StandardScaler()),\n",
    "        ('sgd', SGDRegressor(penalty='elasticnet')),\n",
    "    ])\n",
    "\n",
    "# Create a dictionary object with hyperparameters as keys and lists of corresponding values\n",
    "param_grid_s3 = {'poly__degree': [1, 2, 3, 4, 5],\n",
    "              'sgd__alpha': [0.1, 0.01, 0.001, 0.0001], \n",
    "              'sgd__l1_ratio': [1, 0.7, 0.5, 0.2, 0], 'sgd__max_iter':[500, 1000],\n",
    "              'sgd__eta0': [0.01, 0.001, 0.0001]}\n",
    "\n",
    "# Create a GridSearchCV object and perform hyperparameter tuning\n",
    "sgd_s3 = GridSearchCV(sgd_pipeline_s3, param_grid_s3, scoring='neg_mean_squared_error', cv=3, verbose=1, n_jobs=-1)\n",
    "\n",
    "# The model is trained with optimal hyperparameters, thus its the optimal model\n",
    "sgd_s3.fit(X_train_subset_3, y_train_subset_3)\n",
    "\n",
    "# Get the optimal hyperparameters\n",
    "params_optimal_sgd_s3 = sgd_s3.best_params_\n",
    "\n",
    "print(\"Best Score (negative mean squared error): %f\" % sgd_s3.best_score_)\n",
    "print(\"Optimal Hyperparameter Values: \", params_optimal_sgd_s3)\n",
    "print(\"\\n\")"
   ]
  },
  {
   "cell_type": "markdown",
   "metadata": {},
   "source": [
    "# Evaluate Model"
   ]
  },
  {
   "cell_type": "code",
   "execution_count": 54,
   "metadata": {},
   "outputs": [
    {
     "name": "stdout",
     "output_type": "stream",
     "text": [
      "Train: Mean squared error: 13.92\n",
      "Train: Coefficient of determination r^2 variance score [1 is perfect prediction]: 0.86\n",
      "\n",
      "Test: Mean squared error: 13.47\n",
      "Test: Coefficient of determination r^2 variance score [1 is perfect prediction]: 0.87\n",
      "CPU times: total: 0 ns\n",
      "Wall time: 5.49 ms\n"
     ]
    }
   ],
   "source": [
    "%%time\n",
    "#We use the optimal model created above for its evaluation based on training and test data.\n",
    "#There is no need to train the model again by using the optimal hyperparameters.\n",
    "\n",
    "\n",
    "# Training data: Make prediction \n",
    "y_train_predicted_sgd_s3 = sgd_s3.predict(X_train_subset_3)\n",
    "\n",
    "print(\"Train: Mean squared error: %.2f\"\n",
    "      % mean_squared_error(y_train_subset_3, y_train_predicted_sgd_s3))\n",
    "\n",
    "# Training data: Explained variance score: 1 is perfect prediction\n",
    "print(\"Train: Coefficient of determination r^2 variance score [1 is perfect prediction]: %.2f\" \n",
    "      % r2_score(y_train_subset_3, y_train_predicted_sgd_s3))\n",
    "\n",
    "# Test data: Make prediction \n",
    "y_test_predicted_s3 = sgd_s3.predict(X_test_subset_3)\n",
    "\n",
    "print(\"\\nTest: Mean squared error: %.2f\"\n",
    "      % mean_squared_error(y_test_subset_3, y_test_predicted_s3))\n",
    "\n",
    "# Training data: Explained variance score: 1 is perfect prediction\n",
    "print(\"Test: Coefficient of determination r^2 variance score [1 is perfect prediction]: %.2f\" \n",
    "      % r2_score(y_test_subset_3, y_test_predicted_s3))\n"
   ]
  },
  {
   "cell_type": "markdown",
   "metadata": {},
   "source": [
    "# Subset 4"
   ]
  },
  {
   "cell_type": "markdown",
   "metadata": {},
   "source": [
    "## Create Data Matrix X and Target y"
   ]
  },
  {
   "cell_type": "code",
   "execution_count": 55,
   "metadata": {},
   "outputs": [
    {
     "name": "stdout",
     "output_type": "stream",
     "text": [
      "Data frame X:\n",
      "       X1     X2      X4   X5\n",
      "0    0.98  514.5  110.25  7.0\n",
      "1    0.98  514.5  110.25  7.0\n",
      "2    0.98  514.5  110.25  7.0\n",
      "3    0.98  514.5  110.25  7.0\n",
      "4    0.90  563.5  122.50  7.0\n",
      "..    ...    ...     ...  ...\n",
      "763  0.64  784.0  220.50  3.5\n",
      "764  0.62  808.5  220.50  3.5\n",
      "765  0.62  808.5  220.50  3.5\n",
      "766  0.62  808.5  220.50  3.5\n",
      "767  0.62  808.5  220.50  3.5\n",
      "\n",
      "[768 rows x 4 columns]\n",
      "\n",
      "Data frame y:\n",
      "0      15.55\n",
      "1      15.55\n",
      "2      15.55\n",
      "3      15.55\n",
      "4      20.84\n",
      "       ...  \n",
      "763    17.88\n",
      "764    16.54\n",
      "765    16.44\n",
      "766    16.48\n",
      "767    16.64\n",
      "Name: Y1, Length: 768, dtype: float64\n",
      "X Data Shape:  (768, 4)\n",
      "y Data Shape:  (768,)\n",
      "X Data Type:  float64\n",
      "y Data Type:  float64\n"
     ]
    }
   ],
   "source": [
    "x_data_subset_4 = df_main[['X1','X2','X4','X5']]\n",
    "y_data_subset_4 = df_main['Y1']\n",
    "\n",
    "print(\"Data frame X:\")\n",
    "print(x_data_subset_4)\n",
    "print(\"\\nData frame y:\")\n",
    "print(y_data_subset_4)\n",
    "\n",
    "\n",
    "Xs4 = np.asarray(x_data_subset_4) # Data Matrix containing all features excluding the target\n",
    "ys4 = np.asarray(y_data_subset_4) # 1D target array\n",
    "\n",
    "print(\"X Data Shape: \", Xs4.shape)\n",
    "print(\"y Data Shape: \", ys4.shape)\n",
    "\n",
    "print(\"X Data Type: \", Xs4.dtype)\n",
    "print(\"y Data Type: \", ys4.dtype)"
   ]
  },
  {
   "cell_type": "markdown",
   "metadata": {},
   "source": [
    "## Partition the Dataset into Train & Test Subsets"
   ]
  },
  {
   "cell_type": "code",
   "execution_count": 56,
   "metadata": {},
   "outputs": [],
   "source": [
    "#Create Train and Test Dataset\n",
    "\n",
    "X_train_subset_4, X_test_subset_4, y_train_subset_4, y_test_subset_4 = train_test_split(Xs4, ys4, test_size=0.2, random_state=42)"
   ]
  },
  {
   "cell_type": "markdown",
   "metadata": {},
   "source": [
    "## Model Selection Using Pipeline Object for subset 4"
   ]
  },
  {
   "cell_type": "code",
   "execution_count": 57,
   "metadata": {},
   "outputs": [
    {
     "name": "stdout",
     "output_type": "stream",
     "text": [
      "Fitting 3 folds for each of 600 candidates, totalling 1800 fits\n",
      "Best Score (negative mean squared error): -14.841619\n",
      "Optimal Hyperparameter Values:  {'poly__degree': 5, 'sgd__alpha': 0.001, 'sgd__eta0': 0.01, 'sgd__l1_ratio': 0.7, 'sgd__max_iter': 1000}\n",
      "\n",
      "\n",
      "CPU times: total: 1.95 s\n",
      "Wall time: 16.1 s\n"
     ]
    }
   ],
   "source": [
    "%%time\n",
    "\n",
    "warnings.filterwarnings('ignore')\n",
    "\n",
    "# Create a Pipeline object\n",
    "sgd_pipeline_s4 = Pipeline([\n",
    "        # Bias should be excluded because by default SGDRegressor adds bias via the\"fit_intercept\" parameter\n",
    "        ('poly', PolynomialFeatures(include_bias=False)), \n",
    "        ('scaler', StandardScaler()),\n",
    "        ('sgd', SGDRegressor(penalty='elasticnet')),\n",
    "    ])\n",
    "\n",
    "# Create a dictionary object with hyperparameters as keys and lists of corresponding values\n",
    "param_grid_s4 = {'poly__degree': [1, 2, 3, 4, 5],\n",
    "              'sgd__alpha': [0.1, 0.01, 0.001, 0.0001], \n",
    "              'sgd__l1_ratio': [1, 0.7, 0.5, 0.2, 0], 'sgd__max_iter':[500, 1000],\n",
    "              'sgd__eta0': [0.01, 0.001, 0.0001]}\n",
    "\n",
    "# Create a GridSearchCV object and perform hyperparameter tuning\n",
    "sgd_s4 = GridSearchCV(sgd_pipeline_s4, param_grid_s4, scoring='neg_mean_squared_error', cv=3, verbose=1, n_jobs=-1)\n",
    "\n",
    "# The model is trained with optimal hyperparameters, thus its the optimal model\n",
    "sgd_s4.fit(X_train_subset_4, y_train_subset_4)\n",
    "\n",
    "# Get the optimal hyperparameters\n",
    "params_optimal_sgd_s4 = sgd_s4.best_params_\n",
    "\n",
    "print(\"Best Score (negative mean squared error): %f\" % sgd_s4.best_score_)\n",
    "print(\"Optimal Hyperparameter Values: \", params_optimal_sgd_s4)\n",
    "print(\"\\n\")"
   ]
  },
  {
   "cell_type": "code",
   "execution_count": 58,
   "metadata": {},
   "outputs": [
    {
     "name": "stdout",
     "output_type": "stream",
     "text": [
      "Train: Mean squared error: 17.55\n",
      "Train: Coefficient of determination r^2 variance score [1 is perfect prediction]: 0.83\n",
      "\n",
      "Test: Mean squared error: 17.11\n",
      "Test: Coefficient of determination r^2 variance score [1 is perfect prediction]: 0.84\n",
      "CPU times: total: 0 ns\n",
      "Wall time: 7.98 ms\n"
     ]
    }
   ],
   "source": [
    "%%time\n",
    "#We use the optimal model created above for its evaluation based on training and test data.\n",
    "#There is no need to train the model again by using the optimal hyperparameters.\n",
    "\n",
    "\n",
    "# Training data: Make prediction \n",
    "y_train_predicted_sgd_s4 = sgd_s4.predict(X_train_subset_4)\n",
    "\n",
    "print(\"Train: Mean squared error: %.2f\"\n",
    "      % mean_squared_error(y_train_subset_4, y_train_predicted_sgd_s4))\n",
    "\n",
    "# Training data: Explained variance score: 1 is perfect prediction\n",
    "print(\"Train: Coefficient of determination r^2 variance score [1 is perfect prediction]: %.2f\" \n",
    "      % r2_score(y_train_subset_4, y_train_predicted_sgd_s4))\n",
    "\n",
    "# Test data: Make prediction \n",
    "y_test_predicted_s4 = sgd_s4.predict(X_test_subset_4)\n",
    "\n",
    "print(\"\\nTest: Mean squared error: %.2f\"\n",
    "      % mean_squared_error(y_test_subset_4, y_test_predicted_s4))\n",
    "\n",
    "# Training data: Explained variance score: 1 is perfect prediction\n",
    "print(\"Test: Coefficient of determination r^2 variance score [1 is perfect prediction]: %.2f\" \n",
    "      % r2_score(y_test_subset_4, y_test_predicted_s4))\n"
   ]
  },
  {
   "cell_type": "markdown",
   "metadata": {},
   "source": [
    "# Part B"
   ]
  },
  {
   "cell_type": "code",
   "execution_count": 78,
   "metadata": {},
   "outputs": [
    {
     "name": "stderr",
     "output_type": "stream",
     "text": [
      "[nltk_data] Downloading package wordnet to\n",
      "[nltk_data]     C:\\Users\\adars\\AppData\\Roaming\\nltk_data...\n",
      "[nltk_data]   Package wordnet is already up-to-date!\n",
      "[nltk_data] Downloading package punkt to\n",
      "[nltk_data]     C:\\Users\\adars\\AppData\\Roaming\\nltk_data...\n",
      "[nltk_data]   Package punkt is already up-to-date!\n",
      "[nltk_data] Downloading package omw-1.4 to\n",
      "[nltk_data]     C:\\Users\\adars\\AppData\\Roaming\\nltk_data...\n",
      "[nltk_data]   Package omw-1.4 is already up-to-date!\n"
     ]
    }
   ],
   "source": [
    "import matplotlib.pyplot as plt\n",
    "plt.style.use('ggplot')\n",
    "import seaborn as sns\n",
    "\n",
    "import nltk\n",
    "nltk.download('wordnet')\n",
    "nltk.download('punkt')\n",
    "nltk.download('omw-1.4')\n",
    "\n",
    "from nltk.stem import WordNetLemmatizer \n",
    "from sklearn.feature_extraction.text import CountVectorizer, TfidfVectorizer\n",
    "from sklearn.model_selection import train_test_split\n",
    "from sklearn.preprocessing import StandardScaler\n",
    "from sklearn.metrics import confusion_matrix, classification_report\n",
    "from sklearn.linear_model import LogisticRegression\n",
    "\n",
    "\n",
    "from sklearn import datasets\n",
    "from sklearn.preprocessing import StandardScaler\n",
    "from sklearn.neighbors import KNeighborsClassifier\n",
    "from sklearn.model_selection import train_test_split, GridSearchCV, cross_val_score, cross_val_predict\n",
    "from sklearn.metrics import confusion_matrix, precision_score, recall_score, f1_score, roc_curve, roc_auc_score\n",
    "from sklearn.metrics import precision_recall_curve, classification_report\n",
    "from sklearn.metrics import classification_report\n"
   ]
  },
  {
   "cell_type": "markdown",
   "metadata": {},
   "source": [
    "# Load Data"
   ]
  },
  {
   "cell_type": "code",
   "execution_count": 3,
   "metadata": {},
   "outputs": [],
   "source": [
    "#Loading the CSV files\n",
    "\n",
    "df_real = pd.read_csv('/Users/adars/Documents/ML/Assign 2/Dataset-Assignment2/NewsRealCOVID-19-05.csv', header=0)\n",
    "\n",
    "df_fake = pd.read_csv('/Users/adars/Documents/ML/Assign 2/Dataset-Assignment2/NewsFakeCOVID-19-05.csv', header=0)\n"
   ]
  },
  {
   "cell_type": "markdown",
   "metadata": {},
   "source": [
    "# Data Pre-processing\n"
   ]
  },
  {
   "cell_type": "code",
   "execution_count": 4,
   "metadata": {},
   "outputs": [],
   "source": [
    "#label columns for each DataFrame object 0 for fake and 1 for real\n",
    "\n",
    "df_real['label'] = 1\n",
    "df_fake['label'] = 0"
   ]
  },
  {
   "cell_type": "code",
   "execution_count": 5,
   "metadata": {},
   "outputs": [],
   "source": [
    "#Concatenate the two DataFrame objects vertically\n",
    "\n",
    "df_all = pd.concat([df_real, df_fake], ignore_index=True)"
   ]
  },
  {
   "cell_type": "code",
   "execution_count": 6,
   "metadata": {},
   "outputs": [
    {
     "data": {
      "text/html": [
       "<div>\n",
       "<style scoped>\n",
       "    .dataframe tbody tr th:only-of-type {\n",
       "        vertical-align: middle;\n",
       "    }\n",
       "\n",
       "    .dataframe tbody tr th {\n",
       "        vertical-align: top;\n",
       "    }\n",
       "\n",
       "    .dataframe thead th {\n",
       "        text-align: right;\n",
       "    }\n",
       "</style>\n",
       "<table border=\"1\" class=\"dataframe\">\n",
       "  <thead>\n",
       "    <tr style=\"text-align: right;\">\n",
       "      <th></th>\n",
       "      <th>Unnamed: 0</th>\n",
       "      <th>type</th>\n",
       "      <th>fact_check_url</th>\n",
       "      <th>news_url</th>\n",
       "      <th>title</th>\n",
       "      <th>newstitle</th>\n",
       "      <th>content</th>\n",
       "      <th>abstract</th>\n",
       "      <th>publish_date</th>\n",
       "      <th>meta_keywords</th>\n",
       "      <th>label</th>\n",
       "      <th>archieve</th>\n",
       "      <th>news_url2</th>\n",
       "      <th>news_url3</th>\n",
       "      <th>news_url4</th>\n",
       "      <th>news_url5</th>\n",
       "    </tr>\n",
       "  </thead>\n",
       "  <tbody>\n",
       "    <tr>\n",
       "      <th>0</th>\n",
       "      <td>0</td>\n",
       "      <td>article</td>\n",
       "      <td>healthline.com</td>\n",
       "      <td>https://www.healthline.com/health-news/coronav...</td>\n",
       "      <td>Coronavirus Outbreak: Live Updates</td>\n",
       "      <td>\"Coronavirus Outbreak: Daily Updates\"</td>\n",
       "      <td>experts warn most states that are reopening st...</td>\n",
       "      <td>the new coronavirus disease outbreak first ide...</td>\n",
       "      <td>NaN</td>\n",
       "      <td>\"coronavirus outbreak, viral outbreak, viral i...</td>\n",
       "      <td>1</td>\n",
       "      <td>NaN</td>\n",
       "      <td>NaN</td>\n",
       "      <td>NaN</td>\n",
       "      <td>NaN</td>\n",
       "      <td>NaN</td>\n",
       "    </tr>\n",
       "    <tr>\n",
       "      <th>1</th>\n",
       "      <td>1</td>\n",
       "      <td>article</td>\n",
       "      <td>healthline.com</td>\n",
       "      <td>https://www.healthline.com/health-news/screen-...</td>\n",
       "      <td>Screen Time Doesn’t Hurt Kids’ Social Skills, ...</td>\n",
       "      <td>\"Screen Time Doesn't Hurt Kids' Social Skills,...</td>\n",
       "      <td>a new study finds an increase in screen time d...</td>\n",
       "      <td>new research found that school age children in...</td>\n",
       "      <td>NaN</td>\n",
       "      <td>\"screen time, child development, smartphones, ...</td>\n",
       "      <td>1</td>\n",
       "      <td>NaN</td>\n",
       "      <td>NaN</td>\n",
       "      <td>NaN</td>\n",
       "      <td>NaN</td>\n",
       "      <td>NaN</td>\n",
       "    </tr>\n",
       "    <tr>\n",
       "      <th>2</th>\n",
       "      <td>2</td>\n",
       "      <td>article</td>\n",
       "      <td>healthline.com</td>\n",
       "      <td>https://www.healthline.com/health-news/heres-e...</td>\n",
       "      <td>Here’s Exactly Where We Are with Vaccines and ...</td>\n",
       "      <td>\"Where We're at with Vaccines and Treatments f...</td>\n",
       "      <td>scientists around the world are working on a n...</td>\n",
       "      <td>scientists around the world are working on a n...</td>\n",
       "      <td>NaN</td>\n",
       "      <td>\"covid-19 coronavirus outbreak research progre...</td>\n",
       "      <td>1</td>\n",
       "      <td>NaN</td>\n",
       "      <td>NaN</td>\n",
       "      <td>NaN</td>\n",
       "      <td>NaN</td>\n",
       "      <td>NaN</td>\n",
       "    </tr>\n",
       "    <tr>\n",
       "      <th>3</th>\n",
       "      <td>3</td>\n",
       "      <td>article</td>\n",
       "      <td>healthline.com</td>\n",
       "      <td>https://www.healthline.com/health-news/heres-w...</td>\n",
       "      <td>Here’s What Happens to the Body After Contract...</td>\n",
       "      <td>\"Here's What Happens to the Body After Contrac...</td>\n",
       "      <td>coronaviruses cause respiratory illnesses so t...</td>\n",
       "      <td>heres what we know so far about how covid-19 a...</td>\n",
       "      <td>NaN</td>\n",
       "      <td>\"coronavirus, viral infection, viral outbreak,...</td>\n",
       "      <td>1</td>\n",
       "      <td>NaN</td>\n",
       "      <td>NaN</td>\n",
       "      <td>NaN</td>\n",
       "      <td>NaN</td>\n",
       "      <td>NaN</td>\n",
       "    </tr>\n",
       "    <tr>\n",
       "      <th>4</th>\n",
       "      <td>4</td>\n",
       "      <td>article</td>\n",
       "      <td>healthline.com</td>\n",
       "      <td>https://www.healthline.com/health-news/why-you...</td>\n",
       "      <td>Why You Should Be Skeptical of Early Results o...</td>\n",
       "      <td>\"Why You Should Be Skeptical of Leaked Results...</td>\n",
       "      <td>medical experts are studying if remdesivir can...</td>\n",
       "      <td>with no approved treatment specific for covid-...</td>\n",
       "      <td>NaN</td>\n",
       "      <td>\"covid-19, covornavirus, novel coronavirus, vi...</td>\n",
       "      <td>1</td>\n",
       "      <td>NaN</td>\n",
       "      <td>NaN</td>\n",
       "      <td>NaN</td>\n",
       "      <td>NaN</td>\n",
       "      <td>NaN</td>\n",
       "    </tr>\n",
       "    <tr>\n",
       "      <th>...</th>\n",
       "      <td>...</td>\n",
       "      <td>...</td>\n",
       "      <td>...</td>\n",
       "      <td>...</td>\n",
       "      <td>...</td>\n",
       "      <td>...</td>\n",
       "      <td>...</td>\n",
       "      <td>...</td>\n",
       "      <td>...</td>\n",
       "      <td>...</td>\n",
       "      <td>...</td>\n",
       "      <td>...</td>\n",
       "      <td>...</td>\n",
       "      <td>...</td>\n",
       "      <td>...</td>\n",
       "      <td>...</td>\n",
       "    </tr>\n",
       "    <tr>\n",
       "      <th>2157</th>\n",
       "      <td>618</td>\n",
       "      <td>post</td>\n",
       "      <td>https://www.politifact.com/factchecks/2020/apr...</td>\n",
       "      <td>https://www.facebook.com/SenatorChrisLarson/po...</td>\n",
       "      <td>The April 22 jump in COVID-19 cases in the Uni...</td>\n",
       "      <td>NaN</td>\n",
       "      <td>NaN</td>\n",
       "      <td>NaN</td>\n",
       "      <td>NaN</td>\n",
       "      <td>NaN</td>\n",
       "      <td>0</td>\n",
       "      <td>NaN</td>\n",
       "      <td>NaN</td>\n",
       "      <td>NaN</td>\n",
       "      <td>NaN</td>\n",
       "      <td>NaN</td>\n",
       "    </tr>\n",
       "    <tr>\n",
       "      <th>2158</th>\n",
       "      <td>619</td>\n",
       "      <td>post</td>\n",
       "      <td>https://pesacheck.org/fact-check-are-hydroxych...</td>\n",
       "      <td>https://www.facebook.com/Reuben.Kutit/videos/v...</td>\n",
       "      <td>A video posted on Facebook claiming that chlor...</td>\n",
       "      <td>NaN</td>\n",
       "      <td>NaN</td>\n",
       "      <td>NaN</td>\n",
       "      <td>NaN</td>\n",
       "      <td>NaN</td>\n",
       "      <td>0</td>\n",
       "      <td>https://archive.today/EHBh2</td>\n",
       "      <td>NaN</td>\n",
       "      <td>NaN</td>\n",
       "      <td>NaN</td>\n",
       "      <td>NaN</td>\n",
       "    </tr>\n",
       "    <tr>\n",
       "      <th>2159</th>\n",
       "      <td>620</td>\n",
       "      <td>post</td>\n",
       "      <td>https://www.politifact.com/factchecks/2020/apr...</td>\n",
       "      <td>https://www.facebook.com/photo.php?fbid=281367...</td>\n",
       "      <td>Trey Gowdy said, “I’m not saying COVID-19 isn’...</td>\n",
       "      <td>NaN</td>\n",
       "      <td>NaN</td>\n",
       "      <td>NaN</td>\n",
       "      <td>NaN</td>\n",
       "      <td>NaN</td>\n",
       "      <td>0</td>\n",
       "      <td>NaN</td>\n",
       "      <td>NaN</td>\n",
       "      <td>NaN</td>\n",
       "      <td>NaN</td>\n",
       "      <td>NaN</td>\n",
       "    </tr>\n",
       "    <tr>\n",
       "      <th>2160</th>\n",
       "      <td>621</td>\n",
       "      <td>post</td>\n",
       "      <td>https://www.factcheck.org/2020/04/no-evidence-...</td>\n",
       "      <td>https://www.facebook.com/Education4Libs/photos...</td>\n",
       "      <td>A Pentagon study found that people who get the...</td>\n",
       "      <td>NaN</td>\n",
       "      <td>NaN</td>\n",
       "      <td>NaN</td>\n",
       "      <td>NaN</td>\n",
       "      <td>NaN</td>\n",
       "      <td>0</td>\n",
       "      <td>NaN</td>\n",
       "      <td>https://www.facebook.com/FollowTheWhiteRabbit1...</td>\n",
       "      <td>https://twitter.com/Education4Libs/status/1252...</td>\n",
       "      <td>NaN</td>\n",
       "      <td>NaN</td>\n",
       "    </tr>\n",
       "    <tr>\n",
       "      <th>2161</th>\n",
       "      <td>622</td>\n",
       "      <td>post</td>\n",
       "      <td>https://www.politifact.com/factchecks/2020/apr...</td>\n",
       "      <td>https://www.facebook.com/labella.nadia.7/posts...</td>\n",
       "      <td>?rump said ?undreds?of governors are calling h...</td>\n",
       "      <td>NaN</td>\n",
       "      <td>NaN</td>\n",
       "      <td>NaN</td>\n",
       "      <td>NaN</td>\n",
       "      <td>NaN</td>\n",
       "      <td>0</td>\n",
       "      <td>NaN</td>\n",
       "      <td>NaN</td>\n",
       "      <td>NaN</td>\n",
       "      <td>NaN</td>\n",
       "      <td>NaN</td>\n",
       "    </tr>\n",
       "  </tbody>\n",
       "</table>\n",
       "<p>2162 rows × 16 columns</p>\n",
       "</div>"
      ],
      "text/plain": [
       "      Unnamed: 0     type                                     fact_check_url  \\\n",
       "0              0  article                                     healthline.com   \n",
       "1              1  article                                     healthline.com   \n",
       "2              2  article                                     healthline.com   \n",
       "3              3  article                                     healthline.com   \n",
       "4              4  article                                     healthline.com   \n",
       "...          ...      ...                                                ...   \n",
       "2157         618     post  https://www.politifact.com/factchecks/2020/apr...   \n",
       "2158         619     post  https://pesacheck.org/fact-check-are-hydroxych...   \n",
       "2159         620     post  https://www.politifact.com/factchecks/2020/apr...   \n",
       "2160         621     post  https://www.factcheck.org/2020/04/no-evidence-...   \n",
       "2161         622     post  https://www.politifact.com/factchecks/2020/apr...   \n",
       "\n",
       "                                               news_url  \\\n",
       "0     https://www.healthline.com/health-news/coronav...   \n",
       "1     https://www.healthline.com/health-news/screen-...   \n",
       "2     https://www.healthline.com/health-news/heres-e...   \n",
       "3     https://www.healthline.com/health-news/heres-w...   \n",
       "4     https://www.healthline.com/health-news/why-you...   \n",
       "...                                                 ...   \n",
       "2157  https://www.facebook.com/SenatorChrisLarson/po...   \n",
       "2158  https://www.facebook.com/Reuben.Kutit/videos/v...   \n",
       "2159  https://www.facebook.com/photo.php?fbid=281367...   \n",
       "2160  https://www.facebook.com/Education4Libs/photos...   \n",
       "2161  https://www.facebook.com/labella.nadia.7/posts...   \n",
       "\n",
       "                                                  title  \\\n",
       "0                    Coronavirus Outbreak: Live Updates   \n",
       "1     Screen Time Doesn’t Hurt Kids’ Social Skills, ...   \n",
       "2     Here’s Exactly Where We Are with Vaccines and ...   \n",
       "3     Here’s What Happens to the Body After Contract...   \n",
       "4     Why You Should Be Skeptical of Early Results o...   \n",
       "...                                                 ...   \n",
       "2157  The April 22 jump in COVID-19 cases in the Uni...   \n",
       "2158  A video posted on Facebook claiming that chlor...   \n",
       "2159  Trey Gowdy said, “I’m not saying COVID-19 isn’...   \n",
       "2160  A Pentagon study found that people who get the...   \n",
       "2161  ?rump said ?undreds?of governors are calling h...   \n",
       "\n",
       "                                              newstitle  \\\n",
       "0                 \"Coronavirus Outbreak: Daily Updates\"   \n",
       "1     \"Screen Time Doesn't Hurt Kids' Social Skills,...   \n",
       "2     \"Where We're at with Vaccines and Treatments f...   \n",
       "3     \"Here's What Happens to the Body After Contrac...   \n",
       "4     \"Why You Should Be Skeptical of Leaked Results...   \n",
       "...                                                 ...   \n",
       "2157                                                NaN   \n",
       "2158                                                NaN   \n",
       "2159                                                NaN   \n",
       "2160                                                NaN   \n",
       "2161                                                NaN   \n",
       "\n",
       "                                                content  \\\n",
       "0     experts warn most states that are reopening st...   \n",
       "1     a new study finds an increase in screen time d...   \n",
       "2     scientists around the world are working on a n...   \n",
       "3     coronaviruses cause respiratory illnesses so t...   \n",
       "4     medical experts are studying if remdesivir can...   \n",
       "...                                                 ...   \n",
       "2157                                                NaN   \n",
       "2158                                                NaN   \n",
       "2159                                                NaN   \n",
       "2160                                                NaN   \n",
       "2161                                                NaN   \n",
       "\n",
       "                                               abstract publish_date  \\\n",
       "0     the new coronavirus disease outbreak first ide...          NaN   \n",
       "1     new research found that school age children in...          NaN   \n",
       "2     scientists around the world are working on a n...          NaN   \n",
       "3     heres what we know so far about how covid-19 a...          NaN   \n",
       "4     with no approved treatment specific for covid-...          NaN   \n",
       "...                                                 ...          ...   \n",
       "2157                                                NaN          NaN   \n",
       "2158                                                NaN          NaN   \n",
       "2159                                                NaN          NaN   \n",
       "2160                                                NaN          NaN   \n",
       "2161                                                NaN          NaN   \n",
       "\n",
       "                                          meta_keywords  label  \\\n",
       "0     \"coronavirus outbreak, viral outbreak, viral i...      1   \n",
       "1     \"screen time, child development, smartphones, ...      1   \n",
       "2     \"covid-19 coronavirus outbreak research progre...      1   \n",
       "3     \"coronavirus, viral infection, viral outbreak,...      1   \n",
       "4     \"covid-19, covornavirus, novel coronavirus, vi...      1   \n",
       "...                                                 ...    ...   \n",
       "2157                                                NaN      0   \n",
       "2158                                                NaN      0   \n",
       "2159                                                NaN      0   \n",
       "2160                                                NaN      0   \n",
       "2161                                                NaN      0   \n",
       "\n",
       "                         archieve  \\\n",
       "0                             NaN   \n",
       "1                             NaN   \n",
       "2                             NaN   \n",
       "3                             NaN   \n",
       "4                             NaN   \n",
       "...                           ...   \n",
       "2157                          NaN   \n",
       "2158  https://archive.today/EHBh2   \n",
       "2159                          NaN   \n",
       "2160                          NaN   \n",
       "2161                          NaN   \n",
       "\n",
       "                                              news_url2  \\\n",
       "0                                                   NaN   \n",
       "1                                                   NaN   \n",
       "2                                                   NaN   \n",
       "3                                                   NaN   \n",
       "4                                                   NaN   \n",
       "...                                                 ...   \n",
       "2157                                                NaN   \n",
       "2158                                                NaN   \n",
       "2159                                                NaN   \n",
       "2160  https://www.facebook.com/FollowTheWhiteRabbit1...   \n",
       "2161                                                NaN   \n",
       "\n",
       "                                              news_url3 news_url4 news_url5  \n",
       "0                                                   NaN       NaN       NaN  \n",
       "1                                                   NaN       NaN       NaN  \n",
       "2                                                   NaN       NaN       NaN  \n",
       "3                                                   NaN       NaN       NaN  \n",
       "4                                                   NaN       NaN       NaN  \n",
       "...                                                 ...       ...       ...  \n",
       "2157                                                NaN       NaN       NaN  \n",
       "2158                                                NaN       NaN       NaN  \n",
       "2159                                                NaN       NaN       NaN  \n",
       "2160  https://twitter.com/Education4Libs/status/1252...       NaN       NaN  \n",
       "2161                                                NaN       NaN       NaN  \n",
       "\n",
       "[2162 rows x 16 columns]"
      ]
     },
     "execution_count": 6,
     "metadata": {},
     "output_type": "execute_result"
    }
   ],
   "source": [
    "df_all"
   ]
  },
  {
   "cell_type": "code",
   "execution_count": 7,
   "metadata": {},
   "outputs": [
    {
     "data": {
      "text/html": [
       "<div>\n",
       "<style scoped>\n",
       "    .dataframe tbody tr th:only-of-type {\n",
       "        vertical-align: middle;\n",
       "    }\n",
       "\n",
       "    .dataframe tbody tr th {\n",
       "        vertical-align: top;\n",
       "    }\n",
       "\n",
       "    .dataframe thead th {\n",
       "        text-align: right;\n",
       "    }\n",
       "</style>\n",
       "<table border=\"1\" class=\"dataframe\">\n",
       "  <thead>\n",
       "    <tr style=\"text-align: right;\">\n",
       "      <th></th>\n",
       "      <th>content</th>\n",
       "      <th>label</th>\n",
       "    </tr>\n",
       "  </thead>\n",
       "  <tbody>\n",
       "    <tr>\n",
       "      <th>0</th>\n",
       "      <td>experts warn most states that are reopening st...</td>\n",
       "      <td>1</td>\n",
       "    </tr>\n",
       "    <tr>\n",
       "      <th>1</th>\n",
       "      <td>a new study finds an increase in screen time d...</td>\n",
       "      <td>1</td>\n",
       "    </tr>\n",
       "    <tr>\n",
       "      <th>2</th>\n",
       "      <td>scientists around the world are working on a n...</td>\n",
       "      <td>1</td>\n",
       "    </tr>\n",
       "    <tr>\n",
       "      <th>3</th>\n",
       "      <td>coronaviruses cause respiratory illnesses so t...</td>\n",
       "      <td>1</td>\n",
       "    </tr>\n",
       "    <tr>\n",
       "      <th>4</th>\n",
       "      <td>medical experts are studying if remdesivir can...</td>\n",
       "      <td>1</td>\n",
       "    </tr>\n",
       "    <tr>\n",
       "      <th>...</th>\n",
       "      <td>...</td>\n",
       "      <td>...</td>\n",
       "    </tr>\n",
       "    <tr>\n",
       "      <th>2157</th>\n",
       "      <td>NaN</td>\n",
       "      <td>0</td>\n",
       "    </tr>\n",
       "    <tr>\n",
       "      <th>2158</th>\n",
       "      <td>NaN</td>\n",
       "      <td>0</td>\n",
       "    </tr>\n",
       "    <tr>\n",
       "      <th>2159</th>\n",
       "      <td>NaN</td>\n",
       "      <td>0</td>\n",
       "    </tr>\n",
       "    <tr>\n",
       "      <th>2160</th>\n",
       "      <td>NaN</td>\n",
       "      <td>0</td>\n",
       "    </tr>\n",
       "    <tr>\n",
       "      <th>2161</th>\n",
       "      <td>NaN</td>\n",
       "      <td>0</td>\n",
       "    </tr>\n",
       "  </tbody>\n",
       "</table>\n",
       "<p>2162 rows × 2 columns</p>\n",
       "</div>"
      ],
      "text/plain": [
       "                                                content  label\n",
       "0     experts warn most states that are reopening st...      1\n",
       "1     a new study finds an increase in screen time d...      1\n",
       "2     scientists around the world are working on a n...      1\n",
       "3     coronaviruses cause respiratory illnesses so t...      1\n",
       "4     medical experts are studying if remdesivir can...      1\n",
       "...                                                 ...    ...\n",
       "2157                                                NaN      0\n",
       "2158                                                NaN      0\n",
       "2159                                                NaN      0\n",
       "2160                                                NaN      0\n",
       "2161                                                NaN      0\n",
       "\n",
       "[2162 rows x 2 columns]"
      ]
     },
     "execution_count": 7,
     "metadata": {},
     "output_type": "execute_result"
    }
   ],
   "source": [
    "#Extract only two columns\n",
    "df_m = df_all[['content','label']]\n",
    "df_m "
   ]
  },
  {
   "cell_type": "markdown",
   "metadata": {},
   "source": [
    "# Exploratory Data Analysis (EDA)"
   ]
  },
  {
   "cell_type": "markdown",
   "metadata": {},
   "source": [
    "## Quick Check of the Data"
   ]
  },
  {
   "cell_type": "code",
   "execution_count": 8,
   "metadata": {},
   "outputs": [
    {
     "data": {
      "text/html": [
       "<div>\n",
       "<style scoped>\n",
       "    .dataframe tbody tr th:only-of-type {\n",
       "        vertical-align: middle;\n",
       "    }\n",
       "\n",
       "    .dataframe tbody tr th {\n",
       "        vertical-align: top;\n",
       "    }\n",
       "\n",
       "    .dataframe thead th {\n",
       "        text-align: right;\n",
       "    }\n",
       "</style>\n",
       "<table border=\"1\" class=\"dataframe\">\n",
       "  <thead>\n",
       "    <tr style=\"text-align: right;\">\n",
       "      <th></th>\n",
       "      <th>content</th>\n",
       "      <th>label</th>\n",
       "    </tr>\n",
       "  </thead>\n",
       "  <tbody>\n",
       "    <tr>\n",
       "      <th>0</th>\n",
       "      <td>experts warn most states that are reopening st...</td>\n",
       "      <td>1</td>\n",
       "    </tr>\n",
       "    <tr>\n",
       "      <th>1</th>\n",
       "      <td>a new study finds an increase in screen time d...</td>\n",
       "      <td>1</td>\n",
       "    </tr>\n",
       "    <tr>\n",
       "      <th>2</th>\n",
       "      <td>scientists around the world are working on a n...</td>\n",
       "      <td>1</td>\n",
       "    </tr>\n",
       "    <tr>\n",
       "      <th>3</th>\n",
       "      <td>coronaviruses cause respiratory illnesses so t...</td>\n",
       "      <td>1</td>\n",
       "    </tr>\n",
       "    <tr>\n",
       "      <th>4</th>\n",
       "      <td>medical experts are studying if remdesivir can...</td>\n",
       "      <td>1</td>\n",
       "    </tr>\n",
       "  </tbody>\n",
       "</table>\n",
       "</div>"
      ],
      "text/plain": [
       "                                             content  label\n",
       "0  experts warn most states that are reopening st...      1\n",
       "1  a new study finds an increase in screen time d...      1\n",
       "2  scientists around the world are working on a n...      1\n",
       "3  coronaviruses cause respiratory illnesses so t...      1\n",
       "4  medical experts are studying if remdesivir can...      1"
      ]
     },
     "execution_count": 8,
     "metadata": {},
     "output_type": "execute_result"
    }
   ],
   "source": [
    "df_m.head()"
   ]
  },
  {
   "cell_type": "markdown",
   "metadata": {},
   "source": [
    "## Get Information on the Pandas DataFrame Object"
   ]
  },
  {
   "cell_type": "code",
   "execution_count": 9,
   "metadata": {},
   "outputs": [
    {
     "name": "stdout",
     "output_type": "stream",
     "text": [
      "<class 'pandas.core.frame.DataFrame'>\n",
      "RangeIndex: 2162 entries, 0 to 2161\n",
      "Data columns (total 2 columns):\n",
      " #   Column   Non-Null Count  Dtype \n",
      "---  ------   --------------  ----- \n",
      " 0   content  1522 non-null   object\n",
      " 1   label    2162 non-null   int64 \n",
      "dtypes: int64(1), object(1)\n",
      "memory usage: 33.9+ KB\n"
     ]
    }
   ],
   "source": [
    "#print information about a DataFrame including the index dtype and columns, non-null values and memory usage.\n",
    "df_m.info()"
   ]
  },
  {
   "cell_type": "markdown",
   "metadata": {},
   "source": [
    "## Check if there are any null values in any columns"
   ]
  },
  {
   "cell_type": "code",
   "execution_count": 10,
   "metadata": {},
   "outputs": [
    {
     "data": {
      "text/plain": [
       "True"
      ]
     },
     "execution_count": 10,
     "metadata": {},
     "output_type": "execute_result"
    }
   ],
   "source": [
    "#Check if there are any null values in any columns\n",
    "df_m.isna().values.any()"
   ]
  },
  {
   "cell_type": "markdown",
   "metadata": {},
   "source": [
    "## Observation: NaN Values"
   ]
  },
  {
   "cell_type": "code",
   "execution_count": 11,
   "metadata": {},
   "outputs": [],
   "source": [
    "#remove the rows containing NaN values using the following method.\n",
    "df_m = df_m[df_m['content'].notna()]\n"
   ]
  },
  {
   "cell_type": "markdown",
   "metadata": {},
   "source": [
    "## Dimension of the data"
   ]
  },
  {
   "cell_type": "code",
   "execution_count": 12,
   "metadata": {},
   "outputs": [
    {
     "name": "stdout",
     "output_type": "stream",
     "text": [
      "Dimension of the data:  (1522, 2)\n",
      "\n",
      "No. of Rows: 1522\n",
      "No. of Columns: 2\n"
     ]
    }
   ],
   "source": [
    "print(\"Dimension of the data: \", df_m.shape)\n",
    "\n",
    "no_of_rows = df_m.shape[0]\n",
    "no_of_columns = df_m.shape[1]\n",
    "\n",
    "print(\"\\nNo. of Rows: %d\" % no_of_rows)\n",
    "print(\"No. of Columns: %d\" % no_of_columns)"
   ]
  },
  {
   "cell_type": "markdown",
   "metadata": {},
   "source": [
    "## Class distribution"
   ]
  },
  {
   "cell_type": "code",
   "execution_count": 13,
   "metadata": {},
   "outputs": [
    {
     "data": {
      "text/html": [
       "<div>\n",
       "<style scoped>\n",
       "    .dataframe tbody tr th:only-of-type {\n",
       "        vertical-align: middle;\n",
       "    }\n",
       "\n",
       "    .dataframe tbody tr th {\n",
       "        vertical-align: top;\n",
       "    }\n",
       "\n",
       "    .dataframe thead th {\n",
       "        text-align: right;\n",
       "    }\n",
       "</style>\n",
       "<table border=\"1\" class=\"dataframe\">\n",
       "  <thead>\n",
       "    <tr style=\"text-align: right;\">\n",
       "      <th></th>\n",
       "      <th>content</th>\n",
       "    </tr>\n",
       "    <tr>\n",
       "      <th>label</th>\n",
       "      <th></th>\n",
       "    </tr>\n",
       "  </thead>\n",
       "  <tbody>\n",
       "    <tr>\n",
       "      <th>0</th>\n",
       "      <td>125</td>\n",
       "    </tr>\n",
       "    <tr>\n",
       "      <th>1</th>\n",
       "      <td>1397</td>\n",
       "    </tr>\n",
       "  </tbody>\n",
       "</table>\n",
       "</div>"
      ],
      "text/plain": [
       "       content\n",
       "label         \n",
       "0          125\n",
       "1         1397"
      ]
     },
     "execution_count": 13,
     "metadata": {},
     "output_type": "execute_result"
    }
   ],
   "source": [
    "df_m.groupby('label').count()"
   ]
  },
  {
   "cell_type": "markdown",
   "metadata": {},
   "source": [
    "## Visualization of the Class Distribution"
   ]
  },
  {
   "cell_type": "code",
   "execution_count": 14,
   "metadata": {},
   "outputs": [
    {
     "name": "stderr",
     "output_type": "stream",
     "text": [
      "C:\\Users\\adars\\anaconda3\\lib\\site-packages\\seaborn\\_decorators.py:36: FutureWarning: Pass the following variables as keyword args: x, y. From version 0.12, the only valid positional argument will be `data`, and passing other arguments without an explicit keyword will result in an error or misinterpretation.\n",
      "  warnings.warn(\n"
     ]
    },
    {
     "data": {
      "image/png": "[encoded data removed]",
      "text/plain": [
       "<Figure size 576x432 with 1 Axes>"
      ]
     },
     "metadata": {},
     "output_type": "display_data"
    }
   ],
   "source": [
    "#Visualization of the Class Distribution\n",
    "\n",
    "label_counts = df_m.label.value_counts()\n",
    "plt.figure(figsize = (8,6))\n",
    "sns.barplot(label_counts.index, label_counts.values, alpha=0.9)\n",
    "\n",
    "plt.xticks(rotation = 'vertical')\n",
    "plt.xlabel('label', fontsize=12)\n",
    "plt.ylabel('Counts', fontsize=12)\n",
    "plt.show()"
   ]
  },
  {
   "cell_type": "code",
   "execution_count": null,
   "metadata": {},
   "outputs": [],
   "source": []
  },
  {
   "cell_type": "markdown",
   "metadata": {},
   "source": [
    "## Correlation Between the news length & the Class 1 or 0 (Real news /fake news)"
   ]
  },
  {
   "cell_type": "code",
   "execution_count": 15,
   "metadata": {},
   "outputs": [
    {
     "name": "stderr",
     "output_type": "stream",
     "text": [
      "C:\\Users\\adars\\AppData\\Local\\Temp\\ipykernel_10164\\3308828358.py:2: SettingWithCopyWarning: \n",
      "A value is trying to be set on a copy of a slice from a DataFrame.\n",
      "Try using .loc[row_indexer,col_indexer] = value instead\n",
      "\n",
      "See the caveats in the documentation: https://pandas.pydata.org/pandas-docs/stable/user_guide/indexing.html#returning-a-view-versus-a-copy\n",
      "  df_m['length'] = df_m['content'].map(lambda text: len(text))\n"
     ]
    },
    {
     "data": {
      "text/html": [
       "<div>\n",
       "<style scoped>\n",
       "    .dataframe tbody tr th:only-of-type {\n",
       "        vertical-align: middle;\n",
       "    }\n",
       "\n",
       "    .dataframe tbody tr th {\n",
       "        vertical-align: top;\n",
       "    }\n",
       "\n",
       "    .dataframe thead th {\n",
       "        text-align: right;\n",
       "    }\n",
       "</style>\n",
       "<table border=\"1\" class=\"dataframe\">\n",
       "  <thead>\n",
       "    <tr style=\"text-align: right;\">\n",
       "      <th></th>\n",
       "      <th>count</th>\n",
       "      <th>mean</th>\n",
       "      <th>std</th>\n",
       "      <th>min</th>\n",
       "      <th>25%</th>\n",
       "      <th>50%</th>\n",
       "      <th>75%</th>\n",
       "      <th>max</th>\n",
       "    </tr>\n",
       "    <tr>\n",
       "      <th>label</th>\n",
       "      <th></th>\n",
       "      <th></th>\n",
       "      <th></th>\n",
       "      <th></th>\n",
       "      <th></th>\n",
       "      <th></th>\n",
       "      <th></th>\n",
       "      <th></th>\n",
       "    </tr>\n",
       "  </thead>\n",
       "  <tbody>\n",
       "    <tr>\n",
       "      <th>0</th>\n",
       "      <td>125.0</td>\n",
       "      <td>441.048000</td>\n",
       "      <td>124.378251</td>\n",
       "      <td>36.0</td>\n",
       "      <td>488.0</td>\n",
       "      <td>492.0</td>\n",
       "      <td>494.0</td>\n",
       "      <td>500.0</td>\n",
       "    </tr>\n",
       "    <tr>\n",
       "      <th>1</th>\n",
       "      <td>1397.0</td>\n",
       "      <td>473.110236</td>\n",
       "      <td>73.065309</td>\n",
       "      <td>64.0</td>\n",
       "      <td>489.0</td>\n",
       "      <td>492.0</td>\n",
       "      <td>495.0</td>\n",
       "      <td>502.0</td>\n",
       "    </tr>\n",
       "  </tbody>\n",
       "</table>\n",
       "</div>"
      ],
      "text/plain": [
       "        count        mean         std   min    25%    50%    75%    max\n",
       "label                                                                  \n",
       "0       125.0  441.048000  124.378251  36.0  488.0  492.0  494.0  500.0\n",
       "1      1397.0  473.110236   73.065309  64.0  489.0  492.0  495.0  502.0"
      ]
     },
     "execution_count": 15,
     "metadata": {},
     "output_type": "execute_result"
    }
   ],
   "source": [
    "# Create a new column \"length\" the stores the length of the text on each row\n",
    "df_m['length'] = df_m['content'].map(lambda text: len(text))\n",
    "\n",
    "df_m.groupby('label').length.describe()"
   ]
  },
  {
   "cell_type": "markdown",
   "metadata": {},
   "source": [
    "## Visualize Length Distribution by Class"
   ]
  },
  {
   "cell_type": "code",
   "execution_count": 16,
   "metadata": {},
   "outputs": [
    {
     "data": {
      "text/plain": [
       "array([<AxesSubplot:title={'center':'0'}>,\n",
       "       <AxesSubplot:title={'center':'1'}>], dtype=object)"
      ]
     },
     "execution_count": 16,
     "metadata": {},
     "output_type": "execute_result"
    },
    {
     "data": {
      "image/png": "[encoded data removed]",
      "text/plain": [
       "<Figure size 864x432 with 2 Axes>"
      ]
     },
     "metadata": {},
     "output_type": "display_data"
    }
   ],
   "source": [
    "# Use a length threshold to visualize the distribution of length per class\n",
    "\n",
    "threshold = 600\n",
    "news_subset = df_m[df_m.length < threshold]\n",
    "news_subset.hist(column='length', by='label', bins=100, figsize=(12, 6))"
   ]
  },
  {
   "cell_type": "markdown",
   "metadata": {},
   "source": [
    "# Observation from the EDA\n",
    "We observe that only 8.21% of news is fake."
   ]
  },
  {
   "cell_type": "markdown",
   "metadata": {},
   "source": [
    "# Text Normalization by Lemmatization"
   ]
  },
  {
   "cell_type": "code",
   "execution_count": 17,
   "metadata": {},
   "outputs": [
    {
     "name": "stdout",
     "output_type": "stream",
     "text": [
      "CPU times: total: 4.66 s\n",
      "Wall time: 4.68 s\n"
     ]
    },
    {
     "name": "stderr",
     "output_type": "stream",
     "text": [
      "<timed exec>:3: SettingWithCopyWarning: \n",
      "A value is trying to be set on a copy of a slice from a DataFrame.\n",
      "Try using .loc[row_indexer,col_indexer] = value instead\n",
      "\n",
      "See the caveats in the documentation: https://pandas.pydata.org/pandas-docs/stable/user_guide/indexing.html#returning-a-view-versus-a-copy\n"
     ]
    }
   ],
   "source": [
    "%%time\n",
    "lemmatizer = WordNetLemmatizer()\n",
    "\n",
    "df_m['text_lemmatized'] = df_m['content'].map(lambda text: ' '.join(lemmatizer.lemmatize(w) for w in nltk.word_tokenize(text.lower())))"
   ]
  },
  {
   "cell_type": "markdown",
   "metadata": {},
   "source": [
    "# Observe a Random Document Before and After Normalization"
   ]
  },
  {
   "cell_type": "code",
   "execution_count": 19,
   "metadata": {},
   "outputs": [
    {
     "name": "stdout",
     "output_type": "stream",
     "text": [
      "\n",
      "News (no lemmatization):\n",
      "\n",
      "researchers say that sars cov-2s rapid spread is likely due to the movements of people with no or very mild symptoms namely those who are unaware that they even have the virus. that is why social distancing is such an important containment measure they explain. the cdc recommend that all people wear cloth face masks in public places where it is difficult to maintain a 6-foot distance from others. this will help slow the spread of the virus from asymptomatic people or people who do not know. \n",
      "\n",
      "Lemmatized News:\n",
      "\n",
      "researcher say that sars cov-2s rapid spread is likely due to the movement of people with no or very mild symptom namely those who are unaware that they even have the virus . that is why social distancing is such an important containment measure they explain . the cdc recommend that all people wear cloth face mask in public place where it is difficult to maintain a 6-foot distance from others . this will help slow the spread of the virus from asymptomatic people or people who do not know .\n"
     ]
    }
   ],
   "source": [
    "print(\"\\nNews (no lemmatization):\\n\")\n",
    "print(df_m['content'][369])\n",
    "print(\"\\nLemmatized News:\\n\")\n",
    "print(df_m['text_lemmatized'][369])"
   ]
  },
  {
   "cell_type": "markdown",
   "metadata": {},
   "source": [
    "# Create a Separate Feature Set (Data Matrix X) and Target (1D Array y)"
   ]
  },
  {
   "cell_type": "code",
   "execution_count": 20,
   "metadata": {},
   "outputs": [
    {
     "name": "stdout",
     "output_type": "stream",
     "text": [
      "Data Matrix (X) Shape:  (1522,)\n",
      "Label array (y) Shape:  (1522,)\n",
      "\n",
      "Data Matrix (X) Type:  object\n",
      "Label array (y) Type:  int64\n",
      "\n",
      "A random email:\n",
      "\n",
      "an early study indicated an antimalarial drug might be effective in treating covid-19 but expert say more research is needed and people should nt use off label medication on their own . kay nietfeld picture alliance via getty image all data and statistic are based on publicly available data at the time of publication . some information may be out of date . visit our coronavirus hub and follow our live update page for the most recent information on the covid-19 outbreak . when a study wa publ .\n"
     ]
    }
   ],
   "source": [
    "X_b= df_m[\"text_lemmatized\"] # DataFrame containing the target \n",
    "y_b= df_m['label'] # DataFrame containing the features excluding the target\n",
    "\n",
    "'''\n",
    "Convert X_b & y_b into Arrays\n",
    "Use the NumPy asarray() method to convert the Pandas data frame object X_b and y_b into numpy arrays.\n",
    "'''\n",
    "\n",
    "X_b= np.asarray(X_b) # Data Matrix containing all features excluding the target\n",
    "y_b = np.asarray(y_b) # 1D target array\n",
    "\n",
    "print(\"Data Matrix (X) Shape: \", X_b.shape)\n",
    "print(\"Label array (y) Shape: \", y_b.shape)\n",
    "\n",
    "print(\"\\nData Matrix (X) Type: \", X_b.dtype)\n",
    "print(\"Label array (y) Type: \", y_b.dtype)\n",
    "\n",
    "# Read a random \"news\" from X_b\n",
    "print(\"\\nA random email:\\n\")\n",
    "print(X_b[7])"
   ]
  },
  {
   "cell_type": "markdown",
   "metadata": {},
   "source": [
    "# Create Train and Test Dataset"
   ]
  },
  {
   "cell_type": "code",
   "execution_count": 21,
   "metadata": {},
   "outputs": [],
   "source": [
    "X_train_b, X_test_b, y_train_b, y_test_b = train_test_split(X_b, y_b, test_size=0.2, random_state=42)\n"
   ]
  },
  {
   "cell_type": "markdown",
   "metadata": {},
   "source": [
    "# Part B Experiment 3"
   ]
  },
  {
   "cell_type": "markdown",
   "metadata": {},
   "source": [
    "# Use CountVectorizer() for Feature Vectorization :using binary features"
   ]
  },
  {
   "cell_type": "code",
   "execution_count": 22,
   "metadata": {},
   "outputs": [
    {
     "name": "stdout",
     "output_type": "stream",
     "text": [
      "\n",
      "Count Vectorized Training Data Matrix Dimension:  (1217, 7219)\n",
      "\n",
      "Size of Vocabulary:  7219\n",
      "\n",
      "Count Vectorized Test Data Matrix Dimension:  (305, 7219)\n",
      "CPU times: total: 203 ms\n",
      "Wall time: 205 ms\n"
     ]
    }
   ],
   "source": [
    "%%time\n",
    "\n",
    "'''\n",
    "Create a count vectorizer object using one of the following two techniques\n",
    "For each technique, the stop word removal attribute is activated (which can be removed if needed)\n",
    "Use one of the techniques (comment out the other one)\n",
    "'''\n",
    "\n",
    "count_vect = CountVectorizer(binary=True, stop_words='english') # uses binary counts for vectorization\n",
    "\n",
    "'''\n",
    "Using the CountVectorizer object, create a matrix representation of the training documents\n",
    "Each row represents a single document\n",
    "Each column represents the binary count for each feature\n",
    "'''\n",
    "X_train_count_vectorized_features = count_vect.fit_transform(X_train_b).todense()\n",
    "\n",
    "print(\"\\nCount Vectorized Training Data Matrix Dimension: \", X_train_count_vectorized_features.shape)\n",
    "print(\"\\nSize of Vocabulary: \", len(count_vect.vocabulary_))\n",
    "\n",
    "\n",
    "# Using the CountVectorizer object, create a matrix representation of the test documents\n",
    "X_test_count_vectorized_features = count_vect.transform(X_test_b).todense()\n",
    "print(\"\\nCount Vectorized Test Data Matrix Dimension: \", X_test_count_vectorized_features.shape)\n",
    "\n",
    "\n",
    "# Convert the feature matrices into numpy ndarrays\n",
    "X_train_count_vectorized_features = np.asarray(X_train_count_vectorized_features) \n",
    "X_test_count_vectorized_features = np.asarray(X_test_count_vectorized_features) "
   ]
  },
  {
   "cell_type": "markdown",
   "metadata": {},
   "source": [
    "## Scale the Features"
   ]
  },
  {
   "cell_type": "code",
   "execution_count": 23,
   "metadata": {},
   "outputs": [],
   "source": [
    "scaler = StandardScaler()\n",
    "\n",
    "# Fit on training set only\n",
    "scaler.fit(X_train_count_vectorized_features)\n",
    "\n",
    "# Apply transform to both the training set and the test set\n",
    "X_train_count_vectorized_features = scaler.transform(X_train_count_vectorized_features)\n",
    "X_test_count_vectorized_features = scaler.transform(X_test_count_vectorized_features)"
   ]
  },
  {
   "cell_type": "markdown",
   "metadata": {},
   "source": [
    "## Model Selection by Hyperparameter Tuning"
   ]
  },
  {
   "cell_type": "code",
   "execution_count": 25,
   "metadata": {},
   "outputs": [
    {
     "name": "stdout",
     "output_type": "stream",
     "text": [
      "Fitting 5 folds for each of 54 candidates, totalling 270 fits\n",
      "Best Score: 0.958728\n",
      "\n",
      "\n"
     ]
    }
   ],
   "source": [
    "# The param_grid tells Scikit-Learn to evaluate all combinations of the hyperparameter values\n",
    "param_grid = {'n_neighbors': np.arange(1,10), 'p': [1, 2, 10,], \n",
    "              'weights': [\"uniform\", \"distance\"]}\n",
    "\n",
    "knn_clf = KNeighborsClassifier()\n",
    "\n",
    "knn_cv = GridSearchCV(knn_clf, param_grid, scoring='f1', cv=5, verbose=1, n_jobs=-1)\n",
    "knn_cv.fit(X_train_count_vectorized_features,y_train_b)\n",
    "\n",
    "\n",
    "params_optimal_knn = knn_cv.best_params_\n",
    "\n",
    "print(\"Best Score: %f\" % knn_cv.best_score_)\n",
    "print(\"\\n\")\n"
   ]
  },
  {
   "cell_type": "code",
   "execution_count": 26,
   "metadata": {},
   "outputs": [
    {
     "name": "stdout",
     "output_type": "stream",
     "text": [
      "Optimal Hyperparameter Values:  {'n_neighbors': 5, 'p': 2, 'weights': 'distance'}\n",
      "\n",
      "\n"
     ]
    }
   ],
   "source": [
    "print(\"Optimal Hyperparameter Values: \", params_optimal_knn)\n",
    "print(\"\\n\")\n"
   ]
  },
  {
   "cell_type": "markdown",
   "metadata": {},
   "source": [
    "## Train the Model"
   ]
  },
  {
   "cell_type": "code",
   "execution_count": 69,
   "metadata": {},
   "outputs": [
    {
     "data": {
      "text/plain": [
       "KNeighborsClassifier(weights='distance')"
      ]
     },
     "execution_count": 69,
     "metadata": {},
     "output_type": "execute_result"
    }
   ],
   "source": [
    "#use the optimal hyperparameter values to train a new model, as follows.\n",
    "\n",
    "knn = KNeighborsClassifier(**params_optimal_knn)\n",
    "\n",
    "knn.fit(X_train_count_vectorized_features, y_train_b)\n",
    "\n"
   ]
  },
  {
   "cell_type": "markdown",
   "metadata": {},
   "source": [
    "## Evaluate the Model on Test Data"
   ]
  },
  {
   "cell_type": "code",
   "execution_count": 70,
   "metadata": {},
   "outputs": [
    {
     "name": "stdout",
     "output_type": "stream",
     "text": [
      "\n",
      "Experiment 1 Training Accuracy:  1.0\n",
      "Experiment 1 Testng Accuracy:  0.9344262295081968\n",
      "              precision    recall  f1-score   support\n",
      "\n",
      "     class 0       0.83      0.21      0.33        24\n",
      "     class 1       0.94      1.00      0.97       281\n",
      "\n",
      "    accuracy                           0.93       305\n",
      "   macro avg       0.88      0.60      0.65       305\n",
      "weighted avg       0.93      0.93      0.92       305\n",
      "\n",
      "\n",
      "Confusion Matrix (Test Data):\n",
      " [[  5  19]\n",
      " [  1 280]]\n"
     ]
    }
   ],
   "source": [
    "y_train_predicted = knn.predict(X_train_count_vectorized_features)\n",
    "\n",
    "train_accuracy_knn = np.mean(y_train_predicted == y_train_b)\n",
    "print(\"\\nExperiment 1 Training Accuracy: \", train_accuracy_knn)\n",
    "\n",
    "# The accuracy of the model\n",
    "y_test_predicted = knn.predict(X_test_count_vectorized_features)\n",
    "test_accuracy_knn = knn.score(X_test_count_vectorized_features, y_test_b)\n",
    "print(\"Experiment 1 Testng Accuracy: \", test_accuracy_knn)\n",
    "\n",
    "\n",
    "target_names = ['class 0', 'class 1']\n",
    "print(classification_report(y_test_b, y_test_predicted, target_names=target_names))\n",
    "\n",
    "# Confusion Matrix\n",
    "print(\"\\nConfusion Matrix (Test Data):\\n\", confusion_matrix(y_test_b, y_test_predicted))\n"
   ]
  },
  {
   "cell_type": "markdown",
   "metadata": {},
   "source": [
    "# Part B Experiment 4"
   ]
  },
  {
   "cell_type": "markdown",
   "metadata": {},
   "source": [
    "# Use CountVectorizer() for Feature Vectorization using frequency of the feature"
   ]
  },
  {
   "cell_type": "code",
   "execution_count": 30,
   "metadata": {},
   "outputs": [
    {
     "name": "stdout",
     "output_type": "stream",
     "text": [
      "\n",
      "Count Vectorized Training Data Matrix Dimension:  (1217, 7219)\n",
      "\n",
      "Size of Vocabulary:  7219\n",
      "\n",
      "Count Vectorized Test Data Matrix Dimension:  (305, 7219)\n",
      "CPU times: total: 109 ms\n",
      "Wall time: 109 ms\n"
     ]
    }
   ],
   "source": [
    "%%time\n",
    "\n",
    "'''\n",
    "Create a count vectorizer object using one of the following two techniques\n",
    "For each technique, the stop word removal attribute is activated (which can be removed if needed)\n",
    "Use one of the techniques (comment out the other one)\n",
    "'''\n",
    "\n",
    "count_vect_f = CountVectorizer(stop_words='english') # uses frequency counts for vectorization\n",
    "\n",
    "'''\n",
    "Using the CountVectorizer object, create a matrix representation of the training documents\n",
    "Each row represents a single document\n",
    "Each column represents the binary count for each feature\n",
    "'''\n",
    "X_train_count_vectorized_features_f = count_vect_f.fit_transform(X_train_b).todense()\n",
    "\n",
    "print(\"\\nCount Vectorized Training Data Matrix Dimension: \", X_train_count_vectorized_features_f.shape)\n",
    "print(\"\\nSize of Vocabulary: \", len(count_vect_f.vocabulary_))\n",
    "\n",
    "\n",
    "# Using the CountVectorizer object, create a matrix representation of the test documents\n",
    "X_test_count_vectorized_features_f = count_vect_f.transform(X_test_b).todense()\n",
    "print(\"\\nCount Vectorized Test Data Matrix Dimension: \", X_test_count_vectorized_features_f.shape)\n",
    "\n",
    "\n",
    "# Convert the feature matrices into numpy ndarrays\n",
    "X_train_count_vectorized_features_f = np.asarray(X_train_count_vectorized_features_f) \n",
    "X_test_count_vectorized_features_f = np.asarray(X_test_count_vectorized_features_f) "
   ]
  },
  {
   "cell_type": "markdown",
   "metadata": {},
   "source": [
    "## Scale the Features"
   ]
  },
  {
   "cell_type": "code",
   "execution_count": 31,
   "metadata": {},
   "outputs": [],
   "source": [
    "scaler = StandardScaler()\n",
    "\n",
    "# Fit on training set only\n",
    "scaler.fit(X_train_count_vectorized_features_f)\n",
    "\n",
    "# Apply transform to both the training set and the test set\n",
    "X_train_count_vectorized_features_f = scaler.transform(X_train_count_vectorized_features_f)\n",
    "X_test_count_vectorized_features_f = scaler.transform(X_test_count_vectorized_features_f)"
   ]
  },
  {
   "cell_type": "markdown",
   "metadata": {},
   "source": [
    "## Model Selection by Hyperparameter Tuning"
   ]
  },
  {
   "cell_type": "code",
   "execution_count": 32,
   "metadata": {},
   "outputs": [
    {
     "name": "stdout",
     "output_type": "stream",
     "text": [
      "Fitting 5 folds for each of 54 candidates, totalling 270 fits\n",
      "Best Score: 0.958315\n",
      "Optimal Hyperparameter Values:  {'n_neighbors': 7, 'p': 1, 'weights': 'distance'}\n",
      "\n",
      "\n"
     ]
    }
   ],
   "source": [
    "# The param_grid tells Scikit-Learn to evaluate all combinations of the hyperparameter values\n",
    "param_grid_f = {'n_neighbors': np.arange(1,10), 'p': [1, 2, 10], \n",
    "              'weights': [\"uniform\", \"distance\"]}\n",
    "\n",
    "knn_clf_f = KNeighborsClassifier()\n",
    "\n",
    "knn_cv_f = GridSearchCV(knn_clf_f, param_grid_f, scoring='f1', cv=5, verbose=1, n_jobs=-1)\n",
    "knn_cv_f.fit(X_train_count_vectorized_features_f,y_train_b)\n",
    "\n",
    "\n",
    "params_optimal_knn_f = knn_cv_f.best_params_\n",
    "\n",
    "print(\"Best Score: %f\" % knn_cv_f.best_score_)\n",
    "print(\"Optimal Hyperparameter Values: \", params_optimal_knn_f)\n",
    "print(\"\\n\")\n"
   ]
  },
  {
   "cell_type": "markdown",
   "metadata": {},
   "source": [
    "## Train the Model"
   ]
  },
  {
   "cell_type": "code",
   "execution_count": 74,
   "metadata": {},
   "outputs": [
    {
     "data": {
      "text/plain": [
       "KNeighborsClassifier(n_neighbors=7, p=1, weights='distance')"
      ]
     },
     "execution_count": 74,
     "metadata": {},
     "output_type": "execute_result"
    }
   ],
   "source": [
    "#use the optimal hyperparameter values to train a new model, as follows.\n",
    "\n",
    "knn_f = KNeighborsClassifier(**params_optimal_knn_f)\n",
    "\n",
    "knn_f.fit(X_train_count_vectorized_features_f, y_train_b)\n",
    "\n"
   ]
  },
  {
   "cell_type": "markdown",
   "metadata": {},
   "source": [
    "## Evaluate the Model on Test Data"
   ]
  },
  {
   "cell_type": "code",
   "execution_count": 75,
   "metadata": {},
   "outputs": [
    {
     "name": "stdout",
     "output_type": "stream",
     "text": [
      "\n",
      "Experiment 4 Training Accuracy:  0.9991783073130649\n",
      "Experiment 4 Testng Accuracy:  0.9377049180327869\n",
      "              precision    recall  f1-score   support\n",
      "\n",
      "     class 0       1.00      0.21      0.34        24\n",
      "     class 1       0.94      1.00      0.97       281\n",
      "\n",
      "    accuracy                           0.94       305\n",
      "   macro avg       0.97      0.60      0.66       305\n",
      "weighted avg       0.94      0.94      0.92       305\n",
      "\n",
      "\n",
      "Confusion Matrix (Test Data):\n",
      " [[  5  19]\n",
      " [  0 281]]\n"
     ]
    }
   ],
   "source": [
    "y_train_predicted_f = knn_f.predict(X_train_count_vectorized_features_f)\n",
    "\n",
    "train_accuracy_knn_f = np.mean(y_train_predicted_f == y_train_b)\n",
    "print(\"\\nExperiment 4 Training Accuracy: \", train_accuracy_knn_f)\n",
    "\n",
    "#The accuracy of the model\n",
    "y_test_predicted_f = knn_f.predict(X_test_count_vectorized_features_f)\n",
    "test_accuracy_knn_f = knn_f.score(X_test_count_vectorized_features_f, y_test_b)\n",
    "print(\"Experiment 4 Testng Accuracy: \", test_accuracy_knn_f)\n",
    "\n",
    "target_names_f = ['class 0', 'class 1']\n",
    "print(classification_report(y_test_b, y_test_predicted_f, target_names=target_names))\n",
    "\n",
    "#Confusion Matrix\n",
    "print(\"\\nConfusion Matrix (Test Data):\\n\", confusion_matrix(y_test_b, y_test_predicted_f))\n"
   ]
  },
  {
   "cell_type": "markdown",
   "metadata": {},
   "source": [
    "# Part B Experiment 5"
   ]
  },
  {
   "cell_type": "markdown",
   "metadata": {},
   "source": [
    "## Use TfidfVectorizer() for TF-IDF Feature Vectorization"
   ]
  },
  {
   "cell_type": "code",
   "execution_count": 35,
   "metadata": {},
   "outputs": [
    {
     "name": "stdout",
     "output_type": "stream",
     "text": [
      "\n",
      "Count Vectorized Training Data Matrix (TF-IDF) Dimension:  (1217, 7219)\n",
      "\n",
      "Size of Vocabulary:  7219\n",
      "\n",
      "Count Vectorized Test Data Matrix (TF-IDF) Dimension:  (305, 7219)\n",
      "CPU times: total: 109 ms\n",
      "Wall time: 129 ms\n"
     ]
    }
   ],
   "source": [
    "%%time\n",
    "\n",
    "# Create a TF-IDF vectorizer object \n",
    "# The stop word removal attribute is activated (which can be removed if needed)\n",
    "tfidf_vect = TfidfVectorizer(stop_words='english')\n",
    "\n",
    "\n",
    "# Using the TfidfVectorizer object, create a matrix representation of the training documents\n",
    "# Each row represents a single document\n",
    "# Each column represents the binary count for each feature\n",
    "X_train_tfidf_vectorized_features = tfidf_vect.fit_transform(X_train_b).todense()\n",
    "\n",
    "print(\"\\nCount Vectorized Training Data Matrix (TF-IDF) Dimension: \", X_train_tfidf_vectorized_features.shape)\n",
    "print(\"\\nSize of Vocabulary: \", len(tfidf_vect.vocabulary_))\n",
    "\n",
    "\n",
    "# Using the CountVectorizer object, create a matrix representation of the test documents\n",
    "X_test_tfidf_vectorized_features = tfidf_vect.transform(X_test_b).todense()\n",
    "print(\"\\nCount Vectorized Test Data Matrix (TF-IDF) Dimension: \", X_test_tfidf_vectorized_features.shape)\n",
    "\n",
    "\n",
    "# Convert the feature matrices into numpy ndarrays\n",
    "X_train_tfidf_vectorized_features = np.asarray(X_train_tfidf_vectorized_features) \n",
    "X_test_tfidf_vectorized_features = np.asarray(X_test_tfidf_vectorized_features)"
   ]
  },
  {
   "cell_type": "markdown",
   "metadata": {},
   "source": [
    "## Scale the Features"
   ]
  },
  {
   "cell_type": "code",
   "execution_count": 37,
   "metadata": {},
   "outputs": [],
   "source": [
    "scaler = StandardScaler()\n",
    "\n",
    "# Fit on training set only\n",
    "scaler.fit(X_train_tfidf_vectorized_features)\n",
    "\n",
    "# Apply transform to both the training set and the test set\n",
    "X_train_tfidf_vectorized_features = scaler.transform(X_train_tfidf_vectorized_features)\n",
    "X_test_tfidf_vectorized_features = scaler.transform(X_test_tfidf_vectorized_features)"
   ]
  },
  {
   "cell_type": "markdown",
   "metadata": {},
   "source": [
    "## Model Selection by Hyperparameter Tuning"
   ]
  },
  {
   "cell_type": "code",
   "execution_count": 39,
   "metadata": {},
   "outputs": [
    {
     "name": "stdout",
     "output_type": "stream",
     "text": [
      "Fitting 5 folds for each of 54 candidates, totalling 270 fits\n",
      "Best Score: 0.959140\n",
      "Optimal Hyperparameter Values:  {'n_neighbors': 1, 'p': 2, 'weights': 'uniform'}\n",
      "\n",
      "\n"
     ]
    }
   ],
   "source": [
    "# The param_grid tells Scikit-Learn to evaluate all combinations of the hyperparameter values\n",
    "param_grid_t = {'n_neighbors': np.arange(1,10), 'p': [1, 2, 10], \n",
    "              'weights': [\"uniform\", \"distance\"]}\n",
    "\n",
    "knn_clf_t = KNeighborsClassifier()\n",
    "\n",
    "knn_cv_t = GridSearchCV(knn_clf_t, param_grid_t, scoring='f1', cv=5, verbose=1, n_jobs=-1)\n",
    "knn_cv_t.fit(X_train_tfidf_vectorized_features,y_train_b)\n",
    "\n",
    "params_optimal_knn_t = knn_cv_t.best_params_\n",
    "\n",
    "print(\"Best Score: %f\" % knn_cv_t.best_score_)\n",
    "print(\"Optimal Hyperparameter Values: \", params_optimal_knn_t)\n",
    "print(\"\\n\")"
   ]
  },
  {
   "cell_type": "markdown",
   "metadata": {},
   "source": [
    "## Train the Model"
   ]
  },
  {
   "cell_type": "code",
   "execution_count": 76,
   "metadata": {},
   "outputs": [
    {
     "data": {
      "text/plain": [
       "KNeighborsClassifier(n_neighbors=1)"
      ]
     },
     "execution_count": 76,
     "metadata": {},
     "output_type": "execute_result"
    }
   ],
   "source": [
    "#use the optimal hyperparameter values to train a new model, as follows.\n",
    "\n",
    "knn_t = KNeighborsClassifier(**params_optimal_knn_t)\n",
    "\n",
    "knn_t.fit(X_train_tfidf_vectorized_features, y_train_b)\n",
    "\n"
   ]
  },
  {
   "cell_type": "markdown",
   "metadata": {},
   "source": [
    "## Evaluate the Model on Test Data"
   ]
  },
  {
   "cell_type": "code",
   "execution_count": 77,
   "metadata": {},
   "outputs": [
    {
     "name": "stdout",
     "output_type": "stream",
     "text": [
      "\n",
      "Experiment 5 Training Accuracy:  1.0\n",
      "Experiment 5 Testng Accuracy:  0.9377049180327869\n",
      "              precision    recall  f1-score   support\n",
      "\n",
      "     class 0       1.00      0.21      0.34        24\n",
      "     class 1       0.94      1.00      0.97       281\n",
      "\n",
      "    accuracy                           0.94       305\n",
      "   macro avg       0.97      0.60      0.66       305\n",
      "weighted avg       0.94      0.94      0.92       305\n",
      "\n",
      "\n",
      "Confusion Matrix (Test Data):\n",
      " [[  5  19]\n",
      " [  0 281]]\n"
     ]
    }
   ],
   "source": [
    "y_train_predicted_t = knn_t.predict(X_train_tfidf_vectorized_features)\n",
    "\n",
    "train_accuracy_knn_t = np.mean(y_train_predicted_t == y_train_b)\n",
    "print(\"\\nExperiment 5 Training Accuracy: \", train_accuracy_knn_t)\n",
    "\n",
    "#The accuracy of the model\n",
    "y_test_predicted_t = knn_t.predict(X_test_tfidf_vectorized_features)\n",
    "test_accuracy_knn_t = knn_t.score(X_test_tfidf_vectorized_features, y_test_b)\n",
    "print(\"Experiment 5 Testng Accuracy: \", test_accuracy_knn_t)\n",
    "\n",
    "target_names_t = ['class 0', 'class 1']\n",
    "print(classification_report(y_test_b, y_test_predicted_t, target_names=target_names))\n",
    "\n",
    "#Confusion Matrix\n",
    "print(\"\\nConfusion Matrix (Test Data):\\n\", confusion_matrix(y_test_b, y_test_predicted_t))\n"
   ]
  },
  {
   "cell_type": "markdown",
   "metadata": {},
   "source": [
    "# Experiment 6"
   ]
  },
  {
   "cell_type": "markdown",
   "metadata": {},
   "source": [
    "# The Precision-Recall (PR) curve for the model chosen from experiment 4"
   ]
  },
  {
   "cell_type": "code",
   "execution_count": 68,
   "metadata": {},
   "outputs": [
    {
     "name": "stdout",
     "output_type": "stream",
     "text": [
      "Precisions:  [0.91700904 0.92072667 0.92066116 ... 0.98850575 0.98837209 1.        ]\n",
      "\n",
      "Recalls:  [1.         0.99910394 0.99820789 ... 0.07706093 0.07616487 0.        ]\n",
      "\n",
      "Thresholds:  [0.         0.53388582 0.56420257 ... 0.92352196 0.92856961 1.        ]\n"
     ]
    },
    {
     "data": {
      "image/png": "[encoded data removed]",
      "text/plain": [
       "<Figure size 720x432 with 1 Axes>"
      ]
     },
     "metadata": {},
     "output_type": "display_data"
    }
   ],
   "source": [
    "#The Precision-Recall (PR) curve \n",
    "\n",
    "# Technique 1\n",
    "y_scores2 = cross_val_predict(knn_f, X_train_count_vectorized_features_f, y_train_b, method=\"predict_proba\", cv=5)[:, 1]\n",
    "\n",
    "\n",
    "precisions2, recalls2, thresholds2 = precision_recall_curve(y_train_b, y_scores2)\n",
    "\n",
    "print(\"Precisions: \", precisions2)\n",
    "print(\"\\nRecalls: \", recalls2)\n",
    "print(\"\\nThresholds: \", thresholds2)\n",
    "\n",
    "\n",
    "fig = plt.figure(figsize=(10, 6))\n",
    "def plot_precision_recall_vs_threshold(precisions2, recalls2, thresholds2): \n",
    "    plt.plot(thresholds2, precisions2[:-1], \"b--\",  linewidth=8, label=\"Precision\") \n",
    "    plt.plot(thresholds2, recalls2[:-1], \"g-\",  linewidth=3, label=\"Recall\") \n",
    "    plt.xlabel(\"Threshold\")\n",
    "    plt.legend(loc=\"lower right\")\n",
    "    plt.title('Precision-Recall Curve')\n",
    "    #plt.xlim([0, 1])\n",
    "    plt.ylim([0, 1.1])\n",
    "\n",
    "plot_precision_recall_vs_threshold(precisions2, recalls2, thresholds2)\n",
    "plt.show()\n",
    "\n"
   ]
  },
  {
   "cell_type": "markdown",
   "metadata": {},
   "source": [
    "### A threshold that increases the test recall for the misinformation class, but does not decrease the test precision much for the same class"
   ]
  },
  {
   "cell_type": "code",
   "execution_count": 67,
   "metadata": {},
   "outputs": [
    {
     "name": "stdout",
     "output_type": "stream",
     "text": [
      "Performance Measures Based on the Optimal Threshold (from Precision-Recall Curve):\n",
      "\n",
      "Training Accuracy after using optimal threshold:  0.9219391947411668\n",
      "\n",
      "Test Accuracy after using optimal threshold:  0.9475409836065574\n",
      "\n",
      "Precision (Threshold 0.69) = 0.952218\n",
      "Recall (Threshold 0.69) = 0.992883\n",
      "F1 Score = (Threshold 0.69) = 0.972125\n",
      "Confusion Matrix (Threshold 0.69)\n",
      "[[ 10  14]\n",
      " [  2 279]]\n",
      "              precision    recall  f1-score   support\n",
      "\n",
      "     class 0       0.83      0.42      0.56        24\n",
      "     class 1       0.95      0.99      0.97       281\n",
      "\n",
      "    accuracy                           0.95       305\n",
      "   macro avg       0.89      0.70      0.76       305\n",
      "weighted avg       0.94      0.95      0.94       305\n",
      "\n"
     ]
    }
   ],
   "source": [
    "print(\"Performance Measures Based on the Optimal Threshold (from Precision-Recall Curve):\")\n",
    "\n",
    "# Precision, Recall, F1 Score and Confusion Matrix for different threshold\n",
    "# t = threshold_optimal # optimal threshold from precision-recall curve \n",
    "\n",
    "t = 0.69\n",
    "\n",
    "# Compute predictions based on new t by using the following method:\n",
    "#  - Get the probability of the positive class from the 2nd column [:, 1]\n",
    "#  - If that probability is greater than or equal to t, then the test data belongs to the positive class\n",
    "y_train_predicted_new = (cross_val_predict(knn_f, X_train_count_vectorized_features_f, y_train_b, method=\"predict_proba\", cv=3)[:,1] > t).astype(int)\n",
    "\n",
    "train_accuracy_knn_new = np.mean(y_train_predicted_new == y_train_b)\n",
    "\n",
    "print(\"\\nTraining Accuracy after using optimal threshold: \", train_accuracy_knn_new)\n",
    "\n",
    "y_test_predicted_new = (knn_f.predict_proba(X_test_count_vectorized_features_f)[:,1] > t).astype(int)\n",
    "\n",
    "test_accuracy_knn_new = np.mean(y_test_b == y_test_predicted_new)\n",
    "\n",
    "print(\"\\nTest Accuracy after using optimal threshold: \", test_accuracy_knn_new)\n",
    "\n",
    "\n",
    "precision_test_new = precision_score(y_test_b, y_test_predicted_new) \n",
    "print(\"\\nPrecision (Threshold %.2f) = %f\" % (t, precision_test_new))\n",
    "\n",
    "recall_new = recall_score(y_test_b, y_test_predicted_new)\n",
    "print(\"Recall (Threshold %.2f) = %f\" % (t, recall_new))\n",
    "\n",
    "\n",
    "f1_new = f1_score(y_test_b, y_test_predicted_new)\n",
    "print(\"F1 Score = (Threshold %.2f) = %f\" % (t, f1_new))\n",
    "\n",
    "print(\"Confusion Matrix (Threshold %.2f)\" %  t) \n",
    "print(confusion_matrix(y_test_b, y_test_predicted_new))\n",
    "\n",
    "target_names_f = ['class 0', 'class 1']\n",
    "print(classification_report(y_test_b, y_test_predicted_new, target_names=target_names))\n"
   ]
  },
  {
   "cell_type": "code",
   "execution_count": null,
   "metadata": {},
   "outputs": [],
   "source": []
  }
 ],
 "metadata": {
  "kernelspec": {
   "display_name": "Python 3 (ipykernel)",
   "language": "python",
   "name": "python3"
  },
  "language_info": {
   "codemirror_mode": {
    "name": "ipython",
    "version": 3
   },
   "file_extension": ".py",
   "mimetype": "text/x-python",
   "name": "python",
   "nbconvert_exporter": "python",
   "pygments_lexer": "ipython3",
   "version": "3.9.19"
  }
 },
 "nbformat": 4,
 "nbformat_minor": 4
}
